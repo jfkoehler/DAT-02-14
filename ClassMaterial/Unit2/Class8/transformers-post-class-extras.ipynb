{
 "cells": [
  {
   "cell_type": "markdown",
   "metadata": {},
   "source": [
    "<img src=\"http://imgur.com/1ZcRyrc.png\" style=\"float: left; margin: 20px; height: 55px\"> \n",
    "\n",
    "# Transformers & Preprocessing\n",
    "\n",
    "_Author: Jeff Hale_\n",
    "\n",
    "![transformer](images/transformer.jpeg)\n",
    "\n",
    "Image sources: pixabay.com\n",
    "\n",
    "---\n",
    "\n",
    "### Learning Objectives\n",
    "- Understand how to use which scikit-learn transformers\n",
    "- Fill missing values using SimpleImputer\n",
    "- Encode categorical features with OneHotEncoder\n",
    "- Standardize features with StandardScaler\n",
    "- Add new features with PolynomialFeatures\n",
    "- Reduce the number of features with RFE \n",
    "\n",
    "\n",
    "### Prerequisites\n",
    "- Familiarity with Python and pandas\n",
    "- Understand the machine learning workflow\n",
    "- Scikit-learn basics"
   ]
  },
  {
   "cell_type": "markdown",
   "metadata": {},
   "source": [
    "You have future lessons on feature engineering and interpetation. This lesson is designed to give you familiarity with scikit-learn transformers and the tools you need to create models that perform well."
   ]
  },
  {
   "cell_type": "markdown",
   "metadata": {},
   "source": [
    "## Imports"
   ]
  },
  {
   "cell_type": "code",
   "execution_count": 2,
   "metadata": {},
   "outputs": [
    {
     "data": {
      "text/plain": [
       "'1.0'"
      ]
     },
     "execution_count": 2,
     "metadata": {},
     "output_type": "execute_result"
    }
   ],
   "source": [
    "import matplotlib.pyplot as plt\n",
    "import seaborn as sns\n",
    "import numpy as np\n",
    "import pandas as pd\n",
    "\n",
    "from sklearn import __version__\n",
    "__version__"
   ]
  },
  {
   "cell_type": "markdown",
   "metadata": {},
   "source": [
    "#### Load modified tips dataset\n",
    "\n",
    "One waiter's tips. Data dictionary [here](https://vincentarelbundock.github.io/Rdatasets/doc/reshape2/tips.html)."
   ]
  },
  {
   "cell_type": "code",
   "execution_count": 3,
   "metadata": {},
   "outputs": [],
   "source": [
    "tips = pd.read_csv('data/tips_miss.csv', index_col=0)"
   ]
  },
  {
   "cell_type": "markdown",
   "metadata": {},
   "source": [
    "#### Peek and get info"
   ]
  },
  {
   "cell_type": "code",
   "execution_count": 4,
   "metadata": {},
   "outputs": [
    {
     "data": {
      "text/html": [
       "<div>\n",
       "<style scoped>\n",
       "    .dataframe tbody tr th:only-of-type {\n",
       "        vertical-align: middle;\n",
       "    }\n",
       "\n",
       "    .dataframe tbody tr th {\n",
       "        vertical-align: top;\n",
       "    }\n",
       "\n",
       "    .dataframe thead th {\n",
       "        text-align: right;\n",
       "    }\n",
       "</style>\n",
       "<table border=\"1\" class=\"dataframe\">\n",
       "  <thead>\n",
       "    <tr style=\"text-align: right;\">\n",
       "      <th></th>\n",
       "      <th>total_bill</th>\n",
       "      <th>tip</th>\n",
       "      <th>sex</th>\n",
       "      <th>smoker</th>\n",
       "      <th>day</th>\n",
       "      <th>time</th>\n",
       "      <th>size</th>\n",
       "    </tr>\n",
       "  </thead>\n",
       "  <tbody>\n",
       "    <tr>\n",
       "      <th>0</th>\n",
       "      <td>16.99</td>\n",
       "      <td>1.01</td>\n",
       "      <td>Female</td>\n",
       "      <td>No</td>\n",
       "      <td>Sun</td>\n",
       "      <td>Dinner</td>\n",
       "      <td>2.0</td>\n",
       "    </tr>\n",
       "    <tr>\n",
       "      <th>1</th>\n",
       "      <td>10.34</td>\n",
       "      <td>1.66</td>\n",
       "      <td>Male</td>\n",
       "      <td>No</td>\n",
       "      <td>Sun</td>\n",
       "      <td>Dinner</td>\n",
       "      <td>3.0</td>\n",
       "    </tr>\n",
       "    <tr>\n",
       "      <th>2</th>\n",
       "      <td>21.01</td>\n",
       "      <td>3.50</td>\n",
       "      <td>Male</td>\n",
       "      <td>No</td>\n",
       "      <td>NaN</td>\n",
       "      <td>Dinner</td>\n",
       "      <td>3.0</td>\n",
       "    </tr>\n",
       "    <tr>\n",
       "      <th>3</th>\n",
       "      <td>23.68</td>\n",
       "      <td>3.31</td>\n",
       "      <td>Male</td>\n",
       "      <td>NaN</td>\n",
       "      <td>Sun</td>\n",
       "      <td>Dinner</td>\n",
       "      <td>2.0</td>\n",
       "    </tr>\n",
       "    <tr>\n",
       "      <th>4</th>\n",
       "      <td>24.59</td>\n",
       "      <td>3.61</td>\n",
       "      <td>Female</td>\n",
       "      <td>No</td>\n",
       "      <td>Sun</td>\n",
       "      <td>Dinner</td>\n",
       "      <td>4.0</td>\n",
       "    </tr>\n",
       "  </tbody>\n",
       "</table>\n",
       "</div>"
      ],
      "text/plain": [
       "   total_bill   tip     sex smoker  day    time  size\n",
       "0       16.99  1.01  Female     No  Sun  Dinner   2.0\n",
       "1       10.34  1.66    Male     No  Sun  Dinner   3.0\n",
       "2       21.01  3.50    Male     No  NaN  Dinner   3.0\n",
       "3       23.68  3.31    Male    NaN  Sun  Dinner   2.0\n",
       "4       24.59  3.61  Female     No  Sun  Dinner   4.0"
      ]
     },
     "execution_count": 4,
     "metadata": {},
     "output_type": "execute_result"
    }
   ],
   "source": [
    "tips.head()"
   ]
  },
  {
   "cell_type": "code",
   "execution_count": 5,
   "metadata": {},
   "outputs": [
    {
     "name": "stdout",
     "output_type": "stream",
     "text": [
      "<class 'pandas.core.frame.DataFrame'>\n",
      "Int64Index: 244 entries, 0 to 243\n",
      "Data columns (total 7 columns):\n",
      " #   Column      Non-Null Count  Dtype  \n",
      "---  ------      --------------  -----  \n",
      " 0   total_bill  220 non-null    float64\n",
      " 1   tip         244 non-null    float64\n",
      " 2   sex         220 non-null    object \n",
      " 3   smoker      220 non-null    object \n",
      " 4   day         220 non-null    object \n",
      " 5   time        220 non-null    object \n",
      " 6   size        220 non-null    float64\n",
      "dtypes: float64(3), object(4)\n",
      "memory usage: 15.2+ KB\n"
     ]
    }
   ],
   "source": [
    "tips.info()"
   ]
  },
  {
   "cell_type": "markdown",
   "metadata": {},
   "source": [
    "### Fix any obvious problems, rename columns, etc."
   ]
  },
  {
   "cell_type": "markdown",
   "metadata": {},
   "source": []
  },
  {
   "cell_type": "markdown",
   "metadata": {},
   "source": [
    "#### Set up X and y\n",
    "Goal is to predict the tip"
   ]
  },
  {
   "cell_type": "code",
   "execution_count": 6,
   "metadata": {},
   "outputs": [],
   "source": [
    "X = tips.drop(columns='tip')"
   ]
  },
  {
   "cell_type": "code",
   "execution_count": 7,
   "metadata": {},
   "outputs": [
    {
     "data": {
      "text/html": [
       "<div>\n",
       "<style scoped>\n",
       "    .dataframe tbody tr th:only-of-type {\n",
       "        vertical-align: middle;\n",
       "    }\n",
       "\n",
       "    .dataframe tbody tr th {\n",
       "        vertical-align: top;\n",
       "    }\n",
       "\n",
       "    .dataframe thead th {\n",
       "        text-align: right;\n",
       "    }\n",
       "</style>\n",
       "<table border=\"1\" class=\"dataframe\">\n",
       "  <thead>\n",
       "    <tr style=\"text-align: right;\">\n",
       "      <th></th>\n",
       "      <th>total_bill</th>\n",
       "      <th>sex</th>\n",
       "      <th>smoker</th>\n",
       "      <th>day</th>\n",
       "      <th>time</th>\n",
       "      <th>size</th>\n",
       "    </tr>\n",
       "  </thead>\n",
       "  <tbody>\n",
       "    <tr>\n",
       "      <th>0</th>\n",
       "      <td>16.99</td>\n",
       "      <td>Female</td>\n",
       "      <td>No</td>\n",
       "      <td>Sun</td>\n",
       "      <td>Dinner</td>\n",
       "      <td>2.0</td>\n",
       "    </tr>\n",
       "    <tr>\n",
       "      <th>1</th>\n",
       "      <td>10.34</td>\n",
       "      <td>Male</td>\n",
       "      <td>No</td>\n",
       "      <td>Sun</td>\n",
       "      <td>Dinner</td>\n",
       "      <td>3.0</td>\n",
       "    </tr>\n",
       "  </tbody>\n",
       "</table>\n",
       "</div>"
      ],
      "text/plain": [
       "   total_bill     sex smoker  day    time  size\n",
       "0       16.99  Female     No  Sun  Dinner   2.0\n",
       "1       10.34    Male     No  Sun  Dinner   3.0"
      ]
     },
     "execution_count": 7,
     "metadata": {},
     "output_type": "execute_result"
    }
   ],
   "source": [
    "X.head(2)"
   ]
  },
  {
   "cell_type": "code",
   "execution_count": 8,
   "metadata": {},
   "outputs": [
    {
     "data": {
      "text/plain": [
       "0    1.01\n",
       "1    1.66\n",
       "Name: tip, dtype: float64"
      ]
     },
     "execution_count": 8,
     "metadata": {},
     "output_type": "execute_result"
    }
   ],
   "source": [
    "y = tips['tip']\n",
    "y.head(2)"
   ]
  },
  {
   "cell_type": "code",
   "execution_count": 9,
   "metadata": {},
   "outputs": [
    {
     "data": {
      "text/plain": [
       "(244, 6)"
      ]
     },
     "execution_count": 9,
     "metadata": {},
     "output_type": "execute_result"
    }
   ],
   "source": [
    "X.shape"
   ]
  },
  {
   "cell_type": "code",
   "execution_count": 10,
   "metadata": {},
   "outputs": [
    {
     "data": {
      "text/plain": [
       "(244,)"
      ]
     },
     "execution_count": 10,
     "metadata": {},
     "output_type": "execute_result"
    }
   ],
   "source": [
    "y.shape"
   ]
  },
  {
   "cell_type": "markdown",
   "metadata": {},
   "source": [
    "#### train_test_split"
   ]
  },
  {
   "cell_type": "code",
   "execution_count": 11,
   "metadata": {},
   "outputs": [],
   "source": [
    "from sklearn.model_selection import train_test_split"
   ]
  },
  {
   "cell_type": "code",
   "execution_count": 12,
   "metadata": {},
   "outputs": [],
   "source": [
    "X_train, X_test, y_train, y_test = train_test_split(X, y, random_state=0)"
   ]
  },
  {
   "cell_type": "code",
   "execution_count": null,
   "metadata": {},
   "outputs": [],
   "source": []
  },
  {
   "cell_type": "markdown",
   "metadata": {},
   "source": [
    "From now on, you deal with the training data."
   ]
  },
  {
   "cell_type": "code",
   "execution_count": null,
   "metadata": {},
   "outputs": [],
   "source": []
  },
  {
   "cell_type": "markdown",
   "metadata": {},
   "source": [
    "#### Heatmap correlation plot"
   ]
  },
  {
   "cell_type": "code",
   "execution_count": 13,
   "metadata": {},
   "outputs": [
    {
     "data": {
      "text/html": [
       "<div>\n",
       "<style scoped>\n",
       "    .dataframe tbody tr th:only-of-type {\n",
       "        vertical-align: middle;\n",
       "    }\n",
       "\n",
       "    .dataframe tbody tr th {\n",
       "        vertical-align: top;\n",
       "    }\n",
       "\n",
       "    .dataframe thead th {\n",
       "        text-align: right;\n",
       "    }\n",
       "</style>\n",
       "<table border=\"1\" class=\"dataframe\">\n",
       "  <thead>\n",
       "    <tr style=\"text-align: right;\">\n",
       "      <th></th>\n",
       "      <th>total_bill</th>\n",
       "      <th>tip</th>\n",
       "      <th>size</th>\n",
       "    </tr>\n",
       "  </thead>\n",
       "  <tbody>\n",
       "    <tr>\n",
       "      <th>total_bill</th>\n",
       "      <td>1.000000</td>\n",
       "      <td>0.682089</td>\n",
       "      <td>0.606769</td>\n",
       "    </tr>\n",
       "    <tr>\n",
       "      <th>tip</th>\n",
       "      <td>0.682089</td>\n",
       "      <td>1.000000</td>\n",
       "      <td>0.487357</td>\n",
       "    </tr>\n",
       "    <tr>\n",
       "      <th>size</th>\n",
       "      <td>0.606769</td>\n",
       "      <td>0.487357</td>\n",
       "      <td>1.000000</td>\n",
       "    </tr>\n",
       "  </tbody>\n",
       "</table>\n",
       "</div>"
      ],
      "text/plain": [
       "            total_bill       tip      size\n",
       "total_bill    1.000000  0.682089  0.606769\n",
       "tip           0.682089  1.000000  0.487357\n",
       "size          0.606769  0.487357  1.000000"
      ]
     },
     "execution_count": 13,
     "metadata": {},
     "output_type": "execute_result"
    }
   ],
   "source": [
    "tips.corr()"
   ]
  },
  {
   "cell_type": "markdown",
   "metadata": {},
   "source": [
    "#### Pairplot"
   ]
  },
  {
   "cell_type": "code",
   "execution_count": 15,
   "metadata": {},
   "outputs": [
    {
     "data": {
      "image/png": "[encoded data removed]",
      "text/plain": [
       "<Figure size 540x540 with 9 Axes>"
      ]
     },
     "metadata": {
      "needs_background": "light"
     },
     "output_type": "display_data"
    }
   ],
   "source": [
    "sns.pairplot(tips, corner=True);"
   ]
  },
  {
   "cell_type": "markdown",
   "metadata": {},
   "source": [
    "## Rule 1: the test set is off limits \n",
    "Don't do anything to it that you couldn't do to new data.\n",
    "For example don't one-hot encode a value that only shows up in the test-set."
   ]
  },
  {
   "cell_type": "markdown",
   "metadata": {},
   "source": [
    "### Let's jump into transformations you can do to your features.\n",
    "\n",
    "---\n",
    "\n",
    "## 1. Fill missing values \n",
    "\n",
    "![puzzle pieces](images/puzzle.jpeg)\n",
    "\n",
    "You often want to to deal with missing data early so you can do other preprocessing. Dropping rows can be fine if you have a lot of other data. Same goes for dropping columns if most values are missing and there is not much unique signal in the column. How might you know if a column has little signal in it?\n",
    "\n",
    "If you can figure out why the values are missing, you might want to fill the values accordingly. For example, maybe people who didn't respond to a survey question about owning a car don't own a car.\n",
    "\n",
    "Often, though, you don't know why the data are missing.\n",
    "\n",
    "#### Options:\n",
    "\n",
    "- If continuous numeric data, fill with the mean, median, mode or a constant you choose.\n",
    "- If nominal categorical data, fill with the mode or a constant you choose.\n",
    "\n",
    "This is called _imputing_ missing values. scikit-learn's SimpleImputer can help us.\n",
    "\n",
    "(Ignore forward or backward filling time series data and adding sentinel values for non-linear algorithms for now).\n",
    "\n",
    "All of these options reduce the variance in your data, so they are not ideal."
   ]
  },
  {
   "cell_type": "markdown",
   "metadata": {},
   "source": [
    "All scikit-learn transformers should be fit on the training data and transform the training data. They should ONLY transform the test data. Remember Rule 1! 😀"
   ]
  },
  {
   "cell_type": "code",
   "execution_count": 16,
   "metadata": {},
   "outputs": [],
   "source": [
    "from sklearn.impute import SimpleImputer"
   ]
  },
  {
   "cell_type": "markdown",
   "metadata": {},
   "source": [
    "#### Instantiate"
   ]
  },
  {
   "cell_type": "code",
   "execution_count": 17,
   "metadata": {},
   "outputs": [],
   "source": [
    "si = SimpleImputer(strategy='most_frequent')"
   ]
  },
  {
   "cell_type": "code",
   "execution_count": 26,
   "metadata": {},
   "outputs": [
    {
     "data": {
      "text/plain": [
       "Male      111\n",
       "Female     52\n",
       "Name: sex, dtype: int64"
      ]
     },
     "execution_count": 26,
     "metadata": {},
     "output_type": "execute_result"
    }
   ],
   "source": [
    "X_train['sex'].value_counts()"
   ]
  },
  {
   "cell_type": "markdown",
   "metadata": {},
   "source": [
    "#### Fit on X_train"
   ]
  },
  {
   "cell_type": "code",
   "execution_count": 18,
   "metadata": {},
   "outputs": [
    {
     "data": {
      "text/plain": [
       "total_bill    18\n",
       "sex           20\n",
       "smoker        20\n",
       "day           21\n",
       "time          16\n",
       "size          17\n",
       "dtype: int64"
      ]
     },
     "execution_count": 18,
     "metadata": {},
     "output_type": "execute_result"
    }
   ],
   "source": [
    "X_train.isna().sum()"
   ]
  },
  {
   "cell_type": "code",
   "execution_count": 19,
   "metadata": {},
   "outputs": [
    {
     "data": {
      "text/plain": [
       "SimpleImputer(strategy='most_frequent')"
      ]
     },
     "execution_count": 19,
     "metadata": {},
     "output_type": "execute_result"
    }
   ],
   "source": [
    "si.fit(X_train)"
   ]
  },
  {
   "cell_type": "markdown",
   "metadata": {},
   "source": [
    "#### Transform X_train and save the result"
   ]
  },
  {
   "cell_type": "code",
   "execution_count": 21,
   "metadata": {},
   "outputs": [
    {
     "data": {
      "text/plain": [
       "array([10.07, 'Male', 'No', 'Sat', 'Dinner', 2.0], dtype=object)"
      ]
     },
     "execution_count": 21,
     "metadata": {},
     "output_type": "execute_result"
    }
   ],
   "source": [
    "si.statistics_  # the fill value for each column"
   ]
  },
  {
   "cell_type": "code",
   "execution_count": 22,
   "metadata": {
    "collapsed": true,
    "jupyter": {
     "outputs_hidden": true
    },
    "tags": []
   },
   "outputs": [
    {
     "data": {
      "text/html": [
       "<div>\n",
       "<style scoped>\n",
       "    .dataframe tbody tr th:only-of-type {\n",
       "        vertical-align: middle;\n",
       "    }\n",
       "\n",
       "    .dataframe tbody tr th {\n",
       "        vertical-align: top;\n",
       "    }\n",
       "\n",
       "    .dataframe thead th {\n",
       "        text-align: right;\n",
       "    }\n",
       "</style>\n",
       "<table border=\"1\" class=\"dataframe\">\n",
       "  <thead>\n",
       "    <tr style=\"text-align: right;\">\n",
       "      <th></th>\n",
       "      <th>total_bill</th>\n",
       "      <th>sex</th>\n",
       "      <th>smoker</th>\n",
       "      <th>day</th>\n",
       "      <th>time</th>\n",
       "      <th>size</th>\n",
       "    </tr>\n",
       "  </thead>\n",
       "  <tbody>\n",
       "    <tr>\n",
       "      <th>171</th>\n",
       "      <td>NaN</td>\n",
       "      <td>Male</td>\n",
       "      <td>Yes</td>\n",
       "      <td>Sat</td>\n",
       "      <td>Dinner</td>\n",
       "      <td>2.0</td>\n",
       "    </tr>\n",
       "    <tr>\n",
       "      <th>89</th>\n",
       "      <td>21.16</td>\n",
       "      <td>Male</td>\n",
       "      <td>No</td>\n",
       "      <td>Thur</td>\n",
       "      <td>Lunch</td>\n",
       "      <td>2.0</td>\n",
       "    </tr>\n",
       "    <tr>\n",
       "      <th>157</th>\n",
       "      <td>25.00</td>\n",
       "      <td>Female</td>\n",
       "      <td>No</td>\n",
       "      <td>Sun</td>\n",
       "      <td>NaN</td>\n",
       "      <td>4.0</td>\n",
       "    </tr>\n",
       "    <tr>\n",
       "      <th>219</th>\n",
       "      <td>30.14</td>\n",
       "      <td>Female</td>\n",
       "      <td>NaN</td>\n",
       "      <td>Sat</td>\n",
       "      <td>Dinner</td>\n",
       "      <td>4.0</td>\n",
       "    </tr>\n",
       "    <tr>\n",
       "      <th>234</th>\n",
       "      <td>15.53</td>\n",
       "      <td>Male</td>\n",
       "      <td>Yes</td>\n",
       "      <td>Sat</td>\n",
       "      <td>Dinner</td>\n",
       "      <td>2.0</td>\n",
       "    </tr>\n",
       "    <tr>\n",
       "      <th>...</th>\n",
       "      <td>...</td>\n",
       "      <td>...</td>\n",
       "      <td>...</td>\n",
       "      <td>...</td>\n",
       "      <td>...</td>\n",
       "      <td>...</td>\n",
       "    </tr>\n",
       "    <tr>\n",
       "      <th>67</th>\n",
       "      <td>NaN</td>\n",
       "      <td>Female</td>\n",
       "      <td>Yes</td>\n",
       "      <td>Sat</td>\n",
       "      <td>Dinner</td>\n",
       "      <td>NaN</td>\n",
       "    </tr>\n",
       "    <tr>\n",
       "      <th>192</th>\n",
       "      <td>28.44</td>\n",
       "      <td>Male</td>\n",
       "      <td>Yes</td>\n",
       "      <td>Thur</td>\n",
       "      <td>Lunch</td>\n",
       "      <td>2.0</td>\n",
       "    </tr>\n",
       "    <tr>\n",
       "      <th>117</th>\n",
       "      <td>10.65</td>\n",
       "      <td>Female</td>\n",
       "      <td>No</td>\n",
       "      <td>NaN</td>\n",
       "      <td>Lunch</td>\n",
       "      <td>2.0</td>\n",
       "    </tr>\n",
       "    <tr>\n",
       "      <th>47</th>\n",
       "      <td>32.40</td>\n",
       "      <td>Male</td>\n",
       "      <td>No</td>\n",
       "      <td>Sun</td>\n",
       "      <td>Dinner</td>\n",
       "      <td>4.0</td>\n",
       "    </tr>\n",
       "    <tr>\n",
       "      <th>172</th>\n",
       "      <td>7.25</td>\n",
       "      <td>Male</td>\n",
       "      <td>Yes</td>\n",
       "      <td>NaN</td>\n",
       "      <td>NaN</td>\n",
       "      <td>2.0</td>\n",
       "    </tr>\n",
       "  </tbody>\n",
       "</table>\n",
       "<p>183 rows × 6 columns</p>\n",
       "</div>"
      ],
      "text/plain": [
       "     total_bill     sex smoker   day    time  size\n",
       "171         NaN    Male    Yes   Sat  Dinner   2.0\n",
       "89        21.16    Male     No  Thur   Lunch   2.0\n",
       "157       25.00  Female     No   Sun     NaN   4.0\n",
       "219       30.14  Female    NaN   Sat  Dinner   4.0\n",
       "234       15.53    Male    Yes   Sat  Dinner   2.0\n",
       "..          ...     ...    ...   ...     ...   ...\n",
       "67          NaN  Female    Yes   Sat  Dinner   NaN\n",
       "192       28.44    Male    Yes  Thur   Lunch   2.0\n",
       "117       10.65  Female     No   NaN   Lunch   2.0\n",
       "47        32.40    Male     No   Sun  Dinner   4.0\n",
       "172        7.25    Male    Yes   NaN     NaN   2.0\n",
       "\n",
       "[183 rows x 6 columns]"
      ]
     },
     "execution_count": 22,
     "metadata": {},
     "output_type": "execute_result"
    }
   ],
   "source": [
    "X_train"
   ]
  },
  {
   "cell_type": "code",
   "execution_count": 23,
   "metadata": {
    "collapsed": true,
    "jupyter": {
     "outputs_hidden": true
    },
    "tags": []
   },
   "outputs": [
    {
     "data": {
      "text/plain": [
       "array([[10.07, 'Male', 'Yes', 'Sat', 'Dinner', 2.0],\n",
       "       [21.16, 'Male', 'No', 'Thur', 'Lunch', 2.0],\n",
       "       [25.0, 'Female', 'No', 'Sun', 'Dinner', 4.0],\n",
       "       ...,\n",
       "       [10.65, 'Female', 'No', 'Sat', 'Lunch', 2.0],\n",
       "       [32.4, 'Male', 'No', 'Sun', 'Dinner', 4.0],\n",
       "       [7.25, 'Male', 'Yes', 'Sat', 'Dinner', 2.0]], dtype=object)"
      ]
     },
     "execution_count": 23,
     "metadata": {},
     "output_type": "execute_result"
    }
   ],
   "source": [
    "si.transform(X_train)"
   ]
  },
  {
   "cell_type": "code",
   "execution_count": 25,
   "metadata": {
    "tags": []
   },
   "outputs": [
    {
     "data": {
      "text/plain": [
       "array([[10.07, 'Male', 'Yes', 'Sat', 'Dinner', 2.0],\n",
       "       [21.16, 'Male', 'No', 'Thur', 'Lunch', 2.0],\n",
       "       [25.0, 'Female', 'No', 'Sun', 'Dinner', 4.0],\n",
       "       ...,\n",
       "       [10.65, 'Female', 'No', 'Sat', 'Lunch', 2.0],\n",
       "       [32.4, 'Male', 'No', 'Sun', 'Dinner', 4.0],\n",
       "       [7.25, 'Male', 'Yes', 'Sat', 'Dinner', 2.0]], dtype=object)"
      ]
     },
     "execution_count": 25,
     "metadata": {},
     "output_type": "execute_result"
    }
   ],
   "source": [
    "X_train_filled = si.transform(X_train)\n",
    "X_train_filled"
   ]
  },
  {
   "cell_type": "code",
   "execution_count": 27,
   "metadata": {},
   "outputs": [],
   "source": [
    "X_train_filled = pd.DataFrame(X_train_filled, columns=X_train.columns)"
   ]
  },
  {
   "cell_type": "code",
   "execution_count": 28,
   "metadata": {},
   "outputs": [
    {
     "data": {
      "text/html": [
       "<div>\n",
       "<style scoped>\n",
       "    .dataframe tbody tr th:only-of-type {\n",
       "        vertical-align: middle;\n",
       "    }\n",
       "\n",
       "    .dataframe tbody tr th {\n",
       "        vertical-align: top;\n",
       "    }\n",
       "\n",
       "    .dataframe thead th {\n",
       "        text-align: right;\n",
       "    }\n",
       "</style>\n",
       "<table border=\"1\" class=\"dataframe\">\n",
       "  <thead>\n",
       "    <tr style=\"text-align: right;\">\n",
       "      <th></th>\n",
       "      <th>total_bill</th>\n",
       "      <th>sex</th>\n",
       "      <th>smoker</th>\n",
       "      <th>day</th>\n",
       "      <th>time</th>\n",
       "      <th>size</th>\n",
       "    </tr>\n",
       "  </thead>\n",
       "  <tbody>\n",
       "    <tr>\n",
       "      <th>0</th>\n",
       "      <td>10.07</td>\n",
       "      <td>Male</td>\n",
       "      <td>Yes</td>\n",
       "      <td>Sat</td>\n",
       "      <td>Dinner</td>\n",
       "      <td>2.0</td>\n",
       "    </tr>\n",
       "    <tr>\n",
       "      <th>1</th>\n",
       "      <td>21.16</td>\n",
       "      <td>Male</td>\n",
       "      <td>No</td>\n",
       "      <td>Thur</td>\n",
       "      <td>Lunch</td>\n",
       "      <td>2.0</td>\n",
       "    </tr>\n",
       "    <tr>\n",
       "      <th>2</th>\n",
       "      <td>25.0</td>\n",
       "      <td>Female</td>\n",
       "      <td>No</td>\n",
       "      <td>Sun</td>\n",
       "      <td>Dinner</td>\n",
       "      <td>4.0</td>\n",
       "    </tr>\n",
       "    <tr>\n",
       "      <th>3</th>\n",
       "      <td>30.14</td>\n",
       "      <td>Female</td>\n",
       "      <td>No</td>\n",
       "      <td>Sat</td>\n",
       "      <td>Dinner</td>\n",
       "      <td>4.0</td>\n",
       "    </tr>\n",
       "    <tr>\n",
       "      <th>4</th>\n",
       "      <td>15.53</td>\n",
       "      <td>Male</td>\n",
       "      <td>Yes</td>\n",
       "      <td>Sat</td>\n",
       "      <td>Dinner</td>\n",
       "      <td>2.0</td>\n",
       "    </tr>\n",
       "    <tr>\n",
       "      <th>...</th>\n",
       "      <td>...</td>\n",
       "      <td>...</td>\n",
       "      <td>...</td>\n",
       "      <td>...</td>\n",
       "      <td>...</td>\n",
       "      <td>...</td>\n",
       "    </tr>\n",
       "    <tr>\n",
       "      <th>178</th>\n",
       "      <td>10.07</td>\n",
       "      <td>Female</td>\n",
       "      <td>Yes</td>\n",
       "      <td>Sat</td>\n",
       "      <td>Dinner</td>\n",
       "      <td>2.0</td>\n",
       "    </tr>\n",
       "    <tr>\n",
       "      <th>179</th>\n",
       "      <td>28.44</td>\n",
       "      <td>Male</td>\n",
       "      <td>Yes</td>\n",
       "      <td>Thur</td>\n",
       "      <td>Lunch</td>\n",
       "      <td>2.0</td>\n",
       "    </tr>\n",
       "    <tr>\n",
       "      <th>180</th>\n",
       "      <td>10.65</td>\n",
       "      <td>Female</td>\n",
       "      <td>No</td>\n",
       "      <td>Sat</td>\n",
       "      <td>Lunch</td>\n",
       "      <td>2.0</td>\n",
       "    </tr>\n",
       "    <tr>\n",
       "      <th>181</th>\n",
       "      <td>32.4</td>\n",
       "      <td>Male</td>\n",
       "      <td>No</td>\n",
       "      <td>Sun</td>\n",
       "      <td>Dinner</td>\n",
       "      <td>4.0</td>\n",
       "    </tr>\n",
       "    <tr>\n",
       "      <th>182</th>\n",
       "      <td>7.25</td>\n",
       "      <td>Male</td>\n",
       "      <td>Yes</td>\n",
       "      <td>Sat</td>\n",
       "      <td>Dinner</td>\n",
       "      <td>2.0</td>\n",
       "    </tr>\n",
       "  </tbody>\n",
       "</table>\n",
       "<p>183 rows × 6 columns</p>\n",
       "</div>"
      ],
      "text/plain": [
       "    total_bill     sex smoker   day    time size\n",
       "0        10.07    Male    Yes   Sat  Dinner  2.0\n",
       "1        21.16    Male     No  Thur   Lunch  2.0\n",
       "2         25.0  Female     No   Sun  Dinner  4.0\n",
       "3        30.14  Female     No   Sat  Dinner  4.0\n",
       "4        15.53    Male    Yes   Sat  Dinner  2.0\n",
       "..         ...     ...    ...   ...     ...  ...\n",
       "178      10.07  Female    Yes   Sat  Dinner  2.0\n",
       "179      28.44    Male    Yes  Thur   Lunch  2.0\n",
       "180      10.65  Female     No   Sat   Lunch  2.0\n",
       "181       32.4    Male     No   Sun  Dinner  4.0\n",
       "182       7.25    Male    Yes   Sat  Dinner  2.0\n",
       "\n",
       "[183 rows x 6 columns]"
      ]
     },
     "execution_count": 28,
     "metadata": {},
     "output_type": "execute_result"
    }
   ],
   "source": [
    "X_train_filled"
   ]
  },
  {
   "cell_type": "code",
   "execution_count": 29,
   "metadata": {},
   "outputs": [
    {
     "name": "stdout",
     "output_type": "stream",
     "text": [
      "<class 'pandas.core.frame.DataFrame'>\n",
      "RangeIndex: 183 entries, 0 to 182\n",
      "Data columns (total 6 columns):\n",
      " #   Column      Non-Null Count  Dtype \n",
      "---  ------      --------------  ----- \n",
      " 0   total_bill  183 non-null    object\n",
      " 1   sex         183 non-null    object\n",
      " 2   smoker      183 non-null    object\n",
      " 3   day         183 non-null    object\n",
      " 4   time        183 non-null    object\n",
      " 5   size        183 non-null    object\n",
      "dtypes: object(6)\n",
      "memory usage: 8.7+ KB\n"
     ]
    }
   ],
   "source": [
    "X_train_filled.info()"
   ]
  },
  {
   "cell_type": "markdown",
   "metadata": {},
   "source": [
    "#### Transform (no fit) X_test and save the result"
   ]
  },
  {
   "cell_type": "code",
   "execution_count": 30,
   "metadata": {
    "collapsed": true,
    "jupyter": {
     "outputs_hidden": true
    },
    "tags": []
   },
   "outputs": [
    {
     "data": {
      "text/plain": [
       "array([[17.59, 'Male', 'No', 'Sat', 'Dinner', 3.0],\n",
       "       [18.29, 'Male', 'Yes', 'Sat', 'Dinner', 2.0],\n",
       "       [19.49, 'Male', 'No', 'Sun', 'Dinner', 2.0],\n",
       "       [7.25, 'Female', 'No', 'Sat', 'Dinner', 1.0],\n",
       "       [16.27, 'Female', 'Yes', 'Fri', 'Lunch', 2.0],\n",
       "       [5.75, 'Female', 'Yes', 'Fri', 'Dinner', 2.0],\n",
       "       [17.92, 'Male', 'Yes', 'Sat', 'Dinner', 2.0],\n",
       "       [23.33, 'Male', 'Yes', 'Sun', 'Dinner', 2.0],\n",
       "       [18.15, 'Female', 'No', 'Sun', 'Dinner', 3.0],\n",
       "       [34.65, 'Male', 'Yes', 'Sun', 'Dinner', 4.0],\n",
       "       [25.28, 'Female', 'Yes', 'Sat', 'Dinner', 2.0],\n",
       "       [25.21, 'Male', 'Yes', 'Sat', 'Dinner', 2.0],\n",
       "       [14.07, 'Male', 'No', 'Sun', 'Dinner', 2.0],\n",
       "       [13.0, 'Female', 'No', 'Thur', 'Lunch', 2.0],\n",
       "       [13.42, 'Male', 'Yes', 'Fri', 'Lunch', 2.0],\n",
       "       [30.4, 'Male', 'No', 'Sun', 'Dinner', 4.0],\n",
       "       [8.35, 'Female', 'No', 'Thur', 'Lunch', 2.0],\n",
       "       [14.0, 'Male', 'No', 'Sat', 'Dinner', 2.0],\n",
       "       [18.78, 'Female', 'No', 'Thur', 'Dinner', 2.0],\n",
       "       [23.1, 'Male', 'Yes', 'Sun', 'Dinner', 3.0],\n",
       "       [30.06, 'Male', 'Yes', 'Sat', 'Dinner', 3.0],\n",
       "       [20.92, 'Female', 'No', 'Sat', 'Dinner', 2.0],\n",
       "       [10.07, 'Male', 'Yes', 'Thur', 'Lunch', 2.0],\n",
       "       [15.04, 'Male', 'No', 'Sun', 'Dinner', 2.0],\n",
       "       [10.07, 'Male', 'No', 'Thur', 'Lunch', 2.0],\n",
       "       [16.4, 'Female', 'Yes', 'Thur', 'Lunch', 2.0],\n",
       "       [12.16, 'Male', 'Yes', 'Fri', 'Dinner', 2.0],\n",
       "       [29.8, 'Female', 'No', 'Thur', 'Lunch', 6.0],\n",
       "       [25.29, 'Male', 'No', 'Sun', 'Dinner', 4.0],\n",
       "       [15.77, 'Female', 'No', 'Sat', 'Dinner', 2.0],\n",
       "       [14.73, 'Female', 'No', 'Sat', 'Dinner', 2.0],\n",
       "       [12.48, 'Female', 'No', 'Thur', 'Lunch', 2.0],\n",
       "       [15.42, 'Male', 'No', 'Sun', 'Dinner', 2.0],\n",
       "       [10.07, 'Female', 'Yes', 'Sat', 'Dinner', 2.0],\n",
       "       [18.29, 'Male', 'No', 'Sun', 'Dinner', 2.0],\n",
       "       [13.39, 'Female', 'No', 'Sun', 'Dinner', 2.0],\n",
       "       [16.93, 'Female', 'No', 'Sat', 'Dinner', 3.0],\n",
       "       [10.33, 'Female', 'No', 'Thur', 'Lunch', 2.0],\n",
       "       [48.33, 'Male', 'No', 'Sat', 'Dinner', 4.0],\n",
       "       [15.98, 'Female', 'No', 'Fri', 'Lunch', 3.0],\n",
       "       [8.58, 'Male', 'Yes', 'Fri', 'Lunch', 1.0],\n",
       "       [12.43, 'Female', 'No', 'Thur', 'Dinner', 2.0],\n",
       "       [15.69, 'Male', 'Yes', 'Sat', 'Dinner', 3.0],\n",
       "       [10.07, 'Female', 'No', 'Sun', 'Dinner', 5.0],\n",
       "       [12.76, 'Male', 'Yes', 'Sat', 'Dinner', 2.0],\n",
       "       [16.97, 'Female', 'No', 'Sun', 'Dinner', 3.0],\n",
       "       [18.24, 'Male', 'No', 'Sat', 'Dinner', 2.0],\n",
       "       [21.58, 'Male', 'No', 'Sun', 'Dinner', 2.0],\n",
       "       [17.07, 'Female', 'No', 'Sat', 'Dinner', 2.0],\n",
       "       [26.88, 'Male', 'No', 'Sun', 'Dinner', 4.0],\n",
       "       [32.68, 'Male', 'Yes', 'Thur', 'Lunch', 2.0],\n",
       "       [17.89, 'Male', 'Yes', 'Sun', 'Dinner', 2.0],\n",
       "       [20.49, 'Male', 'Yes', 'Sat', 'Dinner', 2.0],\n",
       "       [48.17, 'Male', 'No', 'Sun', 'Dinner', 6.0],\n",
       "       [10.07, 'Female', 'Yes', 'Sat', 'Dinner', 2.0],\n",
       "       [10.07, 'Male', 'Yes', 'Fri', 'Dinner', 2.0],\n",
       "       [29.93, 'Male', 'No', 'Sun', 'Dinner', 4.0],\n",
       "       [20.69, 'Male', 'No', 'Sat', 'Dinner', 4.0],\n",
       "       [14.26, 'Male', 'No', 'Thur', 'Lunch', 2.0],\n",
       "       [12.66, 'Male', 'No', 'Sun', 'Dinner', 2.0],\n",
       "       [27.28, 'Male', 'Yes', 'Fri', 'Dinner', 2.0]], dtype=object)"
      ]
     },
     "execution_count": 30,
     "metadata": {},
     "output_type": "execute_result"
    }
   ],
   "source": [
    "X_test_filled = si.transform(X_test)\n",
    "X_test_filled"
   ]
  },
  {
   "cell_type": "code",
   "execution_count": 31,
   "metadata": {},
   "outputs": [
    {
     "data": {
      "text/plain": [
       "0"
      ]
     },
     "execution_count": 31,
     "metadata": {},
     "output_type": "execute_result"
    }
   ],
   "source": [
    "y.isna().sum()"
   ]
  },
  {
   "cell_type": "code",
   "execution_count": 32,
   "metadata": {
    "tags": []
   },
   "outputs": [
    {
     "data": {
      "text/html": [
       "<div>\n",
       "<style scoped>\n",
       "    .dataframe tbody tr th:only-of-type {\n",
       "        vertical-align: middle;\n",
       "    }\n",
       "\n",
       "    .dataframe tbody tr th {\n",
       "        vertical-align: top;\n",
       "    }\n",
       "\n",
       "    .dataframe thead th {\n",
       "        text-align: right;\n",
       "    }\n",
       "</style>\n",
       "<table border=\"1\" class=\"dataframe\">\n",
       "  <thead>\n",
       "    <tr style=\"text-align: right;\">\n",
       "      <th></th>\n",
       "      <th>total_bill</th>\n",
       "      <th>sex</th>\n",
       "      <th>smoker</th>\n",
       "      <th>day</th>\n",
       "      <th>time</th>\n",
       "      <th>size</th>\n",
       "    </tr>\n",
       "  </thead>\n",
       "  <tbody>\n",
       "    <tr>\n",
       "      <th>0</th>\n",
       "      <td>17.59</td>\n",
       "      <td>Male</td>\n",
       "      <td>No</td>\n",
       "      <td>Sat</td>\n",
       "      <td>Dinner</td>\n",
       "      <td>3.0</td>\n",
       "    </tr>\n",
       "    <tr>\n",
       "      <th>1</th>\n",
       "      <td>18.29</td>\n",
       "      <td>Male</td>\n",
       "      <td>Yes</td>\n",
       "      <td>Sat</td>\n",
       "      <td>Dinner</td>\n",
       "      <td>2.0</td>\n",
       "    </tr>\n",
       "    <tr>\n",
       "      <th>2</th>\n",
       "      <td>19.49</td>\n",
       "      <td>Male</td>\n",
       "      <td>No</td>\n",
       "      <td>Sun</td>\n",
       "      <td>Dinner</td>\n",
       "      <td>2.0</td>\n",
       "    </tr>\n",
       "    <tr>\n",
       "      <th>3</th>\n",
       "      <td>7.25</td>\n",
       "      <td>Female</td>\n",
       "      <td>No</td>\n",
       "      <td>Sat</td>\n",
       "      <td>Dinner</td>\n",
       "      <td>1.0</td>\n",
       "    </tr>\n",
       "    <tr>\n",
       "      <th>4</th>\n",
       "      <td>16.27</td>\n",
       "      <td>Female</td>\n",
       "      <td>Yes</td>\n",
       "      <td>Fri</td>\n",
       "      <td>Lunch</td>\n",
       "      <td>2.0</td>\n",
       "    </tr>\n",
       "    <tr>\n",
       "      <th>...</th>\n",
       "      <td>...</td>\n",
       "      <td>...</td>\n",
       "      <td>...</td>\n",
       "      <td>...</td>\n",
       "      <td>...</td>\n",
       "      <td>...</td>\n",
       "    </tr>\n",
       "    <tr>\n",
       "      <th>56</th>\n",
       "      <td>29.93</td>\n",
       "      <td>Male</td>\n",
       "      <td>No</td>\n",
       "      <td>Sun</td>\n",
       "      <td>Dinner</td>\n",
       "      <td>4.0</td>\n",
       "    </tr>\n",
       "    <tr>\n",
       "      <th>57</th>\n",
       "      <td>20.69</td>\n",
       "      <td>Male</td>\n",
       "      <td>No</td>\n",
       "      <td>Sat</td>\n",
       "      <td>Dinner</td>\n",
       "      <td>4.0</td>\n",
       "    </tr>\n",
       "    <tr>\n",
       "      <th>58</th>\n",
       "      <td>14.26</td>\n",
       "      <td>Male</td>\n",
       "      <td>No</td>\n",
       "      <td>Thur</td>\n",
       "      <td>Lunch</td>\n",
       "      <td>2.0</td>\n",
       "    </tr>\n",
       "    <tr>\n",
       "      <th>59</th>\n",
       "      <td>12.66</td>\n",
       "      <td>Male</td>\n",
       "      <td>No</td>\n",
       "      <td>Sun</td>\n",
       "      <td>Dinner</td>\n",
       "      <td>2.0</td>\n",
       "    </tr>\n",
       "    <tr>\n",
       "      <th>60</th>\n",
       "      <td>27.28</td>\n",
       "      <td>Male</td>\n",
       "      <td>Yes</td>\n",
       "      <td>Fri</td>\n",
       "      <td>Dinner</td>\n",
       "      <td>2.0</td>\n",
       "    </tr>\n",
       "  </tbody>\n",
       "</table>\n",
       "<p>61 rows × 6 columns</p>\n",
       "</div>"
      ],
      "text/plain": [
       "   total_bill     sex smoker   day    time size\n",
       "0       17.59    Male     No   Sat  Dinner  3.0\n",
       "1       18.29    Male    Yes   Sat  Dinner  2.0\n",
       "2       19.49    Male     No   Sun  Dinner  2.0\n",
       "3        7.25  Female     No   Sat  Dinner  1.0\n",
       "4       16.27  Female    Yes   Fri   Lunch  2.0\n",
       "..        ...     ...    ...   ...     ...  ...\n",
       "56      29.93    Male     No   Sun  Dinner  4.0\n",
       "57      20.69    Male     No   Sat  Dinner  4.0\n",
       "58      14.26    Male     No  Thur   Lunch  2.0\n",
       "59      12.66    Male     No   Sun  Dinner  2.0\n",
       "60      27.28    Male    Yes   Fri  Dinner  2.0\n",
       "\n",
       "[61 rows x 6 columns]"
      ]
     },
     "execution_count": 32,
     "metadata": {},
     "output_type": "execute_result"
    }
   ],
   "source": [
    "X_test_filled = pd.DataFrame(X_test_filled, columns=X_test.columns)\n",
    "X_test_filled"
   ]
  },
  {
   "cell_type": "markdown",
   "metadata": {},
   "source": [
    "#### `Strategy=most_frequent` will work on non-numeric columns. Mean won't.⚠️ "
   ]
  },
  {
   "cell_type": "code",
   "execution_count": null,
   "metadata": {},
   "outputs": [],
   "source": []
  },
  {
   "cell_type": "markdown",
   "metadata": {},
   "source": [
    "Check out other SimpleImputer options."
   ]
  },
  {
   "cell_type": "code",
   "execution_count": null,
   "metadata": {},
   "outputs": [],
   "source": []
  },
  {
   "cell_type": "markdown",
   "metadata": {},
   "source": [
    "Iterative imputing, in which an algorithm is fit to the data that is not missing, is likely to create values that help your model perform better. This process can be slow. IterativeImputer is an experimental class in scikit-learn as of this writing. \n",
    "\n",
    "KNNImputer often performs better than SimpleImputer. It can also be a little slow. You'll learn about KNN classification soon, and this transformer is similar."
   ]
  },
  {
   "cell_type": "markdown",
   "metadata": {},
   "source": [
    "You can evaluate different missing value strategies. GridSearching with Pipelines makes this process much easier, so we'll put it off until we see those techniques."
   ]
  },
  {
   "cell_type": "markdown",
   "metadata": {},
   "source": [
    "Adding a column to indicate that a value was missing (a missing indicator) does not appear to help model performance, in most cases. This is an option with most imputation transformers."
   ]
  },
  {
   "cell_type": "markdown",
   "metadata": {},
   "source": [
    "⚠️ Interpretation becomes a bit tricky when you create data. Just note what you did.\n",
    "### Always communicate how you treated missing data!"
   ]
  },
  {
   "cell_type": "markdown",
   "metadata": {},
   "source": [
    "---\n",
    "## 2. Encode categorical features\n",
    "\n",
    "![binary code](images/binary.jpeg)\n",
    "\n",
    "Our data generally needs to be numeric. If you data is nominal categorical data, one-hot-encoding (dummy encoding) is the most common method. \n",
    "\n",
    "We generally don't want to encode a column into numeric data before splitting it because that would violate Rule 1. \n",
    "\n",
    "If there were 50 categories and some were rare, our model might see one in the real world that it had never seen before. That might make our model perform worse in the real world (assuming that feature is important) We don't want our model to give us test set results that would are overly optimistic.\n",
    "\n",
    "Generally, if there aren't any values that show up only a few times in a column, you can one-hot encode your columns before creating a test set, and not worry about overstating your test set scores."
   ]
  },
  {
   "cell_type": "code",
   "execution_count": 33,
   "metadata": {},
   "outputs": [],
   "source": [
    "from sklearn.preprocessing import OneHotEncoder"
   ]
  },
  {
   "cell_type": "code",
   "execution_count": 34,
   "metadata": {},
   "outputs": [
    {
     "data": {
      "text/html": [
       "<div>\n",
       "<style scoped>\n",
       "    .dataframe tbody tr th:only-of-type {\n",
       "        vertical-align: middle;\n",
       "    }\n",
       "\n",
       "    .dataframe tbody tr th {\n",
       "        vertical-align: top;\n",
       "    }\n",
       "\n",
       "    .dataframe thead th {\n",
       "        text-align: right;\n",
       "    }\n",
       "</style>\n",
       "<table border=\"1\" class=\"dataframe\">\n",
       "  <thead>\n",
       "    <tr style=\"text-align: right;\">\n",
       "      <th></th>\n",
       "      <th>total_bill</th>\n",
       "      <th>sex</th>\n",
       "      <th>smoker</th>\n",
       "      <th>day</th>\n",
       "      <th>time</th>\n",
       "      <th>size</th>\n",
       "    </tr>\n",
       "  </thead>\n",
       "  <tbody>\n",
       "    <tr>\n",
       "      <th>0</th>\n",
       "      <td>10.07</td>\n",
       "      <td>Male</td>\n",
       "      <td>Yes</td>\n",
       "      <td>Sat</td>\n",
       "      <td>Dinner</td>\n",
       "      <td>2.0</td>\n",
       "    </tr>\n",
       "    <tr>\n",
       "      <th>1</th>\n",
       "      <td>21.16</td>\n",
       "      <td>Male</td>\n",
       "      <td>No</td>\n",
       "      <td>Thur</td>\n",
       "      <td>Lunch</td>\n",
       "      <td>2.0</td>\n",
       "    </tr>\n",
       "  </tbody>\n",
       "</table>\n",
       "</div>"
      ],
      "text/plain": [
       "  total_bill   sex smoker   day    time size\n",
       "0      10.07  Male    Yes   Sat  Dinner  2.0\n",
       "1      21.16  Male     No  Thur   Lunch  2.0"
      ]
     },
     "execution_count": 34,
     "metadata": {},
     "output_type": "execute_result"
    }
   ],
   "source": [
    "X_train_filled.head(2)"
   ]
  },
  {
   "cell_type": "code",
   "execution_count": 35,
   "metadata": {},
   "outputs": [
    {
     "data": {
      "text/plain": [
       "Sat     79\n",
       "Thur    47\n",
       "Sun     47\n",
       "Fri     10\n",
       "Name: day, dtype: int64"
      ]
     },
     "execution_count": 35,
     "metadata": {},
     "output_type": "execute_result"
    }
   ],
   "source": [
    "X_train_filled['day'].value_counts()"
   ]
  },
  {
   "cell_type": "code",
   "execution_count": 36,
   "metadata": {},
   "outputs": [
    {
     "data": {
      "text/plain": [
       "Dinner    137\n",
       "Lunch      46\n",
       "Name: time, dtype: int64"
      ]
     },
     "execution_count": 36,
     "metadata": {},
     "output_type": "execute_result"
    }
   ],
   "source": [
    "X_train_filled['time'].value_counts()"
   ]
  },
  {
   "cell_type": "markdown",
   "metadata": {},
   "source": [
    "#### Instantiate, fit and transform X_train, transform (no fit) X_test"
   ]
  },
  {
   "cell_type": "code",
   "execution_count": 44,
   "metadata": {},
   "outputs": [],
   "source": [
    "ohe = OneHotEncoder(sparse=False, drop='if_binary')"
   ]
  },
  {
   "cell_type": "code",
   "execution_count": 45,
   "metadata": {},
   "outputs": [
    {
     "data": {
      "text/plain": [
       "OneHotEncoder(drop='if_binary', sparse=False)"
      ]
     },
     "execution_count": 45,
     "metadata": {},
     "output_type": "execute_result"
    }
   ],
   "source": [
    "ohe.fit(X_train_filled, y_train)"
   ]
  },
  {
   "cell_type": "code",
   "execution_count": 46,
   "metadata": {},
   "outputs": [
    {
     "data": {
      "text/plain": [
       "array([[0., 0., 0., ..., 0., 0., 0.],\n",
       "       [0., 0., 0., ..., 0., 0., 0.],\n",
       "       [0., 0., 0., ..., 1., 0., 0.],\n",
       "       ...,\n",
       "       [0., 0., 0., ..., 0., 0., 0.],\n",
       "       [0., 0., 0., ..., 1., 0., 0.],\n",
       "       [1., 0., 0., ..., 0., 0., 0.]])"
      ]
     },
     "execution_count": 46,
     "metadata": {},
     "output_type": "execute_result"
    }
   ],
   "source": [
    "ohe.transform(X_train_filled)"
   ]
  },
  {
   "cell_type": "code",
   "execution_count": 47,
   "metadata": {
    "collapsed": true,
    "jupyter": {
     "outputs_hidden": true
    },
    "tags": []
   },
   "outputs": [
    {
     "data": {
      "text/plain": [
       "array(['total_bill_7.25', 'total_bill_7.51', 'total_bill_7.56',\n",
       "       'total_bill_7.74', 'total_bill_8.51', 'total_bill_8.52',\n",
       "       'total_bill_8.77', 'total_bill_9.55', 'total_bill_9.68',\n",
       "       'total_bill_9.78', 'total_bill_9.94', 'total_bill_10.07',\n",
       "       'total_bill_10.09', 'total_bill_10.27', 'total_bill_10.29',\n",
       "       'total_bill_10.33', 'total_bill_10.34', 'total_bill_10.51',\n",
       "       'total_bill_10.63', 'total_bill_10.65', 'total_bill_10.77',\n",
       "       'total_bill_11.02', 'total_bill_11.17', 'total_bill_11.24',\n",
       "       'total_bill_11.35', 'total_bill_11.38', 'total_bill_11.59',\n",
       "       'total_bill_11.61', 'total_bill_11.69', 'total_bill_12.02',\n",
       "       'total_bill_12.26', 'total_bill_12.46', 'total_bill_12.54',\n",
       "       'total_bill_12.6', 'total_bill_12.69', 'total_bill_12.74',\n",
       "       'total_bill_12.9', 'total_bill_13.0', 'total_bill_13.03',\n",
       "       'total_bill_13.13', 'total_bill_13.16', 'total_bill_13.27',\n",
       "       'total_bill_13.28', 'total_bill_13.37', 'total_bill_13.42',\n",
       "       'total_bill_13.81', 'total_bill_14.15', 'total_bill_14.31',\n",
       "       'total_bill_14.48', 'total_bill_14.52', 'total_bill_15.01',\n",
       "       'total_bill_15.06', 'total_bill_15.36', 'total_bill_15.38',\n",
       "       'total_bill_15.48', 'total_bill_15.53', 'total_bill_15.69',\n",
       "       'total_bill_15.98', 'total_bill_16.04', 'total_bill_16.21',\n",
       "       'total_bill_16.29', 'total_bill_16.32', 'total_bill_16.43',\n",
       "       'total_bill_16.47', 'total_bill_16.49', 'total_bill_16.58',\n",
       "       'total_bill_16.66', 'total_bill_16.82', 'total_bill_16.99',\n",
       "       'total_bill_17.26', 'total_bill_17.29', 'total_bill_17.31',\n",
       "       'total_bill_17.46', 'total_bill_17.51', 'total_bill_17.78',\n",
       "       'total_bill_17.81', 'total_bill_17.82', 'total_bill_18.04',\n",
       "       'total_bill_18.28', 'total_bill_18.35', 'total_bill_18.43',\n",
       "       'total_bill_18.64', 'total_bill_18.69', 'total_bill_18.71',\n",
       "       'total_bill_19.08', 'total_bill_19.44', 'total_bill_19.65',\n",
       "       'total_bill_19.77', 'total_bill_19.81', 'total_bill_19.82',\n",
       "       'total_bill_20.08', 'total_bill_20.23', 'total_bill_20.27',\n",
       "       'total_bill_20.29', 'total_bill_20.45', 'total_bill_20.53',\n",
       "       'total_bill_20.65', 'total_bill_20.76', 'total_bill_20.9',\n",
       "       'total_bill_21.01', 'total_bill_21.16', 'total_bill_21.5',\n",
       "       'total_bill_21.7', 'total_bill_22.12', 'total_bill_22.23',\n",
       "       'total_bill_22.42', 'total_bill_22.67', 'total_bill_22.75',\n",
       "       'total_bill_22.76', 'total_bill_22.82', 'total_bill_23.17',\n",
       "       'total_bill_23.68', 'total_bill_23.95', 'total_bill_24.06',\n",
       "       'total_bill_24.08', 'total_bill_24.27', 'total_bill_24.52',\n",
       "       'total_bill_24.55', 'total_bill_24.59', 'total_bill_24.71',\n",
       "       'total_bill_25.0', 'total_bill_25.56', 'total_bill_25.71',\n",
       "       'total_bill_26.41', 'total_bill_26.59', 'total_bill_26.86',\n",
       "       'total_bill_27.05', 'total_bill_27.18', 'total_bill_27.2',\n",
       "       'total_bill_28.15', 'total_bill_28.17', 'total_bill_28.44',\n",
       "       'total_bill_28.55', 'total_bill_28.97', 'total_bill_29.03',\n",
       "       'total_bill_30.14', 'total_bill_30.46', 'total_bill_31.27',\n",
       "       'total_bill_31.71', 'total_bill_31.85', 'total_bill_32.4',\n",
       "       'total_bill_32.83', 'total_bill_32.9', 'total_bill_34.3',\n",
       "       'total_bill_34.81', 'total_bill_34.83', 'total_bill_35.26',\n",
       "       'total_bill_35.83', 'total_bill_38.01', 'total_bill_38.07',\n",
       "       'total_bill_38.73', 'total_bill_39.42', 'total_bill_40.17',\n",
       "       'total_bill_40.55', 'total_bill_41.19', 'total_bill_43.11',\n",
       "       'total_bill_44.3', 'total_bill_45.35', 'total_bill_48.27',\n",
       "       'total_bill_50.81', 'sex_Male', 'smoker_Yes', 'day_Fri', 'day_Sat',\n",
       "       'day_Sun', 'day_Thur', 'time_Lunch', 'size_1.0', 'size_2.0',\n",
       "       'size_3.0', 'size_4.0', 'size_5.0', 'size_6.0'], dtype=object)"
      ]
     },
     "execution_count": 47,
     "metadata": {},
     "output_type": "execute_result"
    }
   ],
   "source": [
    "ohe.get_feature_names_out()"
   ]
  },
  {
   "cell_type": "markdown",
   "metadata": {},
   "source": [
    "## `make_column_transformer`\n",
    "If we want to apply a transformation to only some of our X columns, we need to specify which columns with `make_column_transformer`."
   ]
  },
  {
   "cell_type": "code",
   "execution_count": 48,
   "metadata": {},
   "outputs": [],
   "source": [
    "from sklearn.compose import make_column_transformer"
   ]
  },
  {
   "cell_type": "code",
   "execution_count": 50,
   "metadata": {},
   "outputs": [],
   "source": [
    "ohe = OneHotEncoder(sparse=False, drop='if_binary', handle_unknown='ignore')"
   ]
  },
  {
   "cell_type": "code",
   "execution_count": 56,
   "metadata": {},
   "outputs": [],
   "source": [
    "smart_encoder = make_column_transformer(\n",
    "    (ohe, ['sex', 'smoker', 'day', 'time']),\n",
    "    remainder='passthrough',\n",
    "    verbose_feature_names_out=False  # hot off the press\n",
    ")"
   ]
  },
  {
   "cell_type": "code",
   "execution_count": 57,
   "metadata": {},
   "outputs": [
    {
     "data": {
      "text/plain": [
       "sklearn.compose._column_transformer.ColumnTransformer"
      ]
     },
     "execution_count": 57,
     "metadata": {},
     "output_type": "execute_result"
    }
   ],
   "source": [
    "type(smart_encoder)"
   ]
  },
  {
   "cell_type": "code",
   "execution_count": 58,
   "metadata": {},
   "outputs": [
    {
     "data": {
      "text/plain": [
       "array([[1.0, 1.0, 0.0, ..., 0.0, 10.07, 2.0],\n",
       "       [1.0, 0.0, 0.0, ..., 1.0, 21.16, 2.0],\n",
       "       [0.0, 0.0, 0.0, ..., 0.0, 25.0, 4.0],\n",
       "       ...,\n",
       "       [0.0, 0.0, 0.0, ..., 1.0, 10.65, 2.0],\n",
       "       [1.0, 0.0, 0.0, ..., 0.0, 32.4, 4.0],\n",
       "       [1.0, 1.0, 0.0, ..., 0.0, 7.25, 2.0]], dtype=object)"
      ]
     },
     "execution_count": 58,
     "metadata": {},
     "output_type": "execute_result"
    }
   ],
   "source": [
    "smart_encoder.fit(X_train_filled)\n",
    "X_train_encoded = smart_encoder.transform(X_train_filled)\n",
    "X_train_encoded"
   ]
  },
  {
   "cell_type": "code",
   "execution_count": 59,
   "metadata": {},
   "outputs": [],
   "source": [
    "X_train_encoded = smart_encoder.fit_transform(X_train_filled)  # same as doing the above, \n",
    "# fits and then transforms"
   ]
  },
  {
   "cell_type": "code",
   "execution_count": 60,
   "metadata": {},
   "outputs": [
    {
     "data": {
      "text/plain": [
       "array(['sex_Male', 'smoker_Yes', 'day_Fri', 'day_Sat', 'day_Sun',\n",
       "       'day_Thur', 'time_Lunch', 'total_bill', 'size'], dtype=object)"
      ]
     },
     "execution_count": 60,
     "metadata": {},
     "output_type": "execute_result"
    }
   ],
   "source": [
    "smart_encoder.get_feature_names_out()"
   ]
  },
  {
   "cell_type": "code",
   "execution_count": null,
   "metadata": {},
   "outputs": [],
   "source": []
  },
  {
   "cell_type": "markdown",
   "metadata": {},
   "source": [
    "### Convert to a DataFrame"
   ]
  },
  {
   "cell_type": "code",
   "execution_count": 61,
   "metadata": {},
   "outputs": [],
   "source": [
    "X_train_encoded = pd.DataFrame(\n",
    "    X_train_encoded, \n",
    "    columns=smart_encoder.get_feature_names_out()\n",
    ")"
   ]
  },
  {
   "cell_type": "code",
   "execution_count": 62,
   "metadata": {},
   "outputs": [
    {
     "data": {
      "text/html": [
       "<div>\n",
       "<style scoped>\n",
       "    .dataframe tbody tr th:only-of-type {\n",
       "        vertical-align: middle;\n",
       "    }\n",
       "\n",
       "    .dataframe tbody tr th {\n",
       "        vertical-align: top;\n",
       "    }\n",
       "\n",
       "    .dataframe thead th {\n",
       "        text-align: right;\n",
       "    }\n",
       "</style>\n",
       "<table border=\"1\" class=\"dataframe\">\n",
       "  <thead>\n",
       "    <tr style=\"text-align: right;\">\n",
       "      <th></th>\n",
       "      <th>sex_Male</th>\n",
       "      <th>smoker_Yes</th>\n",
       "      <th>day_Fri</th>\n",
       "      <th>day_Sat</th>\n",
       "      <th>day_Sun</th>\n",
       "      <th>day_Thur</th>\n",
       "      <th>time_Lunch</th>\n",
       "      <th>total_bill</th>\n",
       "      <th>size</th>\n",
       "    </tr>\n",
       "  </thead>\n",
       "  <tbody>\n",
       "    <tr>\n",
       "      <th>0</th>\n",
       "      <td>1.0</td>\n",
       "      <td>1.0</td>\n",
       "      <td>0.0</td>\n",
       "      <td>1.0</td>\n",
       "      <td>0.0</td>\n",
       "      <td>0.0</td>\n",
       "      <td>0.0</td>\n",
       "      <td>10.07</td>\n",
       "      <td>2.0</td>\n",
       "    </tr>\n",
       "    <tr>\n",
       "      <th>1</th>\n",
       "      <td>1.0</td>\n",
       "      <td>0.0</td>\n",
       "      <td>0.0</td>\n",
       "      <td>0.0</td>\n",
       "      <td>0.0</td>\n",
       "      <td>1.0</td>\n",
       "      <td>1.0</td>\n",
       "      <td>21.16</td>\n",
       "      <td>2.0</td>\n",
       "    </tr>\n",
       "    <tr>\n",
       "      <th>2</th>\n",
       "      <td>0.0</td>\n",
       "      <td>0.0</td>\n",
       "      <td>0.0</td>\n",
       "      <td>0.0</td>\n",
       "      <td>1.0</td>\n",
       "      <td>0.0</td>\n",
       "      <td>0.0</td>\n",
       "      <td>25.0</td>\n",
       "      <td>4.0</td>\n",
       "    </tr>\n",
       "    <tr>\n",
       "      <th>3</th>\n",
       "      <td>0.0</td>\n",
       "      <td>0.0</td>\n",
       "      <td>0.0</td>\n",
       "      <td>1.0</td>\n",
       "      <td>0.0</td>\n",
       "      <td>0.0</td>\n",
       "      <td>0.0</td>\n",
       "      <td>30.14</td>\n",
       "      <td>4.0</td>\n",
       "    </tr>\n",
       "    <tr>\n",
       "      <th>4</th>\n",
       "      <td>1.0</td>\n",
       "      <td>1.0</td>\n",
       "      <td>0.0</td>\n",
       "      <td>1.0</td>\n",
       "      <td>0.0</td>\n",
       "      <td>0.0</td>\n",
       "      <td>0.0</td>\n",
       "      <td>15.53</td>\n",
       "      <td>2.0</td>\n",
       "    </tr>\n",
       "    <tr>\n",
       "      <th>...</th>\n",
       "      <td>...</td>\n",
       "      <td>...</td>\n",
       "      <td>...</td>\n",
       "      <td>...</td>\n",
       "      <td>...</td>\n",
       "      <td>...</td>\n",
       "      <td>...</td>\n",
       "      <td>...</td>\n",
       "      <td>...</td>\n",
       "    </tr>\n",
       "    <tr>\n",
       "      <th>178</th>\n",
       "      <td>0.0</td>\n",
       "      <td>1.0</td>\n",
       "      <td>0.0</td>\n",
       "      <td>1.0</td>\n",
       "      <td>0.0</td>\n",
       "      <td>0.0</td>\n",
       "      <td>0.0</td>\n",
       "      <td>10.07</td>\n",
       "      <td>2.0</td>\n",
       "    </tr>\n",
       "    <tr>\n",
       "      <th>179</th>\n",
       "      <td>1.0</td>\n",
       "      <td>1.0</td>\n",
       "      <td>0.0</td>\n",
       "      <td>0.0</td>\n",
       "      <td>0.0</td>\n",
       "      <td>1.0</td>\n",
       "      <td>1.0</td>\n",
       "      <td>28.44</td>\n",
       "      <td>2.0</td>\n",
       "    </tr>\n",
       "    <tr>\n",
       "      <th>180</th>\n",
       "      <td>0.0</td>\n",
       "      <td>0.0</td>\n",
       "      <td>0.0</td>\n",
       "      <td>1.0</td>\n",
       "      <td>0.0</td>\n",
       "      <td>0.0</td>\n",
       "      <td>1.0</td>\n",
       "      <td>10.65</td>\n",
       "      <td>2.0</td>\n",
       "    </tr>\n",
       "    <tr>\n",
       "      <th>181</th>\n",
       "      <td>1.0</td>\n",
       "      <td>0.0</td>\n",
       "      <td>0.0</td>\n",
       "      <td>0.0</td>\n",
       "      <td>1.0</td>\n",
       "      <td>0.0</td>\n",
       "      <td>0.0</td>\n",
       "      <td>32.4</td>\n",
       "      <td>4.0</td>\n",
       "    </tr>\n",
       "    <tr>\n",
       "      <th>182</th>\n",
       "      <td>1.0</td>\n",
       "      <td>1.0</td>\n",
       "      <td>0.0</td>\n",
       "      <td>1.0</td>\n",
       "      <td>0.0</td>\n",
       "      <td>0.0</td>\n",
       "      <td>0.0</td>\n",
       "      <td>7.25</td>\n",
       "      <td>2.0</td>\n",
       "    </tr>\n",
       "  </tbody>\n",
       "</table>\n",
       "<p>183 rows × 9 columns</p>\n",
       "</div>"
      ],
      "text/plain": [
       "    sex_Male smoker_Yes day_Fri day_Sat day_Sun day_Thur time_Lunch  \\\n",
       "0        1.0        1.0     0.0     1.0     0.0      0.0        0.0   \n",
       "1        1.0        0.0     0.0     0.0     0.0      1.0        1.0   \n",
       "2        0.0        0.0     0.0     0.0     1.0      0.0        0.0   \n",
       "3        0.0        0.0     0.0     1.0     0.0      0.0        0.0   \n",
       "4        1.0        1.0     0.0     1.0     0.0      0.0        0.0   \n",
       "..       ...        ...     ...     ...     ...      ...        ...   \n",
       "178      0.0        1.0     0.0     1.0     0.0      0.0        0.0   \n",
       "179      1.0        1.0     0.0     0.0     0.0      1.0        1.0   \n",
       "180      0.0        0.0     0.0     1.0     0.0      0.0        1.0   \n",
       "181      1.0        0.0     0.0     0.0     1.0      0.0        0.0   \n",
       "182      1.0        1.0     0.0     1.0     0.0      0.0        0.0   \n",
       "\n",
       "    total_bill size  \n",
       "0        10.07  2.0  \n",
       "1        21.16  2.0  \n",
       "2         25.0  4.0  \n",
       "3        30.14  4.0  \n",
       "4        15.53  2.0  \n",
       "..         ...  ...  \n",
       "178      10.07  2.0  \n",
       "179      28.44  2.0  \n",
       "180      10.65  2.0  \n",
       "181       32.4  4.0  \n",
       "182       7.25  2.0  \n",
       "\n",
       "[183 rows x 9 columns]"
      ]
     },
     "execution_count": 62,
     "metadata": {},
     "output_type": "execute_result"
    }
   ],
   "source": [
    "X_train_encoded"
   ]
  },
  {
   "cell_type": "code",
   "execution_count": 63,
   "metadata": {},
   "outputs": [],
   "source": [
    "X_test_encoded = smart_encoder.transform(X_test_filled)"
   ]
  },
  {
   "cell_type": "code",
   "execution_count": 64,
   "metadata": {
    "collapsed": true,
    "jupyter": {
     "outputs_hidden": true
    },
    "tags": []
   },
   "outputs": [
    {
     "data": {
      "text/plain": [
       "array([[1.0, 0.0, 0.0, 1.0, 0.0, 0.0, 0.0, 17.59, 3.0],\n",
       "       [1.0, 1.0, 0.0, 1.0, 0.0, 0.0, 0.0, 18.29, 2.0],\n",
       "       [1.0, 0.0, 0.0, 0.0, 1.0, 0.0, 0.0, 19.49, 2.0],\n",
       "       [0.0, 0.0, 0.0, 1.0, 0.0, 0.0, 0.0, 7.25, 1.0],\n",
       "       [0.0, 1.0, 1.0, 0.0, 0.0, 0.0, 1.0, 16.27, 2.0],\n",
       "       [0.0, 1.0, 1.0, 0.0, 0.0, 0.0, 0.0, 5.75, 2.0],\n",
       "       [1.0, 1.0, 0.0, 1.0, 0.0, 0.0, 0.0, 17.92, 2.0],\n",
       "       [1.0, 1.0, 0.0, 0.0, 1.0, 0.0, 0.0, 23.33, 2.0],\n",
       "       [0.0, 0.0, 0.0, 0.0, 1.0, 0.0, 0.0, 18.15, 3.0],\n",
       "       [1.0, 1.0, 0.0, 0.0, 1.0, 0.0, 0.0, 34.65, 4.0],\n",
       "       [0.0, 1.0, 0.0, 1.0, 0.0, 0.0, 0.0, 25.28, 2.0],\n",
       "       [1.0, 1.0, 0.0, 1.0, 0.0, 0.0, 0.0, 25.21, 2.0],\n",
       "       [1.0, 0.0, 0.0, 0.0, 1.0, 0.0, 0.0, 14.07, 2.0],\n",
       "       [0.0, 0.0, 0.0, 0.0, 0.0, 1.0, 1.0, 13.0, 2.0],\n",
       "       [1.0, 1.0, 1.0, 0.0, 0.0, 0.0, 1.0, 13.42, 2.0],\n",
       "       [1.0, 0.0, 0.0, 0.0, 1.0, 0.0, 0.0, 30.4, 4.0],\n",
       "       [0.0, 0.0, 0.0, 0.0, 0.0, 1.0, 1.0, 8.35, 2.0],\n",
       "       [1.0, 0.0, 0.0, 1.0, 0.0, 0.0, 0.0, 14.0, 2.0],\n",
       "       [0.0, 0.0, 0.0, 0.0, 0.0, 1.0, 0.0, 18.78, 2.0],\n",
       "       [1.0, 1.0, 0.0, 0.0, 1.0, 0.0, 0.0, 23.1, 3.0],\n",
       "       [1.0, 1.0, 0.0, 1.0, 0.0, 0.0, 0.0, 30.06, 3.0],\n",
       "       [0.0, 0.0, 0.0, 1.0, 0.0, 0.0, 0.0, 20.92, 2.0],\n",
       "       [1.0, 1.0, 0.0, 0.0, 0.0, 1.0, 1.0, 10.07, 2.0],\n",
       "       [1.0, 0.0, 0.0, 0.0, 1.0, 0.0, 0.0, 15.04, 2.0],\n",
       "       [1.0, 0.0, 0.0, 0.0, 0.0, 1.0, 1.0, 10.07, 2.0],\n",
       "       [0.0, 1.0, 0.0, 0.0, 0.0, 1.0, 1.0, 16.4, 2.0],\n",
       "       [1.0, 1.0, 1.0, 0.0, 0.0, 0.0, 0.0, 12.16, 2.0],\n",
       "       [0.0, 0.0, 0.0, 0.0, 0.0, 1.0, 1.0, 29.8, 6.0],\n",
       "       [1.0, 0.0, 0.0, 0.0, 1.0, 0.0, 0.0, 25.29, 4.0],\n",
       "       [0.0, 0.0, 0.0, 1.0, 0.0, 0.0, 0.0, 15.77, 2.0],\n",
       "       [0.0, 0.0, 0.0, 1.0, 0.0, 0.0, 0.0, 14.73, 2.0],\n",
       "       [0.0, 0.0, 0.0, 0.0, 0.0, 1.0, 1.0, 12.48, 2.0],\n",
       "       [1.0, 0.0, 0.0, 0.0, 1.0, 0.0, 0.0, 15.42, 2.0],\n",
       "       [0.0, 1.0, 0.0, 1.0, 0.0, 0.0, 0.0, 10.07, 2.0],\n",
       "       [1.0, 0.0, 0.0, 0.0, 1.0, 0.0, 0.0, 18.29, 2.0],\n",
       "       [0.0, 0.0, 0.0, 0.0, 1.0, 0.0, 0.0, 13.39, 2.0],\n",
       "       [0.0, 0.0, 0.0, 1.0, 0.0, 0.0, 0.0, 16.93, 3.0],\n",
       "       [0.0, 0.0, 0.0, 0.0, 0.0, 1.0, 1.0, 10.33, 2.0],\n",
       "       [1.0, 0.0, 0.0, 1.0, 0.0, 0.0, 0.0, 48.33, 4.0],\n",
       "       [0.0, 0.0, 1.0, 0.0, 0.0, 0.0, 1.0, 15.98, 3.0],\n",
       "       [1.0, 1.0, 1.0, 0.0, 0.0, 0.0, 1.0, 8.58, 1.0],\n",
       "       [0.0, 0.0, 0.0, 0.0, 0.0, 1.0, 0.0, 12.43, 2.0],\n",
       "       [1.0, 1.0, 0.0, 1.0, 0.0, 0.0, 0.0, 15.69, 3.0],\n",
       "       [0.0, 0.0, 0.0, 0.0, 1.0, 0.0, 0.0, 10.07, 5.0],\n",
       "       [1.0, 1.0, 0.0, 1.0, 0.0, 0.0, 0.0, 12.76, 2.0],\n",
       "       [0.0, 0.0, 0.0, 0.0, 1.0, 0.0, 0.0, 16.97, 3.0],\n",
       "       [1.0, 0.0, 0.0, 1.0, 0.0, 0.0, 0.0, 18.24, 2.0],\n",
       "       [1.0, 0.0, 0.0, 0.0, 1.0, 0.0, 0.0, 21.58, 2.0],\n",
       "       [0.0, 0.0, 0.0, 1.0, 0.0, 0.0, 0.0, 17.07, 2.0],\n",
       "       [1.0, 0.0, 0.0, 0.0, 1.0, 0.0, 0.0, 26.88, 4.0],\n",
       "       [1.0, 1.0, 0.0, 0.0, 0.0, 1.0, 1.0, 32.68, 2.0],\n",
       "       [1.0, 1.0, 0.0, 0.0, 1.0, 0.0, 0.0, 17.89, 2.0],\n",
       "       [1.0, 1.0, 0.0, 1.0, 0.0, 0.0, 0.0, 20.49, 2.0],\n",
       "       [1.0, 0.0, 0.0, 0.0, 1.0, 0.0, 0.0, 48.17, 6.0],\n",
       "       [0.0, 1.0, 0.0, 1.0, 0.0, 0.0, 0.0, 10.07, 2.0],\n",
       "       [1.0, 1.0, 1.0, 0.0, 0.0, 0.0, 0.0, 10.07, 2.0],\n",
       "       [1.0, 0.0, 0.0, 0.0, 1.0, 0.0, 0.0, 29.93, 4.0],\n",
       "       [1.0, 0.0, 0.0, 1.0, 0.0, 0.0, 0.0, 20.69, 4.0],\n",
       "       [1.0, 0.0, 0.0, 0.0, 0.0, 1.0, 1.0, 14.26, 2.0],\n",
       "       [1.0, 0.0, 0.0, 0.0, 1.0, 0.0, 0.0, 12.66, 2.0],\n",
       "       [1.0, 1.0, 1.0, 0.0, 0.0, 0.0, 0.0, 27.28, 2.0]], dtype=object)"
      ]
     },
     "execution_count": 64,
     "metadata": {},
     "output_type": "execute_result"
    }
   ],
   "source": [
    "X_test_encoded"
   ]
  },
  {
   "cell_type": "code",
   "execution_count": 65,
   "metadata": {},
   "outputs": [],
   "source": [
    "X_test_encoded = pd.DataFrame(\n",
    "    X_test_encoded, \n",
    "    columns=smart_encoder.get_feature_names_out()\n",
    ")"
   ]
  },
  {
   "cell_type": "code",
   "execution_count": 66,
   "metadata": {},
   "outputs": [
    {
     "data": {
      "text/html": [
       "<div>\n",
       "<style scoped>\n",
       "    .dataframe tbody tr th:only-of-type {\n",
       "        vertical-align: middle;\n",
       "    }\n",
       "\n",
       "    .dataframe tbody tr th {\n",
       "        vertical-align: top;\n",
       "    }\n",
       "\n",
       "    .dataframe thead th {\n",
       "        text-align: right;\n",
       "    }\n",
       "</style>\n",
       "<table border=\"1\" class=\"dataframe\">\n",
       "  <thead>\n",
       "    <tr style=\"text-align: right;\">\n",
       "      <th></th>\n",
       "      <th>sex_Male</th>\n",
       "      <th>smoker_Yes</th>\n",
       "      <th>day_Fri</th>\n",
       "      <th>day_Sat</th>\n",
       "      <th>day_Sun</th>\n",
       "      <th>day_Thur</th>\n",
       "      <th>time_Lunch</th>\n",
       "      <th>total_bill</th>\n",
       "      <th>size</th>\n",
       "    </tr>\n",
       "  </thead>\n",
       "  <tbody>\n",
       "    <tr>\n",
       "      <th>0</th>\n",
       "      <td>1.0</td>\n",
       "      <td>0.0</td>\n",
       "      <td>0.0</td>\n",
       "      <td>1.0</td>\n",
       "      <td>0.0</td>\n",
       "      <td>0.0</td>\n",
       "      <td>0.0</td>\n",
       "      <td>17.59</td>\n",
       "      <td>3.0</td>\n",
       "    </tr>\n",
       "    <tr>\n",
       "      <th>1</th>\n",
       "      <td>1.0</td>\n",
       "      <td>1.0</td>\n",
       "      <td>0.0</td>\n",
       "      <td>1.0</td>\n",
       "      <td>0.0</td>\n",
       "      <td>0.0</td>\n",
       "      <td>0.0</td>\n",
       "      <td>18.29</td>\n",
       "      <td>2.0</td>\n",
       "    </tr>\n",
       "    <tr>\n",
       "      <th>2</th>\n",
       "      <td>1.0</td>\n",
       "      <td>0.0</td>\n",
       "      <td>0.0</td>\n",
       "      <td>0.0</td>\n",
       "      <td>1.0</td>\n",
       "      <td>0.0</td>\n",
       "      <td>0.0</td>\n",
       "      <td>19.49</td>\n",
       "      <td>2.0</td>\n",
       "    </tr>\n",
       "    <tr>\n",
       "      <th>3</th>\n",
       "      <td>0.0</td>\n",
       "      <td>0.0</td>\n",
       "      <td>0.0</td>\n",
       "      <td>1.0</td>\n",
       "      <td>0.0</td>\n",
       "      <td>0.0</td>\n",
       "      <td>0.0</td>\n",
       "      <td>7.25</td>\n",
       "      <td>1.0</td>\n",
       "    </tr>\n",
       "    <tr>\n",
       "      <th>4</th>\n",
       "      <td>0.0</td>\n",
       "      <td>1.0</td>\n",
       "      <td>1.0</td>\n",
       "      <td>0.0</td>\n",
       "      <td>0.0</td>\n",
       "      <td>0.0</td>\n",
       "      <td>1.0</td>\n",
       "      <td>16.27</td>\n",
       "      <td>2.0</td>\n",
       "    </tr>\n",
       "    <tr>\n",
       "      <th>...</th>\n",
       "      <td>...</td>\n",
       "      <td>...</td>\n",
       "      <td>...</td>\n",
       "      <td>...</td>\n",
       "      <td>...</td>\n",
       "      <td>...</td>\n",
       "      <td>...</td>\n",
       "      <td>...</td>\n",
       "      <td>...</td>\n",
       "    </tr>\n",
       "    <tr>\n",
       "      <th>56</th>\n",
       "      <td>1.0</td>\n",
       "      <td>0.0</td>\n",
       "      <td>0.0</td>\n",
       "      <td>0.0</td>\n",
       "      <td>1.0</td>\n",
       "      <td>0.0</td>\n",
       "      <td>0.0</td>\n",
       "      <td>29.93</td>\n",
       "      <td>4.0</td>\n",
       "    </tr>\n",
       "    <tr>\n",
       "      <th>57</th>\n",
       "      <td>1.0</td>\n",
       "      <td>0.0</td>\n",
       "      <td>0.0</td>\n",
       "      <td>1.0</td>\n",
       "      <td>0.0</td>\n",
       "      <td>0.0</td>\n",
       "      <td>0.0</td>\n",
       "      <td>20.69</td>\n",
       "      <td>4.0</td>\n",
       "    </tr>\n",
       "    <tr>\n",
       "      <th>58</th>\n",
       "      <td>1.0</td>\n",
       "      <td>0.0</td>\n",
       "      <td>0.0</td>\n",
       "      <td>0.0</td>\n",
       "      <td>0.0</td>\n",
       "      <td>1.0</td>\n",
       "      <td>1.0</td>\n",
       "      <td>14.26</td>\n",
       "      <td>2.0</td>\n",
       "    </tr>\n",
       "    <tr>\n",
       "      <th>59</th>\n",
       "      <td>1.0</td>\n",
       "      <td>0.0</td>\n",
       "      <td>0.0</td>\n",
       "      <td>0.0</td>\n",
       "      <td>1.0</td>\n",
       "      <td>0.0</td>\n",
       "      <td>0.0</td>\n",
       "      <td>12.66</td>\n",
       "      <td>2.0</td>\n",
       "    </tr>\n",
       "    <tr>\n",
       "      <th>60</th>\n",
       "      <td>1.0</td>\n",
       "      <td>1.0</td>\n",
       "      <td>1.0</td>\n",
       "      <td>0.0</td>\n",
       "      <td>0.0</td>\n",
       "      <td>0.0</td>\n",
       "      <td>0.0</td>\n",
       "      <td>27.28</td>\n",
       "      <td>2.0</td>\n",
       "    </tr>\n",
       "  </tbody>\n",
       "</table>\n",
       "<p>61 rows × 9 columns</p>\n",
       "</div>"
      ],
      "text/plain": [
       "   sex_Male smoker_Yes day_Fri day_Sat day_Sun day_Thur time_Lunch total_bill  \\\n",
       "0       1.0        0.0     0.0     1.0     0.0      0.0        0.0      17.59   \n",
       "1       1.0        1.0     0.0     1.0     0.0      0.0        0.0      18.29   \n",
       "2       1.0        0.0     0.0     0.0     1.0      0.0        0.0      19.49   \n",
       "3       0.0        0.0     0.0     1.0     0.0      0.0        0.0       7.25   \n",
       "4       0.0        1.0     1.0     0.0     0.0      0.0        1.0      16.27   \n",
       "..      ...        ...     ...     ...     ...      ...        ...        ...   \n",
       "56      1.0        0.0     0.0     0.0     1.0      0.0        0.0      29.93   \n",
       "57      1.0        0.0     0.0     1.0     0.0      0.0        0.0      20.69   \n",
       "58      1.0        0.0     0.0     0.0     0.0      1.0        1.0      14.26   \n",
       "59      1.0        0.0     0.0     0.0     1.0      0.0        0.0      12.66   \n",
       "60      1.0        1.0     1.0     0.0     0.0      0.0        0.0      27.28   \n",
       "\n",
       "   size  \n",
       "0   3.0  \n",
       "1   2.0  \n",
       "2   2.0  \n",
       "3   1.0  \n",
       "4   2.0  \n",
       "..  ...  \n",
       "56  4.0  \n",
       "57  4.0  \n",
       "58  2.0  \n",
       "59  2.0  \n",
       "60  2.0  \n",
       "\n",
       "[61 rows x 9 columns]"
      ]
     },
     "execution_count": 66,
     "metadata": {},
     "output_type": "execute_result"
    }
   ],
   "source": [
    "X_test_encoded"
   ]
  },
  {
   "cell_type": "markdown",
   "metadata": {},
   "source": [
    "---\n",
    "## 3. StandardScaler\n",
    "You've seen how to make sure each feature has  0 mean and 1 standard-deviation. \n",
    "\n",
    "It's a good idea to standardize and scale any model that uses regularization. Then one feature with large values won't overwhelm other features with small values.\n",
    "\n",
    "#### Before:\n",
    "![plots of distributions](images/orig_dists.png)"
   ]
  },
  {
   "cell_type": "markdown",
   "metadata": {},
   "source": [
    "#### After:\n",
    "![post standard scaled dists](images/after_ss.png)\n",
    "\n",
    "Plots from Jeff's [post on standardizing and scaling options](https://towardsdatascience.com/scale-standardize-or-normalize-with-scikit-learn-6ccc7d176a02?sk=a82c5faefadd171fe07506db4d4f29db).\n",
    "\n",
    "If a feature doesn't look very normal after standard scaling, you could try `QuantileTransformer(output_distribution='normal')` to make the distribution more normal."
   ]
  },
  {
   "cell_type": "code",
   "execution_count": 67,
   "metadata": {},
   "outputs": [],
   "source": [
    "from sklearn.preprocessing import StandardScaler"
   ]
  },
  {
   "cell_type": "markdown",
   "metadata": {},
   "source": [
    "#### Instantiate, fit and transform X_train, transform (no fit) X_test"
   ]
  },
  {
   "cell_type": "code",
   "execution_count": 68,
   "metadata": {},
   "outputs": [],
   "source": [
    "ss = StandardScaler()"
   ]
  },
  {
   "cell_type": "code",
   "execution_count": 69,
   "metadata": {},
   "outputs": [],
   "source": [
    "X_train_scaled = ss.fit_transform(X_train_encoded)"
   ]
  },
  {
   "cell_type": "code",
   "execution_count": 70,
   "metadata": {},
   "outputs": [
    {
     "data": {
      "text/plain": [
       "array([[ 0.63003696,  1.48678388, -0.24042352, ..., -0.57945356,\n",
       "        -0.99089904, -0.61330158],\n",
       "       [ 0.63003696, -0.67259271, -0.24042352, ...,  1.72576385,\n",
       "         0.20655949, -0.61330158],\n",
       "       [-1.58720848, -0.67259271, -0.24042352, ..., -0.57945356,\n",
       "         0.62118895,  1.5873688 ],\n",
       "       ...,\n",
       "       [-1.58720848, -0.67259271, -0.24042352, ...,  1.72576385,\n",
       "        -0.92827272, -0.61330158],\n",
       "       [ 0.63003696, -0.67259271, -0.24042352, ..., -0.57945356,\n",
       "         1.42021448,  1.5873688 ],\n",
       "       [ 0.63003696,  1.48678388, -0.24042352, ..., -0.57945356,\n",
       "        -1.29539255, -0.61330158]])"
      ]
     },
     "execution_count": 70,
     "metadata": {},
     "output_type": "execute_result"
    }
   ],
   "source": [
    "X_train_scaled"
   ]
  },
  {
   "cell_type": "code",
   "execution_count": 71,
   "metadata": {},
   "outputs": [
    {
     "data": {
      "text/html": [
       "<div>\n",
       "<style scoped>\n",
       "    .dataframe tbody tr th:only-of-type {\n",
       "        vertical-align: middle;\n",
       "    }\n",
       "\n",
       "    .dataframe tbody tr th {\n",
       "        vertical-align: top;\n",
       "    }\n",
       "\n",
       "    .dataframe thead th {\n",
       "        text-align: right;\n",
       "    }\n",
       "</style>\n",
       "<table border=\"1\" class=\"dataframe\">\n",
       "  <thead>\n",
       "    <tr style=\"text-align: right;\">\n",
       "      <th></th>\n",
       "      <th>sex_Male</th>\n",
       "      <th>smoker_Yes</th>\n",
       "      <th>day_Fri</th>\n",
       "      <th>day_Sat</th>\n",
       "      <th>day_Sun</th>\n",
       "      <th>day_Thur</th>\n",
       "      <th>time_Lunch</th>\n",
       "      <th>total_bill</th>\n",
       "      <th>size</th>\n",
       "    </tr>\n",
       "  </thead>\n",
       "  <tbody>\n",
       "    <tr>\n",
       "      <th>0</th>\n",
       "      <td>0.630037</td>\n",
       "      <td>1.486784</td>\n",
       "      <td>-0.240424</td>\n",
       "      <td>1.147369</td>\n",
       "      <td>-0.587868</td>\n",
       "      <td>-0.587868</td>\n",
       "      <td>-0.579454</td>\n",
       "      <td>-0.990899</td>\n",
       "      <td>-0.613302</td>\n",
       "    </tr>\n",
       "    <tr>\n",
       "      <th>1</th>\n",
       "      <td>0.630037</td>\n",
       "      <td>-0.672593</td>\n",
       "      <td>-0.240424</td>\n",
       "      <td>-0.871559</td>\n",
       "      <td>-0.587868</td>\n",
       "      <td>1.701063</td>\n",
       "      <td>1.725764</td>\n",
       "      <td>0.206559</td>\n",
       "      <td>-0.613302</td>\n",
       "    </tr>\n",
       "    <tr>\n",
       "      <th>2</th>\n",
       "      <td>-1.587208</td>\n",
       "      <td>-0.672593</td>\n",
       "      <td>-0.240424</td>\n",
       "      <td>-0.871559</td>\n",
       "      <td>1.701063</td>\n",
       "      <td>-0.587868</td>\n",
       "      <td>-0.579454</td>\n",
       "      <td>0.621189</td>\n",
       "      <td>1.587369</td>\n",
       "    </tr>\n",
       "    <tr>\n",
       "      <th>3</th>\n",
       "      <td>-1.587208</td>\n",
       "      <td>-0.672593</td>\n",
       "      <td>-0.240424</td>\n",
       "      <td>1.147369</td>\n",
       "      <td>-0.587868</td>\n",
       "      <td>-0.587868</td>\n",
       "      <td>-0.579454</td>\n",
       "      <td>1.176188</td>\n",
       "      <td>1.587369</td>\n",
       "    </tr>\n",
       "    <tr>\n",
       "      <th>4</th>\n",
       "      <td>0.630037</td>\n",
       "      <td>1.486784</td>\n",
       "      <td>-0.240424</td>\n",
       "      <td>1.147369</td>\n",
       "      <td>-0.587868</td>\n",
       "      <td>-0.587868</td>\n",
       "      <td>-0.579454</td>\n",
       "      <td>-0.401348</td>\n",
       "      <td>-0.613302</td>\n",
       "    </tr>\n",
       "  </tbody>\n",
       "</table>\n",
       "</div>"
      ],
      "text/plain": [
       "   sex_Male  smoker_Yes   day_Fri   day_Sat   day_Sun  day_Thur  time_Lunch  \\\n",
       "0  0.630037    1.486784 -0.240424  1.147369 -0.587868 -0.587868   -0.579454   \n",
       "1  0.630037   -0.672593 -0.240424 -0.871559 -0.587868  1.701063    1.725764   \n",
       "2 -1.587208   -0.672593 -0.240424 -0.871559  1.701063 -0.587868   -0.579454   \n",
       "3 -1.587208   -0.672593 -0.240424  1.147369 -0.587868 -0.587868   -0.579454   \n",
       "4  0.630037    1.486784 -0.240424  1.147369 -0.587868 -0.587868   -0.579454   \n",
       "\n",
       "   total_bill      size  \n",
       "0   -0.990899 -0.613302  \n",
       "1    0.206559 -0.613302  \n",
       "2    0.621189  1.587369  \n",
       "3    1.176188  1.587369  \n",
       "4   -0.401348 -0.613302  "
      ]
     },
     "execution_count": 71,
     "metadata": {},
     "output_type": "execute_result"
    }
   ],
   "source": [
    "X_train_scaled = pd.DataFrame(X_train_scaled, columns=X_train_encoded.columns)\n",
    "X_train_scaled.head()"
   ]
  },
  {
   "cell_type": "code",
   "execution_count": 85,
   "metadata": {
    "collapsed": true,
    "jupyter": {
     "outputs_hidden": true
    },
    "tags": []
   },
   "outputs": [
    {
     "data": {
      "text/plain": [
       "array([[ 0.63003696, -0.67259271, -0.24042352,  1.14736903, -0.58786753,\n",
       "        -0.58786753, -0.57945356, -0.17891634,  0.48703361],\n",
       "       [ 0.63003696,  1.48678388, -0.24042352,  1.14736903, -0.58786753,\n",
       "        -0.58786753, -0.57945356, -0.10333285, -0.61330158],\n",
       "       [ 0.63003696, -0.67259271, -0.24042352, -0.87155917,  1.7010635 ,\n",
       "        -0.58786753, -0.57945356,  0.02623886, -0.61330158],\n",
       "       [-1.58720848, -0.67259271, -0.24042352,  1.14736903, -0.58786753,\n",
       "        -0.58786753, -0.57945356, -1.29539255, -1.71363677],\n",
       "       [-1.58720848,  1.48678388,  4.15932687, -0.87155917, -0.58786753,\n",
       "        -0.58786753,  1.72576385, -0.32144522, -0.61330158],\n",
       "       [-1.58720848,  1.48678388,  4.15932687, -0.87155917, -0.58786753,\n",
       "        -0.58786753, -0.57945356, -1.45735719, -0.61330158],\n",
       "       [ 0.63003696,  1.48678388, -0.24042352,  1.14736903, -0.58786753,\n",
       "        -0.58786753, -0.57945356, -0.14328412, -0.61330158],\n",
       "       [ 0.63003696,  1.48678388, -0.24042352, -0.87155917,  1.7010635 ,\n",
       "        -0.58786753, -0.57945356,  0.44086832, -0.61330158],\n",
       "       [-1.58720848, -0.67259271, -0.24042352, -0.87155917,  1.7010635 ,\n",
       "        -0.58786753, -0.57945356, -0.11844955,  0.48703361],\n",
       "       [ 0.63003696,  1.48678388, -0.24042352, -0.87155917,  1.7010635 ,\n",
       "        -0.58786753, -0.57945356,  1.66316143,  1.5873688 ],\n",
       "       [-1.58720848,  1.48678388, -0.24042352,  1.14736903, -0.58786753,\n",
       "        -0.58786753, -0.57945356,  0.65142235, -0.61330158],\n",
       "       [ 0.63003696,  1.48678388, -0.24042352,  1.14736903, -0.58786753,\n",
       "        -0.58786753, -0.57945356,  0.643864  , -0.61330158],\n",
       "       [ 0.63003696, -0.67259271, -0.24042352, -0.87155917,  1.7010635 ,\n",
       "        -0.58786753, -0.57945356, -0.55899335, -0.61330158],\n",
       "       [-1.58720848, -0.67259271, -0.24042352, -0.87155917, -0.58786753,\n",
       "         1.7010635 ,  1.72576385, -0.67452812, -0.61330158],\n",
       "       [ 0.63003696,  1.48678388,  4.15932687, -0.87155917, -0.58786753,\n",
       "        -0.58786753,  1.72576385, -0.62917803, -0.61330158],\n",
       "       [ 0.63003696, -0.67259271, -0.24042352, -0.87155917,  1.7010635 ,\n",
       "        -0.58786753, -0.57945356,  1.20426163,  1.5873688 ],\n",
       "       [-1.58720848, -0.67259271, -0.24042352, -0.87155917, -0.58786753,\n",
       "         1.7010635 ,  1.72576385, -1.17661849, -0.61330158],\n",
       "       [ 0.63003696, -0.67259271, -0.24042352,  1.14736903, -0.58786753,\n",
       "        -0.58786753, -0.57945356, -0.5665517 , -0.61330158],\n",
       "       [-1.58720848, -0.67259271, -0.24042352, -0.87155917, -0.58786753,\n",
       "         1.7010635 , -0.57945356, -0.0504244 , -0.61330158],\n",
       "       [ 0.63003696,  1.48678388, -0.24042352, -0.87155917,  1.7010635 ,\n",
       "        -0.58786753, -0.57945356,  0.41603375,  0.48703361],\n",
       "       [ 0.63003696,  1.48678388, -0.24042352,  1.14736903, -0.58786753,\n",
       "        -0.58786753, -0.57945356,  1.16754965,  0.48703361],\n",
       "       [-1.58720848, -0.67259271, -0.24042352,  1.14736903, -0.58786753,\n",
       "        -0.58786753, -0.57945356,  0.18064515, -0.61330158],\n",
       "       [ 0.63003696,  1.48678388, -0.24042352, -0.87155917, -0.58786753,\n",
       "         1.7010635 ,  1.72576385, -0.99089904, -0.61330158],\n",
       "       [ 0.63003696, -0.67259271, -0.24042352, -0.87155917,  1.7010635 ,\n",
       "        -0.58786753, -0.57945356, -0.45425622, -0.61330158],\n",
       "       [ 0.63003696, -0.67259271, -0.24042352, -0.87155917, -0.58786753,\n",
       "         1.7010635 ,  1.72576385, -0.99089904, -0.61330158],\n",
       "       [-1.58720848,  1.48678388, -0.24042352, -0.87155917, -0.58786753,\n",
       "         1.7010635 ,  1.72576385, -0.30740829, -0.61330158],\n",
       "       [ 0.63003696,  1.48678388,  4.15932687, -0.87155917, -0.58786753,\n",
       "        -0.58786753, -0.57945356, -0.76522832, -0.61330158],\n",
       "       [-1.58720848, -0.67259271, -0.24042352, -0.87155917, -0.58786753,\n",
       "         1.7010635 ,  1.72576385,  1.13947578,  3.78803917],\n",
       "       [ 0.63003696, -0.67259271, -0.24042352, -0.87155917,  1.7010635 ,\n",
       "        -0.58786753, -0.57945356,  0.65250211,  1.5873688 ],\n",
       "       [-1.58720848, -0.67259271, -0.24042352,  1.14736903, -0.58786753,\n",
       "        -0.58786753, -0.57945356, -0.37543343, -0.61330158],\n",
       "       [-1.58720848, -0.67259271, -0.24042352,  1.14736903, -0.58786753,\n",
       "        -0.58786753, -0.57945356, -0.48772891, -0.61330158],\n",
       "       [-1.58720848, -0.67259271, -0.24042352, -0.87155917, -0.58786753,\n",
       "         1.7010635 ,  1.72576385, -0.73067586, -0.61330158],\n",
       "       [ 0.63003696, -0.67259271, -0.24042352, -0.87155917,  1.7010635 ,\n",
       "        -0.58786753, -0.57945356, -0.41322518, -0.61330158],\n",
       "       [-1.58720848,  1.48678388, -0.24042352,  1.14736903, -0.58786753,\n",
       "        -0.58786753, -0.57945356, -0.99089904, -0.61330158],\n",
       "       [ 0.63003696, -0.67259271, -0.24042352, -0.87155917,  1.7010635 ,\n",
       "        -0.58786753, -0.57945356, -0.10333285, -0.61330158],\n",
       "       [-1.58720848, -0.67259271, -0.24042352, -0.87155917,  1.7010635 ,\n",
       "        -0.58786753, -0.57945356, -0.63241732, -0.61330158],\n",
       "       [-1.58720848, -0.67259271, -0.24042352,  1.14736903, -0.58786753,\n",
       "        -0.58786753, -0.57945356, -0.25018078,  0.48703361],\n",
       "       [-1.58720848, -0.67259271, -0.24042352, -0.87155917, -0.58786753,\n",
       "         1.7010635 ,  1.72576385, -0.96282517, -0.61330158],\n",
       "       [ 0.63003696, -0.67259271, -0.24042352,  1.14736903, -0.58786753,\n",
       "        -0.58786753, -0.57945356,  3.14027889,  1.5873688 ],\n",
       "       [-1.58720848, -0.67259271,  4.15932687, -0.87155917, -0.58786753,\n",
       "        -0.58786753,  1.72576385, -0.35275838,  0.48703361],\n",
       "       [ 0.63003696,  1.48678388,  4.15932687, -0.87155917, -0.58786753,\n",
       "        -0.58786753,  1.72576385, -1.15178391, -1.71363677],\n",
       "       [-1.58720848, -0.67259271, -0.24042352, -0.87155917, -0.58786753,\n",
       "         1.7010635 , -0.57945356, -0.73607468, -0.61330158],\n",
       "       [ 0.63003696,  1.48678388, -0.24042352,  1.14736903, -0.58786753,\n",
       "        -0.58786753, -0.57945356, -0.38407155,  0.48703361],\n",
       "       [-1.58720848, -0.67259271, -0.24042352, -0.87155917,  1.7010635 ,\n",
       "        -0.58786753, -0.57945356, -0.99089904,  2.68770399],\n",
       "       [ 0.63003696,  1.48678388, -0.24042352,  1.14736903, -0.58786753,\n",
       "        -0.58786753, -0.57945356, -0.70044246, -0.61330158],\n",
       "       [-1.58720848, -0.67259271, -0.24042352, -0.87155917,  1.7010635 ,\n",
       "        -0.58786753, -0.57945356, -0.24586172,  0.48703361],\n",
       "       [ 0.63003696, -0.67259271, -0.24042352,  1.14736903, -0.58786753,\n",
       "        -0.58786753, -0.57945356, -0.10873167, -0.61330158],\n",
       "       [ 0.63003696, -0.67259271, -0.24042352, -0.87155917,  1.7010635 ,\n",
       "        -0.58786753, -0.57945356,  0.25190958, -0.61330158],\n",
       "       [-1.58720848, -0.67259271, -0.24042352,  1.14736903, -0.58786753,\n",
       "        -0.58786753, -0.57945356, -0.23506408, -0.61330158],\n",
       "       [ 0.63003696, -0.67259271, -0.24042352, -0.87155917,  1.7010635 ,\n",
       "        -0.58786753, -0.57945356,  0.82418462,  1.5873688 ],\n",
       "       [ 0.63003696,  1.48678388, -0.24042352, -0.87155917, -0.58786753,\n",
       "         1.7010635 ,  1.72576385,  1.45044788, -0.61330158],\n",
       "       [ 0.63003696,  1.48678388, -0.24042352, -0.87155917,  1.7010635 ,\n",
       "        -0.58786753, -0.57945356, -0.14652342, -0.61330158],\n",
       "       [ 0.63003696,  1.48678388, -0.24042352,  1.14736903, -0.58786753,\n",
       "        -0.58786753, -0.57945356,  0.13421528, -0.61330158],\n",
       "       [ 0.63003696, -0.67259271, -0.24042352, -0.87155917,  1.7010635 ,\n",
       "        -0.58786753, -0.57945356,  3.12300267,  3.78803917],\n",
       "       [-1.58720848,  1.48678388, -0.24042352,  1.14736903, -0.58786753,\n",
       "        -0.58786753, -0.57945356, -0.99089904, -0.61330158],\n",
       "       [ 0.63003696,  1.48678388,  4.15932687, -0.87155917, -0.58786753,\n",
       "        -0.58786753, -0.57945356, -0.99089904, -0.61330158],\n",
       "       [ 0.63003696, -0.67259271, -0.24042352, -0.87155917,  1.7010635 ,\n",
       "        -0.58786753, -0.57945356,  1.15351271,  1.5873688 ],\n",
       "       [ 0.63003696, -0.67259271, -0.24042352,  1.14736903, -0.58786753,\n",
       "        -0.58786753, -0.57945356,  0.15581057,  1.5873688 ],\n",
       "       [ 0.63003696, -0.67259271, -0.24042352, -0.87155917, -0.58786753,\n",
       "         1.7010635 ,  1.72576385, -0.53847783, -0.61330158],\n",
       "       [ 0.63003696, -0.67259271, -0.24042352, -0.87155917,  1.7010635 ,\n",
       "        -0.58786753, -0.57945356, -0.71124011, -0.61330158],\n",
       "       [ 0.63003696,  1.48678388,  4.15932687, -0.87155917, -0.58786753,\n",
       "        -0.58786753, -0.57945356,  0.86737519, -0.61330158]])"
      ]
     },
     "execution_count": 85,
     "metadata": {},
     "output_type": "execute_result"
    }
   ],
   "source": [
    "X_test_scaled = ss.transform(X_test_encoded)\n",
    "X_test_scaled"
   ]
  },
  {
   "cell_type": "code",
   "execution_count": 87,
   "metadata": {},
   "outputs": [
    {
     "data": {
      "text/html": [
       "<div>\n",
       "<style scoped>\n",
       "    .dataframe tbody tr th:only-of-type {\n",
       "        vertical-align: middle;\n",
       "    }\n",
       "\n",
       "    .dataframe tbody tr th {\n",
       "        vertical-align: top;\n",
       "    }\n",
       "\n",
       "    .dataframe thead th {\n",
       "        text-align: right;\n",
       "    }\n",
       "</style>\n",
       "<table border=\"1\" class=\"dataframe\">\n",
       "  <thead>\n",
       "    <tr style=\"text-align: right;\">\n",
       "      <th></th>\n",
       "      <th>sex_Male</th>\n",
       "      <th>smoker_Yes</th>\n",
       "      <th>day_Fri</th>\n",
       "      <th>day_Sat</th>\n",
       "      <th>day_Sun</th>\n",
       "      <th>day_Thur</th>\n",
       "      <th>time_Lunch</th>\n",
       "      <th>total_bill</th>\n",
       "      <th>size</th>\n",
       "    </tr>\n",
       "  </thead>\n",
       "  <tbody>\n",
       "    <tr>\n",
       "      <th>0</th>\n",
       "      <td>0.630037</td>\n",
       "      <td>-0.672593</td>\n",
       "      <td>-0.240424</td>\n",
       "      <td>1.147369</td>\n",
       "      <td>-0.587868</td>\n",
       "      <td>-0.587868</td>\n",
       "      <td>-0.579454</td>\n",
       "      <td>-0.178916</td>\n",
       "      <td>0.487034</td>\n",
       "    </tr>\n",
       "    <tr>\n",
       "      <th>1</th>\n",
       "      <td>0.630037</td>\n",
       "      <td>1.486784</td>\n",
       "      <td>-0.240424</td>\n",
       "      <td>1.147369</td>\n",
       "      <td>-0.587868</td>\n",
       "      <td>-0.587868</td>\n",
       "      <td>-0.579454</td>\n",
       "      <td>-0.103333</td>\n",
       "      <td>-0.613302</td>\n",
       "    </tr>\n",
       "    <tr>\n",
       "      <th>2</th>\n",
       "      <td>0.630037</td>\n",
       "      <td>-0.672593</td>\n",
       "      <td>-0.240424</td>\n",
       "      <td>-0.871559</td>\n",
       "      <td>1.701063</td>\n",
       "      <td>-0.587868</td>\n",
       "      <td>-0.579454</td>\n",
       "      <td>0.026239</td>\n",
       "      <td>-0.613302</td>\n",
       "    </tr>\n",
       "    <tr>\n",
       "      <th>3</th>\n",
       "      <td>-1.587208</td>\n",
       "      <td>-0.672593</td>\n",
       "      <td>-0.240424</td>\n",
       "      <td>1.147369</td>\n",
       "      <td>-0.587868</td>\n",
       "      <td>-0.587868</td>\n",
       "      <td>-0.579454</td>\n",
       "      <td>-1.295393</td>\n",
       "      <td>-1.713637</td>\n",
       "    </tr>\n",
       "    <tr>\n",
       "      <th>4</th>\n",
       "      <td>-1.587208</td>\n",
       "      <td>1.486784</td>\n",
       "      <td>4.159327</td>\n",
       "      <td>-0.871559</td>\n",
       "      <td>-0.587868</td>\n",
       "      <td>-0.587868</td>\n",
       "      <td>1.725764</td>\n",
       "      <td>-0.321445</td>\n",
       "      <td>-0.613302</td>\n",
       "    </tr>\n",
       "  </tbody>\n",
       "</table>\n",
       "</div>"
      ],
      "text/plain": [
       "   sex_Male  smoker_Yes   day_Fri   day_Sat   day_Sun  day_Thur  time_Lunch  \\\n",
       "0  0.630037   -0.672593 -0.240424  1.147369 -0.587868 -0.587868   -0.579454   \n",
       "1  0.630037    1.486784 -0.240424  1.147369 -0.587868 -0.587868   -0.579454   \n",
       "2  0.630037   -0.672593 -0.240424 -0.871559  1.701063 -0.587868   -0.579454   \n",
       "3 -1.587208   -0.672593 -0.240424  1.147369 -0.587868 -0.587868   -0.579454   \n",
       "4 -1.587208    1.486784  4.159327 -0.871559 -0.587868 -0.587868    1.725764   \n",
       "\n",
       "   total_bill      size  \n",
       "0   -0.178916  0.487034  \n",
       "1   -0.103333 -0.613302  \n",
       "2    0.026239 -0.613302  \n",
       "3   -1.295393 -1.713637  \n",
       "4   -0.321445 -0.613302  "
      ]
     },
     "execution_count": 87,
     "metadata": {},
     "output_type": "execute_result"
    }
   ],
   "source": [
    "X_test_scaled = pd.DataFrame(X_test_scaled, columns=X_test_encoded.columns)\n",
    "X_test_scaled.head()"
   ]
  },
  {
   "cell_type": "code",
   "execution_count": 77,
   "metadata": {},
   "outputs": [
    {
     "data": {
      "image/png": "[encoded data removed]",
      "text/plain": [
       "<Figure size 432x288 with 1 Axes>"
      ]
     },
     "metadata": {
      "needs_background": "light"
     },
     "output_type": "display_data"
    }
   ],
   "source": [
    "sns.histplot(X_train_scaled['total_bill']);"
   ]
  },
  {
   "cell_type": "markdown",
   "metadata": {},
   "source": [
    "---\n",
    "## 4. PolynomialFeatures\n",
    "\n",
    "![](images/fireworks.jpeg)\n",
    "\n",
    "You've seen how to add interactions and polynomials to create more features. This can help capture non-linear relationships for a regression model.\n",
    "\n",
    "Features *a* and *b* expand into features `1, a, b, a^2, ab, b^2`\n",
    "\n",
    "Watch out for a feature explosion! 🧨\n",
    "\n",
    "Let's do this now so we can then see how to reduce the number of features later."
   ]
  },
  {
   "cell_type": "code",
   "execution_count": 78,
   "metadata": {},
   "outputs": [],
   "source": [
    "from sklearn.preprocessing import PolynomialFeatures"
   ]
  },
  {
   "cell_type": "markdown",
   "metadata": {},
   "source": [
    "#### Instantiate, fit and transform X_train, transform (only) X_test"
   ]
  },
  {
   "cell_type": "code",
   "execution_count": 91,
   "metadata": {},
   "outputs": [],
   "source": [
    "poly = PolynomialFeatures(include_bias=False)\n",
    "X_train_poly = poly.fit_transform(X_train_scaled)\n",
    "X_test_poly =  poly.transform(X_test_scaled)"
   ]
  },
  {
   "cell_type": "code",
   "execution_count": 92,
   "metadata": {},
   "outputs": [
    {
     "data": {
      "text/html": [
       "<div>\n",
       "<style scoped>\n",
       "    .dataframe tbody tr th:only-of-type {\n",
       "        vertical-align: middle;\n",
       "    }\n",
       "\n",
       "    .dataframe tbody tr th {\n",
       "        vertical-align: top;\n",
       "    }\n",
       "\n",
       "    .dataframe thead th {\n",
       "        text-align: right;\n",
       "    }\n",
       "</style>\n",
       "<table border=\"1\" class=\"dataframe\">\n",
       "  <thead>\n",
       "    <tr style=\"text-align: right;\">\n",
       "      <th></th>\n",
       "      <th>sex_Male</th>\n",
       "      <th>smoker_Yes</th>\n",
       "      <th>day_Fri</th>\n",
       "      <th>day_Sat</th>\n",
       "      <th>day_Sun</th>\n",
       "      <th>day_Thur</th>\n",
       "      <th>time_Lunch</th>\n",
       "      <th>total_bill</th>\n",
       "      <th>size</th>\n",
       "      <th>sex_Male^2</th>\n",
       "      <th>...</th>\n",
       "      <th>day_Thur^2</th>\n",
       "      <th>day_Thur time_Lunch</th>\n",
       "      <th>day_Thur total_bill</th>\n",
       "      <th>day_Thur size</th>\n",
       "      <th>time_Lunch^2</th>\n",
       "      <th>time_Lunch total_bill</th>\n",
       "      <th>time_Lunch size</th>\n",
       "      <th>total_bill^2</th>\n",
       "      <th>total_bill size</th>\n",
       "      <th>size^2</th>\n",
       "    </tr>\n",
       "  </thead>\n",
       "  <tbody>\n",
       "    <tr>\n",
       "      <th>0</th>\n",
       "      <td>0.630037</td>\n",
       "      <td>1.486784</td>\n",
       "      <td>-0.240424</td>\n",
       "      <td>1.147369</td>\n",
       "      <td>-0.587868</td>\n",
       "      <td>-0.587868</td>\n",
       "      <td>-0.579454</td>\n",
       "      <td>-0.990899</td>\n",
       "      <td>-0.613302</td>\n",
       "      <td>0.396947</td>\n",
       "      <td>...</td>\n",
       "      <td>0.345588</td>\n",
       "      <td>0.340642</td>\n",
       "      <td>0.582517</td>\n",
       "      <td>0.360540</td>\n",
       "      <td>0.335766</td>\n",
       "      <td>0.574180</td>\n",
       "      <td>0.355380</td>\n",
       "      <td>0.981881</td>\n",
       "      <td>0.607720</td>\n",
       "      <td>0.376139</td>\n",
       "    </tr>\n",
       "    <tr>\n",
       "      <th>1</th>\n",
       "      <td>0.630037</td>\n",
       "      <td>-0.672593</td>\n",
       "      <td>-0.240424</td>\n",
       "      <td>-0.871559</td>\n",
       "      <td>-0.587868</td>\n",
       "      <td>1.701063</td>\n",
       "      <td>1.725764</td>\n",
       "      <td>0.206559</td>\n",
       "      <td>-0.613302</td>\n",
       "      <td>0.396947</td>\n",
       "      <td>...</td>\n",
       "      <td>2.893617</td>\n",
       "      <td>2.935634</td>\n",
       "      <td>0.351371</td>\n",
       "      <td>-1.043265</td>\n",
       "      <td>2.978261</td>\n",
       "      <td>0.356473</td>\n",
       "      <td>-1.058414</td>\n",
       "      <td>0.042667</td>\n",
       "      <td>-0.126683</td>\n",
       "      <td>0.376139</td>\n",
       "    </tr>\n",
       "    <tr>\n",
       "      <th>2</th>\n",
       "      <td>-1.587208</td>\n",
       "      <td>-0.672593</td>\n",
       "      <td>-0.240424</td>\n",
       "      <td>-0.871559</td>\n",
       "      <td>1.701063</td>\n",
       "      <td>-0.587868</td>\n",
       "      <td>-0.579454</td>\n",
       "      <td>0.621189</td>\n",
       "      <td>1.587369</td>\n",
       "      <td>2.519231</td>\n",
       "      <td>...</td>\n",
       "      <td>0.345588</td>\n",
       "      <td>0.340642</td>\n",
       "      <td>-0.365177</td>\n",
       "      <td>-0.933163</td>\n",
       "      <td>0.335766</td>\n",
       "      <td>-0.359950</td>\n",
       "      <td>-0.919806</td>\n",
       "      <td>0.385876</td>\n",
       "      <td>0.986056</td>\n",
       "      <td>2.519740</td>\n",
       "    </tr>\n",
       "    <tr>\n",
       "      <th>3</th>\n",
       "      <td>-1.587208</td>\n",
       "      <td>-0.672593</td>\n",
       "      <td>-0.240424</td>\n",
       "      <td>1.147369</td>\n",
       "      <td>-0.587868</td>\n",
       "      <td>-0.587868</td>\n",
       "      <td>-0.579454</td>\n",
       "      <td>1.176188</td>\n",
       "      <td>1.587369</td>\n",
       "      <td>2.519231</td>\n",
       "      <td>...</td>\n",
       "      <td>0.345588</td>\n",
       "      <td>0.340642</td>\n",
       "      <td>-0.691443</td>\n",
       "      <td>-0.933163</td>\n",
       "      <td>0.335766</td>\n",
       "      <td>-0.681546</td>\n",
       "      <td>-0.919806</td>\n",
       "      <td>1.383418</td>\n",
       "      <td>1.867044</td>\n",
       "      <td>2.519740</td>\n",
       "    </tr>\n",
       "    <tr>\n",
       "      <th>4</th>\n",
       "      <td>0.630037</td>\n",
       "      <td>1.486784</td>\n",
       "      <td>-0.240424</td>\n",
       "      <td>1.147369</td>\n",
       "      <td>-0.587868</td>\n",
       "      <td>-0.587868</td>\n",
       "      <td>-0.579454</td>\n",
       "      <td>-0.401348</td>\n",
       "      <td>-0.613302</td>\n",
       "      <td>0.396947</td>\n",
       "      <td>...</td>\n",
       "      <td>0.345588</td>\n",
       "      <td>0.340642</td>\n",
       "      <td>0.235939</td>\n",
       "      <td>0.360540</td>\n",
       "      <td>0.335766</td>\n",
       "      <td>0.232562</td>\n",
       "      <td>0.355380</td>\n",
       "      <td>0.161080</td>\n",
       "      <td>0.246147</td>\n",
       "      <td>0.376139</td>\n",
       "    </tr>\n",
       "  </tbody>\n",
       "</table>\n",
       "<p>5 rows × 54 columns</p>\n",
       "</div>"
      ],
      "text/plain": [
       "   sex_Male  smoker_Yes   day_Fri   day_Sat   day_Sun  day_Thur  time_Lunch  \\\n",
       "0  0.630037    1.486784 -0.240424  1.147369 -0.587868 -0.587868   -0.579454   \n",
       "1  0.630037   -0.672593 -0.240424 -0.871559 -0.587868  1.701063    1.725764   \n",
       "2 -1.587208   -0.672593 -0.240424 -0.871559  1.701063 -0.587868   -0.579454   \n",
       "3 -1.587208   -0.672593 -0.240424  1.147369 -0.587868 -0.587868   -0.579454   \n",
       "4  0.630037    1.486784 -0.240424  1.147369 -0.587868 -0.587868   -0.579454   \n",
       "\n",
       "   total_bill      size  sex_Male^2  ...  day_Thur^2  day_Thur time_Lunch  \\\n",
       "0   -0.990899 -0.613302    0.396947  ...    0.345588             0.340642   \n",
       "1    0.206559 -0.613302    0.396947  ...    2.893617             2.935634   \n",
       "2    0.621189  1.587369    2.519231  ...    0.345588             0.340642   \n",
       "3    1.176188  1.587369    2.519231  ...    0.345588             0.340642   \n",
       "4   -0.401348 -0.613302    0.396947  ...    0.345588             0.340642   \n",
       "\n",
       "   day_Thur total_bill  day_Thur size  time_Lunch^2  time_Lunch total_bill  \\\n",
       "0             0.582517       0.360540      0.335766               0.574180   \n",
       "1             0.351371      -1.043265      2.978261               0.356473   \n",
       "2            -0.365177      -0.933163      0.335766              -0.359950   \n",
       "3            -0.691443      -0.933163      0.335766              -0.681546   \n",
       "4             0.235939       0.360540      0.335766               0.232562   \n",
       "\n",
       "   time_Lunch size  total_bill^2  total_bill size    size^2  \n",
       "0         0.355380      0.981881         0.607720  0.376139  \n",
       "1        -1.058414      0.042667        -0.126683  0.376139  \n",
       "2        -0.919806      0.385876         0.986056  2.519740  \n",
       "3        -0.919806      1.383418         1.867044  2.519740  \n",
       "4         0.355380      0.161080         0.246147  0.376139  \n",
       "\n",
       "[5 rows x 54 columns]"
      ]
     },
     "execution_count": 92,
     "metadata": {},
     "output_type": "execute_result"
    }
   ],
   "source": [
    "X_train_poly = pd.DataFrame(X_train_poly, columns=poly.get_feature_names_out())\n",
    "X_train_poly.head()"
   ]
  },
  {
   "cell_type": "code",
   "execution_count": 93,
   "metadata": {},
   "outputs": [
    {
     "data": {
      "text/html": [
       "<div>\n",
       "<style scoped>\n",
       "    .dataframe tbody tr th:only-of-type {\n",
       "        vertical-align: middle;\n",
       "    }\n",
       "\n",
       "    .dataframe tbody tr th {\n",
       "        vertical-align: top;\n",
       "    }\n",
       "\n",
       "    .dataframe thead th {\n",
       "        text-align: right;\n",
       "    }\n",
       "</style>\n",
       "<table border=\"1\" class=\"dataframe\">\n",
       "  <thead>\n",
       "    <tr style=\"text-align: right;\">\n",
       "      <th></th>\n",
       "      <th>sex_Male</th>\n",
       "      <th>smoker_Yes</th>\n",
       "      <th>day_Fri</th>\n",
       "      <th>day_Sat</th>\n",
       "      <th>day_Sun</th>\n",
       "      <th>day_Thur</th>\n",
       "      <th>time_Lunch</th>\n",
       "      <th>total_bill</th>\n",
       "      <th>size</th>\n",
       "      <th>sex_Male^2</th>\n",
       "      <th>...</th>\n",
       "      <th>day_Thur^2</th>\n",
       "      <th>day_Thur time_Lunch</th>\n",
       "      <th>day_Thur total_bill</th>\n",
       "      <th>day_Thur size</th>\n",
       "      <th>time_Lunch^2</th>\n",
       "      <th>time_Lunch total_bill</th>\n",
       "      <th>time_Lunch size</th>\n",
       "      <th>total_bill^2</th>\n",
       "      <th>total_bill size</th>\n",
       "      <th>size^2</th>\n",
       "    </tr>\n",
       "  </thead>\n",
       "  <tbody>\n",
       "    <tr>\n",
       "      <th>0</th>\n",
       "      <td>0.630037</td>\n",
       "      <td>-0.672593</td>\n",
       "      <td>-0.240424</td>\n",
       "      <td>1.147369</td>\n",
       "      <td>-0.587868</td>\n",
       "      <td>-0.587868</td>\n",
       "      <td>-0.579454</td>\n",
       "      <td>-0.178916</td>\n",
       "      <td>0.487034</td>\n",
       "      <td>0.396947</td>\n",
       "      <td>...</td>\n",
       "      <td>0.345588</td>\n",
       "      <td>0.340642</td>\n",
       "      <td>0.105179</td>\n",
       "      <td>-0.286311</td>\n",
       "      <td>0.335766</td>\n",
       "      <td>0.103674</td>\n",
       "      <td>-0.282213</td>\n",
       "      <td>0.032011</td>\n",
       "      <td>-0.087138</td>\n",
       "      <td>0.237202</td>\n",
       "    </tr>\n",
       "    <tr>\n",
       "      <th>1</th>\n",
       "      <td>0.630037</td>\n",
       "      <td>1.486784</td>\n",
       "      <td>-0.240424</td>\n",
       "      <td>1.147369</td>\n",
       "      <td>-0.587868</td>\n",
       "      <td>-0.587868</td>\n",
       "      <td>-0.579454</td>\n",
       "      <td>-0.103333</td>\n",
       "      <td>-0.613302</td>\n",
       "      <td>0.396947</td>\n",
       "      <td>...</td>\n",
       "      <td>0.345588</td>\n",
       "      <td>0.340642</td>\n",
       "      <td>0.060746</td>\n",
       "      <td>0.360540</td>\n",
       "      <td>0.335766</td>\n",
       "      <td>0.059877</td>\n",
       "      <td>0.355380</td>\n",
       "      <td>0.010678</td>\n",
       "      <td>0.063374</td>\n",
       "      <td>0.376139</td>\n",
       "    </tr>\n",
       "    <tr>\n",
       "      <th>2</th>\n",
       "      <td>0.630037</td>\n",
       "      <td>-0.672593</td>\n",
       "      <td>-0.240424</td>\n",
       "      <td>-0.871559</td>\n",
       "      <td>1.701063</td>\n",
       "      <td>-0.587868</td>\n",
       "      <td>-0.579454</td>\n",
       "      <td>0.026239</td>\n",
       "      <td>-0.613302</td>\n",
       "      <td>0.396947</td>\n",
       "      <td>...</td>\n",
       "      <td>0.345588</td>\n",
       "      <td>0.340642</td>\n",
       "      <td>-0.015425</td>\n",
       "      <td>0.360540</td>\n",
       "      <td>0.335766</td>\n",
       "      <td>-0.015204</td>\n",
       "      <td>0.355380</td>\n",
       "      <td>0.000688</td>\n",
       "      <td>-0.016092</td>\n",
       "      <td>0.376139</td>\n",
       "    </tr>\n",
       "    <tr>\n",
       "      <th>3</th>\n",
       "      <td>-1.587208</td>\n",
       "      <td>-0.672593</td>\n",
       "      <td>-0.240424</td>\n",
       "      <td>1.147369</td>\n",
       "      <td>-0.587868</td>\n",
       "      <td>-0.587868</td>\n",
       "      <td>-0.579454</td>\n",
       "      <td>-1.295393</td>\n",
       "      <td>-1.713637</td>\n",
       "      <td>2.519231</td>\n",
       "      <td>...</td>\n",
       "      <td>0.345588</td>\n",
       "      <td>0.340642</td>\n",
       "      <td>0.761519</td>\n",
       "      <td>1.007391</td>\n",
       "      <td>0.335766</td>\n",
       "      <td>0.750620</td>\n",
       "      <td>0.992973</td>\n",
       "      <td>1.678042</td>\n",
       "      <td>2.219832</td>\n",
       "      <td>2.936551</td>\n",
       "    </tr>\n",
       "    <tr>\n",
       "      <th>4</th>\n",
       "      <td>-1.587208</td>\n",
       "      <td>1.486784</td>\n",
       "      <td>4.159327</td>\n",
       "      <td>-0.871559</td>\n",
       "      <td>-0.587868</td>\n",
       "      <td>-0.587868</td>\n",
       "      <td>1.725764</td>\n",
       "      <td>-0.321445</td>\n",
       "      <td>-0.613302</td>\n",
       "      <td>2.519231</td>\n",
       "      <td>...</td>\n",
       "      <td>0.345588</td>\n",
       "      <td>-1.014521</td>\n",
       "      <td>0.188967</td>\n",
       "      <td>0.360540</td>\n",
       "      <td>2.978261</td>\n",
       "      <td>-0.554739</td>\n",
       "      <td>-1.058414</td>\n",
       "      <td>0.103327</td>\n",
       "      <td>0.197143</td>\n",
       "      <td>0.376139</td>\n",
       "    </tr>\n",
       "  </tbody>\n",
       "</table>\n",
       "<p>5 rows × 54 columns</p>\n",
       "</div>"
      ],
      "text/plain": [
       "   sex_Male  smoker_Yes   day_Fri   day_Sat   day_Sun  day_Thur  time_Lunch  \\\n",
       "0  0.630037   -0.672593 -0.240424  1.147369 -0.587868 -0.587868   -0.579454   \n",
       "1  0.630037    1.486784 -0.240424  1.147369 -0.587868 -0.587868   -0.579454   \n",
       "2  0.630037   -0.672593 -0.240424 -0.871559  1.701063 -0.587868   -0.579454   \n",
       "3 -1.587208   -0.672593 -0.240424  1.147369 -0.587868 -0.587868   -0.579454   \n",
       "4 -1.587208    1.486784  4.159327 -0.871559 -0.587868 -0.587868    1.725764   \n",
       "\n",
       "   total_bill      size  sex_Male^2  ...  day_Thur^2  day_Thur time_Lunch  \\\n",
       "0   -0.178916  0.487034    0.396947  ...    0.345588             0.340642   \n",
       "1   -0.103333 -0.613302    0.396947  ...    0.345588             0.340642   \n",
       "2    0.026239 -0.613302    0.396947  ...    0.345588             0.340642   \n",
       "3   -1.295393 -1.713637    2.519231  ...    0.345588             0.340642   \n",
       "4   -0.321445 -0.613302    2.519231  ...    0.345588            -1.014521   \n",
       "\n",
       "   day_Thur total_bill  day_Thur size  time_Lunch^2  time_Lunch total_bill  \\\n",
       "0             0.105179      -0.286311      0.335766               0.103674   \n",
       "1             0.060746       0.360540      0.335766               0.059877   \n",
       "2            -0.015425       0.360540      0.335766              -0.015204   \n",
       "3             0.761519       1.007391      0.335766               0.750620   \n",
       "4             0.188967       0.360540      2.978261              -0.554739   \n",
       "\n",
       "   time_Lunch size  total_bill^2  total_bill size    size^2  \n",
       "0        -0.282213      0.032011        -0.087138  0.237202  \n",
       "1         0.355380      0.010678         0.063374  0.376139  \n",
       "2         0.355380      0.000688        -0.016092  0.376139  \n",
       "3         0.992973      1.678042         2.219832  2.936551  \n",
       "4        -1.058414      0.103327         0.197143  0.376139  \n",
       "\n",
       "[5 rows x 54 columns]"
      ]
     },
     "execution_count": 93,
     "metadata": {},
     "output_type": "execute_result"
    }
   ],
   "source": [
    "X_test_poly = pd.DataFrame(X_test_poly, columns=poly.get_feature_names_out())\n",
    "X_test_poly.head()"
   ]
  },
  {
   "cell_type": "markdown",
   "metadata": {},
   "source": [
    "---\n",
    "## 5.Feature Elimination with RFE \n",
    "\n",
    "![](images/rubbish.jpeg)\n",
    "\n",
    "You can drop features manually, but that's not ideal if you have lots and lots of features. \n",
    "\n",
    "If you want to try out a model with fewer features you can automatically drop what are probably the least useful features.\n",
    "\n",
    "RFE stands for *Recursive Feature Elimination*. It takes an estimator and the number or proportion of features to select. It keeps the ones with the highest coefficients (or highest features importances for models that don't have coefficients).\n",
    "\n",
    "You have to pass it the estimator to use. If the estimator works better when you have more observations than features - as linear regression does, consider that fact."
   ]
  },
  {
   "cell_type": "code",
   "execution_count": 94,
   "metadata": {},
   "outputs": [],
   "source": [
    "from sklearn.feature_selection import RFE"
   ]
  },
  {
   "cell_type": "code",
   "execution_count": 95,
   "metadata": {},
   "outputs": [],
   "source": [
    "from sklearn.linear_model import LinearRegression"
   ]
  },
  {
   "cell_type": "markdown",
   "metadata": {},
   "source": [
    "#### Instantiate, fit and transform X_train, transform X_test"
   ]
  },
  {
   "cell_type": "code",
   "execution_count": 96,
   "metadata": {},
   "outputs": [],
   "source": [
    "rfe = RFE(estimator=LinearRegression())"
   ]
  },
  {
   "cell_type": "code",
   "execution_count": 97,
   "metadata": {},
   "outputs": [
    {
     "data": {
      "text/plain": [
       "RFE(estimator=LinearRegression())"
      ]
     },
     "execution_count": 97,
     "metadata": {},
     "output_type": "execute_result"
    }
   ],
   "source": [
    "rfe.fit(X_train_poly, y_train)"
   ]
  },
  {
   "cell_type": "code",
   "execution_count": 98,
   "metadata": {},
   "outputs": [],
   "source": [
    "X_train_half = rfe.transform(X_train_poly)"
   ]
  },
  {
   "cell_type": "code",
   "execution_count": 100,
   "metadata": {},
   "outputs": [
    {
     "data": {
      "text/plain": [
       "(183, 27)"
      ]
     },
     "execution_count": 100,
     "metadata": {},
     "output_type": "execute_result"
    }
   ],
   "source": [
    "X_train_half.shape"
   ]
  },
  {
   "cell_type": "code",
   "execution_count": 101,
   "metadata": {},
   "outputs": [],
   "source": [
    "X_test_half = rfe.transform(X_test_poly)"
   ]
  },
  {
   "cell_type": "code",
   "execution_count": null,
   "metadata": {},
   "outputs": [],
   "source": [
    "# Getting feature names out is a bit tricker. Will do on Monday."
   ]
  },
  {
   "cell_type": "markdown",
   "metadata": {},
   "source": [
    "---\n",
    "# Transform *y*\n",
    "\n",
    "All of the above transformers change your X (features, independent variables).\n",
    "\n",
    "You can transform y, too. It's fairly common to try to make the y more normal in a regression problem. Often a log transform works.\n",
    "\n",
    "Scikit-learn's TransformedTargetRegressor is what you want."
   ]
  },
  {
   "cell_type": "code",
   "execution_count": 102,
   "metadata": {},
   "outputs": [],
   "source": [
    "from sklearn.compose import TransformedTargetRegressor"
   ]
  },
  {
   "cell_type": "code",
   "execution_count": 103,
   "metadata": {},
   "outputs": [],
   "source": [
    "tt = TransformedTargetRegressor(regressor=LinearRegression(), func=np.log, inverse_func=np.exp)"
   ]
  },
  {
   "cell_type": "code",
   "execution_count": 104,
   "metadata": {},
   "outputs": [
    {
     "data": {
      "text/plain": [
       "TransformedTargetRegressor(func=<ufunc 'log'>, inverse_func=<ufunc 'exp'>,\n",
       "                           regressor=LinearRegression())"
      ]
     },
     "execution_count": 104,
     "metadata": {},
     "output_type": "execute_result"
    }
   ],
   "source": [
    "tt.fit(X_train_half, y_train)"
   ]
  },
  {
   "cell_type": "code",
   "execution_count": 105,
   "metadata": {},
   "outputs": [
    {
     "data": {
      "text/plain": [
       "array([2.93817444, 2.12226067, 2.38283252, 1.97390048, 2.27889569,\n",
       "       4.12932494, 2.11896835, 2.91345646, 2.69824217, 4.12427756,\n",
       "       2.46351529, 2.18478716, 2.3967886 , 2.10107491, 2.77201623,\n",
       "       3.37461884, 2.09207177, 2.28334422, 2.32996901, 3.48846484,\n",
       "       2.82625562, 2.6497223 , 2.74972942, 2.39428493, 2.36800628,\n",
       "       2.44744122, 3.72007056, 5.15771387, 3.39325016, 2.5930772 ,\n",
       "       2.581786  , 2.10006618, 2.39330483, 2.31120184, 2.38591541,\n",
       "       2.26563584, 3.30288472, 2.09590064, 4.23701086, 4.61110417,\n",
       "       1.77233683, 2.31634571, 2.66087697, 3.90030196, 2.07358256,\n",
       "       2.70167491, 2.32433112, 2.37747267, 2.60726068, 3.38744194,\n",
       "       2.80774755, 2.93058351, 2.14194254, 4.74401327, 2.31120184,\n",
       "       3.98091158, 3.3763282 , 3.77303499, 2.37718682, 2.40043262,\n",
       "       2.27840816])"
      ]
     },
     "execution_count": 105,
     "metadata": {},
     "output_type": "execute_result"
    }
   ],
   "source": [
    "tt.predict(X_test_half)"
   ]
  },
  {
   "cell_type": "code",
   "execution_count": 107,
   "metadata": {},
   "outputs": [
    {
     "data": {
      "text/plain": [
       "0.040088555237634105"
      ]
     },
     "execution_count": 107,
     "metadata": {},
     "output_type": "execute_result"
    }
   ],
   "source": [
    "tt.score(X_test_half, y_test) # R2"
   ]
  },
  {
   "cell_type": "markdown",
   "metadata": {},
   "source": [
    "---\n",
    "\n",
    "You don't have to do all these things. In fact, usually you won't do all of them.\n",
    "\n",
    "### After you've done your transformations, it's time to model! ⭐️\n",
    "\n",
    "You'll learn how to try lots of transformer combinations when you combine GridSearch and Pipelines soon."
   ]
  },
  {
   "cell_type": "markdown",
   "metadata": {},
   "source": [
    "## Summary\n",
    "\n",
    "You've seen how to use scikit-learn transformers to \n",
    "\n",
    "- Fill missing values using SimpleImputer\n",
    "- Encode categorical features with OneHotEncoder\n",
    "- Standardize features with StandardScaler\n",
    "- Add new features with PolynomialFeatures\n",
    "- Reduce the number of features with RFE \n",
    "- Transform y\n",
    "\n",
    "Read the scikit-learn docs for each of the transformers when you get a chance. "
   ]
  },
  {
   "cell_type": "markdown",
   "metadata": {},
   "source": [
    "## Check for understanding\n",
    "\n",
    "- When would you use each of the above transformer classes?\n",
    "- What's the difference between fitting and transforming?"
   ]
  },
  {
   "cell_type": "code",
   "execution_count": null,
   "metadata": {},
   "outputs": [],
   "source": []
  }
 ],
 "metadata": {
  "kernelspec": {
   "display_name": "Python 3",
   "language": "python",
   "name": "python3"
  },
  "language_info": {
   "codemirror_mode": {
    "name": "ipython",
    "version": 3
   },
   "file_extension": ".py",
   "mimetype": "text/x-python",
   "name": "python",
   "nbconvert_exporter": "python",
   "pygments_lexer": "ipython3",
   "version": "3.9.6"
  }
 },
 "nbformat": 4,
 "nbformat_minor": 4
}
