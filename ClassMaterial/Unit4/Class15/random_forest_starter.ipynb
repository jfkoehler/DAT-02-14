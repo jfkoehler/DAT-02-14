{
 "cells": [
  {
   "cell_type": "markdown",
   "metadata": {},
   "source": [
    "\n",
    "<img src=\"http://imgur.com/1ZcRyrc.png\" style=\"float: left; margin: 15px; height: 80px\">\n",
    "\n",
    "# Random Forests and ExtraTrees\n",
    "\n",
    "\n",
    "_Authors: Matt Brems (DC), Riley Dallas (AUS)_\n",
    "\n",
    "---"
   ]
  },
  {
   "cell_type": "markdown",
   "metadata": {},
   "source": [
    "## Random Forests\n",
    "---\n",
    "\n",
    "With bagged decision trees, we generate many different trees on pretty similar data. These trees are **strongly correlated** with one another. Because these trees are correlated with one another, they will have high variance. Looking at the variance of the average of two random variables $T_1$ and $T_2$:\n",
    "\n",
    "$$\n",
    "\\begin{eqnarray*}\n",
    "Var\\left(\\frac{T_1+T_2}{2}\\right) &=& \\frac{1}{4}\\left[Var(T_1) + Var(T_2) + 2Cov(T_1,T_2)\\right]\n",
    "\\end{eqnarray*}\n",
    "$$\n",
    "\n",
    "If $T_1$ and $T_2$ are highly correlated, then the variance will about as high as we'd see with individual decision trees. By \"de-correlating\" our trees from one another, we can drastically reduce the variance of our model.\n",
    "\n",
    "That's the difference between bagged decision trees and random forests! We're going to do the same thing as before, but we're going to de-correlate our trees. This will reduce our variance (at the expense of a small increase in bias) and thus should greatly improve the overall performance of the final model.\n",
    "\n",
    "So how do we \"de-correlate\" our trees?\n",
    "\n",
    "Random forests differ from bagging decision trees in only one way: they use a modified tree learning algorithm that selects, at each split in the learning process, a **random subset of the features**. This process is sometimes called the *random subspace method*.\n",
    "\n",
    "The reason for doing this is the correlation of the trees in an ordinary bootstrap sample: if one or a few features are very strong predictors for the response variable (target output), these features will be used in many/all of the bagged decision trees, causing them to become correlated. By selecting a random subset of features at each split, we counter this correlation between base trees, strengthening the overall model.\n",
    "\n",
    "For a problem with $p$ features, it is typical to use:\n",
    "\n",
    "- $\\sqrt{p}$ (rounded down) features in each split for a classification problem.\n",
    "- $p/3$ (rounded down) with a minimum node size of 5 as the default for a regression problem.\n",
    "\n",
    "While this is a guideline, Hastie and Tibshirani (authors of Introduction to Statistical Learning and Elements of Statistical Learning) have suggested this as a good rule in the absence of some rationale to do something different.\n",
    "\n",
    "Random forests, a step beyond bagged decision trees, are **very widely used** classifiers and regressors. They are relatively simple to use because they require very few parameters to set and they perform pretty well.\n",
    "- It is quite common for interviewers to ask how a random forest is constructed or how it is superior to a single decision tree.\n",
    "\n",
    "--- \n",
    "\n",
    "## Extremely Randomized Trees (ExtraTrees)\n",
    "Adding another step of randomization (and thus de-correlation) yields extremely randomized trees, or _ExtraTrees_. Like Random Forests, these are trained using the random subspace method (sampling of features). However, they are trained on the entire dataset instead of bootstrapped samples. A layer of randomness is introduced in the way the nodes are split. Instead of computing the locally optimal feature/split combination (based on, e.g., information gain or the Gini impurity) for each feature under consideration, a random value is selected for the split. This value is selected from the feature's empirical range.\n",
    "\n",
    "This further reduces the variance, but causes an increase in bias. If you're considering using ExtraTrees, you might consider this to be a hyperparameter you can tune. Build an ExtraTrees model and a Random Forest model, then compare their performance!\n",
    "\n",
    "That's exactly what we'll do below."
   ]
  },
  {
   "cell_type": "markdown",
   "metadata": {},
   "source": [
    "## Import libraries\n",
    "---\n",
    "\n",
    "We'll need the following libraries for today's lecture:\n",
    "- `pandas`\n",
    "- `numpy`\n",
    "- `GridSearchCV`, `train_test_split` and `cross_val_score` from `sklearn`'s `model_selection` module \n",
    "- `RandomForestClassifier` and `ExtraTreesClassifier` from `sklearn`'s `ensemble` module "
   ]
  },
  {
   "cell_type": "code",
   "execution_count": 5,
   "metadata": {},
   "outputs": [],
   "source": [
    "import pandas as pd\n",
    "import numpy as np\n",
    "from sklearn import set_config\n",
    "import matplotlib.pyplot as plt\n",
    "set_config(display='diagram') \n",
    "from sklearn.model_selection import GridSearchCV, train_test_split, cross_val_score\n",
    "from sklearn.ensemble import RandomForestClassifier, ExtraTreesClassifier\n",
    "\n",
    "from sklearn.pipeline import make_pipeline, Pipeline\n",
    "from sklearn.impute import SimpleImputer\n",
    "from sklearn.preprocessing import OneHotEncoder\n",
    "from sklearn.compose import ColumnTransformer"
   ]
  },
  {
   "cell_type": "markdown",
   "metadata": {},
   "source": [
    "## Load Data\n",
    "---\n",
    "\n",
    "Our first dataset has to do with detecting sarcasm in news headlines. [Source](https://www.kaggle.com/rmisra/news-headlines-dataset-for-sarcasm-detection)"
   ]
  },
  {
   "cell_type": "code",
   "execution_count": 6,
   "metadata": {},
   "outputs": [],
   "source": [
    "# import json\n",
    "\n",
    "# def parse_data(file):\n",
    "#     for l in open(file,'r'):\n",
    "#         yield json.loads(l)\n",
    "\n",
    "# data = list(parse_data('data/Sarcasm_Headlines_Dataset.json'))"
   ]
  },
  {
   "cell_type": "code",
   "execution_count": 7,
   "metadata": {},
   "outputs": [],
   "source": [
    "# data[:2]"
   ]
  },
  {
   "cell_type": "code",
   "execution_count": 9,
   "metadata": {},
   "outputs": [
    {
     "data": {
      "text/html": [
       "<div>\n",
       "<style scoped>\n",
       "    .dataframe tbody tr th:only-of-type {\n",
       "        vertical-align: middle;\n",
       "    }\n",
       "\n",
       "    .dataframe tbody tr th {\n",
       "        vertical-align: top;\n",
       "    }\n",
       "\n",
       "    .dataframe thead th {\n",
       "        text-align: right;\n",
       "    }\n",
       "</style>\n",
       "<table border=\"1\" class=\"dataframe\">\n",
       "  <thead>\n",
       "    <tr style=\"text-align: right;\">\n",
       "      <th></th>\n",
       "      <th>link</th>\n",
       "      <th>headline</th>\n",
       "      <th>sarcastic</th>\n",
       "    </tr>\n",
       "  </thead>\n",
       "  <tbody>\n",
       "    <tr>\n",
       "      <th>0</th>\n",
       "      <td>https://www.huffingtonpost.com/entry/versace-b...</td>\n",
       "      <td>former versace store clerk sues over secret 'b...</td>\n",
       "      <td>0</td>\n",
       "    </tr>\n",
       "    <tr>\n",
       "      <th>1</th>\n",
       "      <td>https://www.huffingtonpost.com/entry/roseanne-...</td>\n",
       "      <td>the 'roseanne' revival catches up to our thorn...</td>\n",
       "      <td>0</td>\n",
       "    </tr>\n",
       "    <tr>\n",
       "      <th>2</th>\n",
       "      <td>https://local.theonion.com/mom-starting-to-fea...</td>\n",
       "      <td>mom starting to fear son's web series closest ...</td>\n",
       "      <td>1</td>\n",
       "    </tr>\n",
       "    <tr>\n",
       "      <th>3</th>\n",
       "      <td>https://politics.theonion.com/boehner-just-wan...</td>\n",
       "      <td>boehner just wants wife to listen, not come up...</td>\n",
       "      <td>1</td>\n",
       "    </tr>\n",
       "    <tr>\n",
       "      <th>4</th>\n",
       "      <td>https://www.huffingtonpost.com/entry/jk-rowlin...</td>\n",
       "      <td>j.k. rowling wishes snape happy birthday in th...</td>\n",
       "      <td>0</td>\n",
       "    </tr>\n",
       "  </tbody>\n",
       "</table>\n",
       "</div>"
      ],
      "text/plain": [
       "                                                link  \\\n",
       "0  https://www.huffingtonpost.com/entry/versace-b...   \n",
       "1  https://www.huffingtonpost.com/entry/roseanne-...   \n",
       "2  https://local.theonion.com/mom-starting-to-fea...   \n",
       "3  https://politics.theonion.com/boehner-just-wan...   \n",
       "4  https://www.huffingtonpost.com/entry/jk-rowlin...   \n",
       "\n",
       "                                            headline  sarcastic  \n",
       "0  former versace store clerk sues over secret 'b...          0  \n",
       "1  the 'roseanne' revival catches up to our thorn...          0  \n",
       "2  mom starting to fear son's web series closest ...          1  \n",
       "3  boehner just wants wife to listen, not come up...          1  \n",
       "4  j.k. rowling wishes snape happy birthday in th...          0  "
      ]
     },
     "execution_count": 9,
     "metadata": {},
     "output_type": "execute_result"
    }
   ],
   "source": [
    "#turn our list of data into a DataFrame...\n",
    "# sarcasm_df = pd.DataFrame(data)\n",
    "sarcasm_df = pd.read_csv('data/sarcasm.csv')\n",
    "sarcasm_df.head()"
   ]
  },
  {
   "cell_type": "code",
   "execution_count": 10,
   "metadata": {},
   "outputs": [
    {
     "name": "stdout",
     "output_type": "stream",
     "text": [
      "boehner just wants wife to listen, not come up with alternative debt-reduction ideas\n"
     ]
    }
   ],
   "source": [
    "print(sarcasm_df.iloc[3, 1])"
   ]
  },
  {
   "cell_type": "markdown",
   "metadata": {},
   "source": [
    "## Challenge: What is our baseline accuracy?\n",
    "---\n",
    "\n",
    "The baseline accuracy is the percentage of the majority class, regardless of whether it is 1 or 0. It serves as the benchmark for our model to beat."
   ]
  },
  {
   "cell_type": "code",
   "execution_count": 12,
   "metadata": {},
   "outputs": [
    {
     "data": {
      "text/plain": [
       "0    0.561047\n",
       "1    0.438953\n",
       "Name: sarcastic, dtype: float64"
      ]
     },
     "execution_count": 12,
     "metadata": {},
     "output_type": "execute_result"
    }
   ],
   "source": [
    "#baseline accuracy\n",
    "sarcasm_df['sarcastic'].value_counts(normalize = True)"
   ]
  },
  {
   "cell_type": "markdown",
   "metadata": {},
   "source": [
    "## Train/Test Split\n",
    "---\n",
    "\n"
   ]
  },
  {
   "cell_type": "code",
   "execution_count": 13,
   "metadata": {},
   "outputs": [],
   "source": [
    "X_train, X_test, y_train, y_test = train_test_split(sarcasm_df['headline'], \n",
    "                                                   sarcasm_df['sarcastic'],\n",
    "                                                   stratify = sarcasm_df['sarcastic'],\n",
    "                                                   random_state=42)"
   ]
  },
  {
   "cell_type": "markdown",
   "metadata": {},
   "source": [
    "## Model instantiation\n",
    "---\n",
    "\n",
    "Create an instance of `RandomForestClassifier` and `ExtraTreesClassifier`."
   ]
  },
  {
   "cell_type": "code",
   "execution_count": 14,
   "metadata": {},
   "outputs": [],
   "source": [
    "from sklearn.feature_extraction.text import CountVectorizer, TfidfVectorizer"
   ]
  },
  {
   "cell_type": "code",
   "execution_count": 20,
   "metadata": {},
   "outputs": [],
   "source": [
    "cvect = CountVectorizer(max_features = 1000)"
   ]
  },
  {
   "cell_type": "code",
   "execution_count": 21,
   "metadata": {},
   "outputs": [],
   "source": [
    "X_train_vect = cvect.fit_transform(X_train)\n",
    "X_test_vect = cvect.transform(X_test)"
   ]
  },
  {
   "cell_type": "code",
   "execution_count": 22,
   "metadata": {},
   "outputs": [],
   "source": [
    "forest = RandomForestClassifier()\n",
    "extra = ExtraTreesClassifier()"
   ]
  },
  {
   "cell_type": "code",
   "execution_count": 23,
   "metadata": {},
   "outputs": [
    {
     "data": {
      "text/html": [
       "<style>#sk-b2ec0302-fd9b-4def-aa7f-5a63815eaecd {color: black;background-color: white;}#sk-b2ec0302-fd9b-4def-aa7f-5a63815eaecd pre{padding: 0;}#sk-b2ec0302-fd9b-4def-aa7f-5a63815eaecd div.sk-toggleable {background-color: white;}#sk-b2ec0302-fd9b-4def-aa7f-5a63815eaecd label.sk-toggleable__label {cursor: pointer;display: block;width: 100%;margin-bottom: 0;padding: 0.3em;box-sizing: border-box;text-align: center;}#sk-b2ec0302-fd9b-4def-aa7f-5a63815eaecd div.sk-toggleable__content {max-height: 0;max-width: 0;overflow: hidden;text-align: left;background-color: #f0f8ff;}#sk-b2ec0302-fd9b-4def-aa7f-5a63815eaecd div.sk-toggleable__content pre {margin: 0.2em;color: black;border-radius: 0.25em;background-color: #f0f8ff;}#sk-b2ec0302-fd9b-4def-aa7f-5a63815eaecd input.sk-toggleable__control:checked~div.sk-toggleable__content {max-height: 200px;max-width: 100%;overflow: auto;}#sk-b2ec0302-fd9b-4def-aa7f-5a63815eaecd div.sk-estimator input.sk-toggleable__control:checked~label.sk-toggleable__label {background-color: #d4ebff;}#sk-b2ec0302-fd9b-4def-aa7f-5a63815eaecd div.sk-label input.sk-toggleable__control:checked~label.sk-toggleable__label {background-color: #d4ebff;}#sk-b2ec0302-fd9b-4def-aa7f-5a63815eaecd input.sk-hidden--visually {border: 0;clip: rect(1px 1px 1px 1px);clip: rect(1px, 1px, 1px, 1px);height: 1px;margin: -1px;overflow: hidden;padding: 0;position: absolute;width: 1px;}#sk-b2ec0302-fd9b-4def-aa7f-5a63815eaecd div.sk-estimator {font-family: monospace;background-color: #f0f8ff;border: 1px dotted black;border-radius: 0.25em;box-sizing: border-box;margin-bottom: 0.5em;}#sk-b2ec0302-fd9b-4def-aa7f-5a63815eaecd div.sk-estimator:hover {background-color: #d4ebff;}#sk-b2ec0302-fd9b-4def-aa7f-5a63815eaecd div.sk-parallel-item::after {content: \"\";width: 100%;border-bottom: 1px solid gray;flex-grow: 1;}#sk-b2ec0302-fd9b-4def-aa7f-5a63815eaecd div.sk-label:hover label.sk-toggleable__label {background-color: #d4ebff;}#sk-b2ec0302-fd9b-4def-aa7f-5a63815eaecd div.sk-serial::before {content: \"\";position: absolute;border-left: 1px solid gray;box-sizing: border-box;top: 2em;bottom: 0;left: 50%;}#sk-b2ec0302-fd9b-4def-aa7f-5a63815eaecd div.sk-serial {display: flex;flex-direction: column;align-items: center;background-color: white;padding-right: 0.2em;padding-left: 0.2em;}#sk-b2ec0302-fd9b-4def-aa7f-5a63815eaecd div.sk-item {z-index: 1;}#sk-b2ec0302-fd9b-4def-aa7f-5a63815eaecd div.sk-parallel {display: flex;align-items: stretch;justify-content: center;background-color: white;}#sk-b2ec0302-fd9b-4def-aa7f-5a63815eaecd div.sk-parallel::before {content: \"\";position: absolute;border-left: 1px solid gray;box-sizing: border-box;top: 2em;bottom: 0;left: 50%;}#sk-b2ec0302-fd9b-4def-aa7f-5a63815eaecd div.sk-parallel-item {display: flex;flex-direction: column;position: relative;background-color: white;}#sk-b2ec0302-fd9b-4def-aa7f-5a63815eaecd div.sk-parallel-item:first-child::after {align-self: flex-end;width: 50%;}#sk-b2ec0302-fd9b-4def-aa7f-5a63815eaecd div.sk-parallel-item:last-child::after {align-self: flex-start;width: 50%;}#sk-b2ec0302-fd9b-4def-aa7f-5a63815eaecd div.sk-parallel-item:only-child::after {width: 0;}#sk-b2ec0302-fd9b-4def-aa7f-5a63815eaecd div.sk-dashed-wrapped {border: 1px dashed gray;margin: 0 0.4em 0.5em 0.4em;box-sizing: border-box;padding-bottom: 0.4em;background-color: white;position: relative;}#sk-b2ec0302-fd9b-4def-aa7f-5a63815eaecd div.sk-label label {font-family: monospace;font-weight: bold;background-color: white;display: inline-block;line-height: 1.2em;}#sk-b2ec0302-fd9b-4def-aa7f-5a63815eaecd div.sk-label-container {position: relative;z-index: 2;text-align: center;}#sk-b2ec0302-fd9b-4def-aa7f-5a63815eaecd div.sk-container {display: inline-block;position: relative;}</style><div id=\"sk-b2ec0302-fd9b-4def-aa7f-5a63815eaecd\" class\"sk-top-container\"><div class=\"sk-container\"><div class=\"sk-item\"><div class=\"sk-estimator sk-toggleable\"><input class=\"sk-toggleable__control sk-hidden--visually\" id=\"b2f2513b-2d47-4ecb-bf31-f4a69e2c5709\" type=\"checkbox\" checked><label class=\"sk-toggleable__label\" for=\"b2f2513b-2d47-4ecb-bf31-f4a69e2c5709\">RandomForestClassifier</label><div class=\"sk-toggleable__content\"><pre>RandomForestClassifier()</pre></div></div></div></div></div>"
      ],
      "text/plain": [
       "RandomForestClassifier()"
      ]
     },
     "execution_count": 23,
     "metadata": {},
     "output_type": "execute_result"
    }
   ],
   "source": [
    "forest.fit(X_train_vect, y_train)"
   ]
  },
  {
   "cell_type": "code",
   "execution_count": 24,
   "metadata": {},
   "outputs": [
    {
     "data": {
      "text/html": [
       "<style>#sk-35c10e78-24e1-4bb5-92c4-1e286c186c98 {color: black;background-color: white;}#sk-35c10e78-24e1-4bb5-92c4-1e286c186c98 pre{padding: 0;}#sk-35c10e78-24e1-4bb5-92c4-1e286c186c98 div.sk-toggleable {background-color: white;}#sk-35c10e78-24e1-4bb5-92c4-1e286c186c98 label.sk-toggleable__label {cursor: pointer;display: block;width: 100%;margin-bottom: 0;padding: 0.3em;box-sizing: border-box;text-align: center;}#sk-35c10e78-24e1-4bb5-92c4-1e286c186c98 div.sk-toggleable__content {max-height: 0;max-width: 0;overflow: hidden;text-align: left;background-color: #f0f8ff;}#sk-35c10e78-24e1-4bb5-92c4-1e286c186c98 div.sk-toggleable__content pre {margin: 0.2em;color: black;border-radius: 0.25em;background-color: #f0f8ff;}#sk-35c10e78-24e1-4bb5-92c4-1e286c186c98 input.sk-toggleable__control:checked~div.sk-toggleable__content {max-height: 200px;max-width: 100%;overflow: auto;}#sk-35c10e78-24e1-4bb5-92c4-1e286c186c98 div.sk-estimator input.sk-toggleable__control:checked~label.sk-toggleable__label {background-color: #d4ebff;}#sk-35c10e78-24e1-4bb5-92c4-1e286c186c98 div.sk-label input.sk-toggleable__control:checked~label.sk-toggleable__label {background-color: #d4ebff;}#sk-35c10e78-24e1-4bb5-92c4-1e286c186c98 input.sk-hidden--visually {border: 0;clip: rect(1px 1px 1px 1px);clip: rect(1px, 1px, 1px, 1px);height: 1px;margin: -1px;overflow: hidden;padding: 0;position: absolute;width: 1px;}#sk-35c10e78-24e1-4bb5-92c4-1e286c186c98 div.sk-estimator {font-family: monospace;background-color: #f0f8ff;border: 1px dotted black;border-radius: 0.25em;box-sizing: border-box;margin-bottom: 0.5em;}#sk-35c10e78-24e1-4bb5-92c4-1e286c186c98 div.sk-estimator:hover {background-color: #d4ebff;}#sk-35c10e78-24e1-4bb5-92c4-1e286c186c98 div.sk-parallel-item::after {content: \"\";width: 100%;border-bottom: 1px solid gray;flex-grow: 1;}#sk-35c10e78-24e1-4bb5-92c4-1e286c186c98 div.sk-label:hover label.sk-toggleable__label {background-color: #d4ebff;}#sk-35c10e78-24e1-4bb5-92c4-1e286c186c98 div.sk-serial::before {content: \"\";position: absolute;border-left: 1px solid gray;box-sizing: border-box;top: 2em;bottom: 0;left: 50%;}#sk-35c10e78-24e1-4bb5-92c4-1e286c186c98 div.sk-serial {display: flex;flex-direction: column;align-items: center;background-color: white;padding-right: 0.2em;padding-left: 0.2em;}#sk-35c10e78-24e1-4bb5-92c4-1e286c186c98 div.sk-item {z-index: 1;}#sk-35c10e78-24e1-4bb5-92c4-1e286c186c98 div.sk-parallel {display: flex;align-items: stretch;justify-content: center;background-color: white;}#sk-35c10e78-24e1-4bb5-92c4-1e286c186c98 div.sk-parallel::before {content: \"\";position: absolute;border-left: 1px solid gray;box-sizing: border-box;top: 2em;bottom: 0;left: 50%;}#sk-35c10e78-24e1-4bb5-92c4-1e286c186c98 div.sk-parallel-item {display: flex;flex-direction: column;position: relative;background-color: white;}#sk-35c10e78-24e1-4bb5-92c4-1e286c186c98 div.sk-parallel-item:first-child::after {align-self: flex-end;width: 50%;}#sk-35c10e78-24e1-4bb5-92c4-1e286c186c98 div.sk-parallel-item:last-child::after {align-self: flex-start;width: 50%;}#sk-35c10e78-24e1-4bb5-92c4-1e286c186c98 div.sk-parallel-item:only-child::after {width: 0;}#sk-35c10e78-24e1-4bb5-92c4-1e286c186c98 div.sk-dashed-wrapped {border: 1px dashed gray;margin: 0 0.4em 0.5em 0.4em;box-sizing: border-box;padding-bottom: 0.4em;background-color: white;position: relative;}#sk-35c10e78-24e1-4bb5-92c4-1e286c186c98 div.sk-label label {font-family: monospace;font-weight: bold;background-color: white;display: inline-block;line-height: 1.2em;}#sk-35c10e78-24e1-4bb5-92c4-1e286c186c98 div.sk-label-container {position: relative;z-index: 2;text-align: center;}#sk-35c10e78-24e1-4bb5-92c4-1e286c186c98 div.sk-container {display: inline-block;position: relative;}</style><div id=\"sk-35c10e78-24e1-4bb5-92c4-1e286c186c98\" class\"sk-top-container\"><div class=\"sk-container\"><div class=\"sk-item\"><div class=\"sk-estimator sk-toggleable\"><input class=\"sk-toggleable__control sk-hidden--visually\" id=\"3610861a-8402-48c0-ac87-d80401d04d56\" type=\"checkbox\" checked><label class=\"sk-toggleable__label\" for=\"3610861a-8402-48c0-ac87-d80401d04d56\">ExtraTreesClassifier</label><div class=\"sk-toggleable__content\"><pre>ExtraTreesClassifier()</pre></div></div></div></div></div>"
      ],
      "text/plain": [
       "ExtraTreesClassifier()"
      ]
     },
     "execution_count": 24,
     "metadata": {},
     "output_type": "execute_result"
    }
   ],
   "source": [
    "extra.fit(X_train_vect, y_train)"
   ]
  },
  {
   "cell_type": "markdown",
   "metadata": {},
   "source": [
    "## Model Evaluation\n",
    "---\n",
    "\n",
    "Which one has a higher `cross_val_score`?"
   ]
  },
  {
   "cell_type": "code",
   "execution_count": 25,
   "metadata": {},
   "outputs": [
    {
     "data": {
      "text/plain": [
       "array([0.78812079, 0.78307539, 0.78057913, 0.78407389, 0.7880679 ])"
      ]
     },
     "execution_count": 25,
     "metadata": {},
     "output_type": "execute_result"
    }
   ],
   "source": [
    "cross_val_score(forest, X_train_vect, y_train)"
   ]
  },
  {
   "cell_type": "code",
   "execution_count": 26,
   "metadata": {},
   "outputs": [
    {
     "data": {
      "text/plain": [
       "array([0.78337909, 0.78432351, 0.78357464, 0.78482277, 0.78157763])"
      ]
     },
     "execution_count": 26,
     "metadata": {},
     "output_type": "execute_result"
    }
   ],
   "source": [
    "cross_val_score(extra, X_train_vect, y_train)"
   ]
  },
  {
   "cell_type": "code",
   "execution_count": null,
   "metadata": {},
   "outputs": [],
   "source": []
  },
  {
   "cell_type": "code",
   "execution_count": null,
   "metadata": {},
   "outputs": [],
   "source": []
  },
  {
   "cell_type": "markdown",
   "metadata": {},
   "source": [
    "## Grid Search\n",
    "---\n",
    "\n"
   ]
  },
  {
   "cell_type": "code",
   "execution_count": null,
   "metadata": {},
   "outputs": [],
   "source": [
    "#n_estimators = [10, 100, 500, 1000]\n",
    "#max_depth = [1, 2, 3, 4]"
   ]
  },
  {
   "cell_type": "code",
   "execution_count": 27,
   "metadata": {},
   "outputs": [],
   "source": [
    "params = {\n",
    "    'n_estimators': [10, 100, 500],\n",
    "    'max_depth': [10, 20]\n",
    "}\n",
    "\n"
   ]
  },
  {
   "cell_type": "code",
   "execution_count": 28,
   "metadata": {},
   "outputs": [],
   "source": [
    "grid = GridSearchCV(forest, param_grid=params)"
   ]
  },
  {
   "cell_type": "code",
   "execution_count": 29,
   "metadata": {},
   "outputs": [
    {
     "data": {
      "text/html": [
       "<style>#sk-5ff67eb4-5479-44d9-9b1c-c7c3f90a0d38 {color: black;background-color: white;}#sk-5ff67eb4-5479-44d9-9b1c-c7c3f90a0d38 pre{padding: 0;}#sk-5ff67eb4-5479-44d9-9b1c-c7c3f90a0d38 div.sk-toggleable {background-color: white;}#sk-5ff67eb4-5479-44d9-9b1c-c7c3f90a0d38 label.sk-toggleable__label {cursor: pointer;display: block;width: 100%;margin-bottom: 0;padding: 0.3em;box-sizing: border-box;text-align: center;}#sk-5ff67eb4-5479-44d9-9b1c-c7c3f90a0d38 div.sk-toggleable__content {max-height: 0;max-width: 0;overflow: hidden;text-align: left;background-color: #f0f8ff;}#sk-5ff67eb4-5479-44d9-9b1c-c7c3f90a0d38 div.sk-toggleable__content pre {margin: 0.2em;color: black;border-radius: 0.25em;background-color: #f0f8ff;}#sk-5ff67eb4-5479-44d9-9b1c-c7c3f90a0d38 input.sk-toggleable__control:checked~div.sk-toggleable__content {max-height: 200px;max-width: 100%;overflow: auto;}#sk-5ff67eb4-5479-44d9-9b1c-c7c3f90a0d38 div.sk-estimator input.sk-toggleable__control:checked~label.sk-toggleable__label {background-color: #d4ebff;}#sk-5ff67eb4-5479-44d9-9b1c-c7c3f90a0d38 div.sk-label input.sk-toggleable__control:checked~label.sk-toggleable__label {background-color: #d4ebff;}#sk-5ff67eb4-5479-44d9-9b1c-c7c3f90a0d38 input.sk-hidden--visually {border: 0;clip: rect(1px 1px 1px 1px);clip: rect(1px, 1px, 1px, 1px);height: 1px;margin: -1px;overflow: hidden;padding: 0;position: absolute;width: 1px;}#sk-5ff67eb4-5479-44d9-9b1c-c7c3f90a0d38 div.sk-estimator {font-family: monospace;background-color: #f0f8ff;border: 1px dotted black;border-radius: 0.25em;box-sizing: border-box;margin-bottom: 0.5em;}#sk-5ff67eb4-5479-44d9-9b1c-c7c3f90a0d38 div.sk-estimator:hover {background-color: #d4ebff;}#sk-5ff67eb4-5479-44d9-9b1c-c7c3f90a0d38 div.sk-parallel-item::after {content: \"\";width: 100%;border-bottom: 1px solid gray;flex-grow: 1;}#sk-5ff67eb4-5479-44d9-9b1c-c7c3f90a0d38 div.sk-label:hover label.sk-toggleable__label {background-color: #d4ebff;}#sk-5ff67eb4-5479-44d9-9b1c-c7c3f90a0d38 div.sk-serial::before {content: \"\";position: absolute;border-left: 1px solid gray;box-sizing: border-box;top: 2em;bottom: 0;left: 50%;}#sk-5ff67eb4-5479-44d9-9b1c-c7c3f90a0d38 div.sk-serial {display: flex;flex-direction: column;align-items: center;background-color: white;padding-right: 0.2em;padding-left: 0.2em;}#sk-5ff67eb4-5479-44d9-9b1c-c7c3f90a0d38 div.sk-item {z-index: 1;}#sk-5ff67eb4-5479-44d9-9b1c-c7c3f90a0d38 div.sk-parallel {display: flex;align-items: stretch;justify-content: center;background-color: white;}#sk-5ff67eb4-5479-44d9-9b1c-c7c3f90a0d38 div.sk-parallel::before {content: \"\";position: absolute;border-left: 1px solid gray;box-sizing: border-box;top: 2em;bottom: 0;left: 50%;}#sk-5ff67eb4-5479-44d9-9b1c-c7c3f90a0d38 div.sk-parallel-item {display: flex;flex-direction: column;position: relative;background-color: white;}#sk-5ff67eb4-5479-44d9-9b1c-c7c3f90a0d38 div.sk-parallel-item:first-child::after {align-self: flex-end;width: 50%;}#sk-5ff67eb4-5479-44d9-9b1c-c7c3f90a0d38 div.sk-parallel-item:last-child::after {align-self: flex-start;width: 50%;}#sk-5ff67eb4-5479-44d9-9b1c-c7c3f90a0d38 div.sk-parallel-item:only-child::after {width: 0;}#sk-5ff67eb4-5479-44d9-9b1c-c7c3f90a0d38 div.sk-dashed-wrapped {border: 1px dashed gray;margin: 0 0.4em 0.5em 0.4em;box-sizing: border-box;padding-bottom: 0.4em;background-color: white;position: relative;}#sk-5ff67eb4-5479-44d9-9b1c-c7c3f90a0d38 div.sk-label label {font-family: monospace;font-weight: bold;background-color: white;display: inline-block;line-height: 1.2em;}#sk-5ff67eb4-5479-44d9-9b1c-c7c3f90a0d38 div.sk-label-container {position: relative;z-index: 2;text-align: center;}#sk-5ff67eb4-5479-44d9-9b1c-c7c3f90a0d38 div.sk-container {display: inline-block;position: relative;}</style><div id=\"sk-5ff67eb4-5479-44d9-9b1c-c7c3f90a0d38\" class\"sk-top-container\"><div class=\"sk-container\"><div class=\"sk-item sk-dashed-wrapped\"><div class=\"sk-label-container\"><div class=\"sk-label sk-toggleable\"><input class=\"sk-toggleable__control sk-hidden--visually\" id=\"5a641082-1f5e-478e-af41-5e4d5e18a911\" type=\"checkbox\" ><label class=\"sk-toggleable__label\" for=\"5a641082-1f5e-478e-af41-5e4d5e18a911\">GridSearchCV</label><div class=\"sk-toggleable__content\"><pre>GridSearchCV(estimator=RandomForestClassifier(),\n",
       "             param_grid={'max_depth': [10, 20], 'n_estimators': [10, 100, 500]})</pre></div></div></div><div class=\"sk-parallel\"><div class=\"sk-parallel-item\"><div class=\"sk-item\"><div class=\"sk-serial\"><div class=\"sk-item\"><div class=\"sk-estimator sk-toggleable\"><input class=\"sk-toggleable__control sk-hidden--visually\" id=\"4c233cd8-1a91-4ce0-9767-317dd9e38fe2\" type=\"checkbox\" ><label class=\"sk-toggleable__label\" for=\"4c233cd8-1a91-4ce0-9767-317dd9e38fe2\">RandomForestClassifier</label><div class=\"sk-toggleable__content\"><pre>RandomForestClassifier()</pre></div></div></div></div></div></div></div></div></div></div>"
      ],
      "text/plain": [
       "GridSearchCV(estimator=RandomForestClassifier(),\n",
       "             param_grid={'max_depth': [10, 20], 'n_estimators': [10, 100, 500]})"
      ]
     },
     "execution_count": 29,
     "metadata": {},
     "output_type": "execute_result"
    }
   ],
   "source": [
    "grid.fit(X_train_vect, y_train)"
   ]
  },
  {
   "cell_type": "code",
   "execution_count": 31,
   "metadata": {},
   "outputs": [
    {
     "data": {
      "text/html": [
       "<style>#sk-c4c82773-a677-447e-87d5-39e967fe239b {color: black;background-color: white;}#sk-c4c82773-a677-447e-87d5-39e967fe239b pre{padding: 0;}#sk-c4c82773-a677-447e-87d5-39e967fe239b div.sk-toggleable {background-color: white;}#sk-c4c82773-a677-447e-87d5-39e967fe239b label.sk-toggleable__label {cursor: pointer;display: block;width: 100%;margin-bottom: 0;padding: 0.3em;box-sizing: border-box;text-align: center;}#sk-c4c82773-a677-447e-87d5-39e967fe239b div.sk-toggleable__content {max-height: 0;max-width: 0;overflow: hidden;text-align: left;background-color: #f0f8ff;}#sk-c4c82773-a677-447e-87d5-39e967fe239b div.sk-toggleable__content pre {margin: 0.2em;color: black;border-radius: 0.25em;background-color: #f0f8ff;}#sk-c4c82773-a677-447e-87d5-39e967fe239b input.sk-toggleable__control:checked~div.sk-toggleable__content {max-height: 200px;max-width: 100%;overflow: auto;}#sk-c4c82773-a677-447e-87d5-39e967fe239b div.sk-estimator input.sk-toggleable__control:checked~label.sk-toggleable__label {background-color: #d4ebff;}#sk-c4c82773-a677-447e-87d5-39e967fe239b div.sk-label input.sk-toggleable__control:checked~label.sk-toggleable__label {background-color: #d4ebff;}#sk-c4c82773-a677-447e-87d5-39e967fe239b input.sk-hidden--visually {border: 0;clip: rect(1px 1px 1px 1px);clip: rect(1px, 1px, 1px, 1px);height: 1px;margin: -1px;overflow: hidden;padding: 0;position: absolute;width: 1px;}#sk-c4c82773-a677-447e-87d5-39e967fe239b div.sk-estimator {font-family: monospace;background-color: #f0f8ff;border: 1px dotted black;border-radius: 0.25em;box-sizing: border-box;margin-bottom: 0.5em;}#sk-c4c82773-a677-447e-87d5-39e967fe239b div.sk-estimator:hover {background-color: #d4ebff;}#sk-c4c82773-a677-447e-87d5-39e967fe239b div.sk-parallel-item::after {content: \"\";width: 100%;border-bottom: 1px solid gray;flex-grow: 1;}#sk-c4c82773-a677-447e-87d5-39e967fe239b div.sk-label:hover label.sk-toggleable__label {background-color: #d4ebff;}#sk-c4c82773-a677-447e-87d5-39e967fe239b div.sk-serial::before {content: \"\";position: absolute;border-left: 1px solid gray;box-sizing: border-box;top: 2em;bottom: 0;left: 50%;}#sk-c4c82773-a677-447e-87d5-39e967fe239b div.sk-serial {display: flex;flex-direction: column;align-items: center;background-color: white;padding-right: 0.2em;padding-left: 0.2em;}#sk-c4c82773-a677-447e-87d5-39e967fe239b div.sk-item {z-index: 1;}#sk-c4c82773-a677-447e-87d5-39e967fe239b div.sk-parallel {display: flex;align-items: stretch;justify-content: center;background-color: white;}#sk-c4c82773-a677-447e-87d5-39e967fe239b div.sk-parallel::before {content: \"\";position: absolute;border-left: 1px solid gray;box-sizing: border-box;top: 2em;bottom: 0;left: 50%;}#sk-c4c82773-a677-447e-87d5-39e967fe239b div.sk-parallel-item {display: flex;flex-direction: column;position: relative;background-color: white;}#sk-c4c82773-a677-447e-87d5-39e967fe239b div.sk-parallel-item:first-child::after {align-self: flex-end;width: 50%;}#sk-c4c82773-a677-447e-87d5-39e967fe239b div.sk-parallel-item:last-child::after {align-self: flex-start;width: 50%;}#sk-c4c82773-a677-447e-87d5-39e967fe239b div.sk-parallel-item:only-child::after {width: 0;}#sk-c4c82773-a677-447e-87d5-39e967fe239b div.sk-dashed-wrapped {border: 1px dashed gray;margin: 0 0.4em 0.5em 0.4em;box-sizing: border-box;padding-bottom: 0.4em;background-color: white;position: relative;}#sk-c4c82773-a677-447e-87d5-39e967fe239b div.sk-label label {font-family: monospace;font-weight: bold;background-color: white;display: inline-block;line-height: 1.2em;}#sk-c4c82773-a677-447e-87d5-39e967fe239b div.sk-label-container {position: relative;z-index: 2;text-align: center;}#sk-c4c82773-a677-447e-87d5-39e967fe239b div.sk-container {display: inline-block;position: relative;}</style><div id=\"sk-c4c82773-a677-447e-87d5-39e967fe239b\" class\"sk-top-container\"><div class=\"sk-container\"><div class=\"sk-item\"><div class=\"sk-estimator sk-toggleable\"><input class=\"sk-toggleable__control sk-hidden--visually\" id=\"721db8dd-19fd-4536-959e-fdaee850c5bc\" type=\"checkbox\" checked><label class=\"sk-toggleable__label\" for=\"721db8dd-19fd-4536-959e-fdaee850c5bc\">RandomForestClassifier</label><div class=\"sk-toggleable__content\"><pre>RandomForestClassifier(max_depth=20, n_estimators=500)</pre></div></div></div></div></div>"
      ],
      "text/plain": [
       "RandomForestClassifier(max_depth=20, n_estimators=500)"
      ]
     },
     "execution_count": 31,
     "metadata": {},
     "output_type": "execute_result"
    }
   ],
   "source": [
    "grid.best_estimator_"
   ]
  },
  {
   "cell_type": "code",
   "execution_count": 30,
   "metadata": {},
   "outputs": [
    {
     "data": {
      "text/plain": [
       "0.7484276729559748"
      ]
     },
     "execution_count": 30,
     "metadata": {},
     "output_type": "execute_result"
    }
   ],
   "source": [
    "grid.score(X_test_vect, y_test)"
   ]
  },
  {
   "cell_type": "markdown",
   "metadata": {},
   "source": [
    "### Problem\n",
    "\n",
    "In small groups you are to build a simple classifier to predict customer churn.  Don't get hung up in too much preprocessing; your main goal is to compare a `KNeighborsClassifier`, `LogisticRegressor`, `DecisionTreeClassifier`, and `RandomForestClassifier`.  \n",
    "\n",
    "\n",
    "If you have time, investigate the feature importances of the decision tree and random forest.  What features do they suggest are the most important to predicting customer churn?"
   ]
  },
  {
   "cell_type": "code",
   "execution_count": 32,
   "metadata": {},
   "outputs": [
    {
     "data": {
      "text/html": [
       "<div>\n",
       "<style scoped>\n",
       "    .dataframe tbody tr th:only-of-type {\n",
       "        vertical-align: middle;\n",
       "    }\n",
       "\n",
       "    .dataframe tbody tr th {\n",
       "        vertical-align: top;\n",
       "    }\n",
       "\n",
       "    .dataframe thead th {\n",
       "        text-align: right;\n",
       "    }\n",
       "</style>\n",
       "<table border=\"1\" class=\"dataframe\">\n",
       "  <thead>\n",
       "    <tr style=\"text-align: right;\">\n",
       "      <th></th>\n",
       "      <th>state</th>\n",
       "      <th>account_length</th>\n",
       "      <th>area_code</th>\n",
       "      <th>intl_plan</th>\n",
       "      <th>vmail_plan</th>\n",
       "      <th>vmail_message</th>\n",
       "      <th>day_mins</th>\n",
       "      <th>day_calls</th>\n",
       "      <th>day_charge</th>\n",
       "      <th>eve_mins</th>\n",
       "      <th>eve_calls</th>\n",
       "      <th>eve_charge</th>\n",
       "      <th>night_mins</th>\n",
       "      <th>night_calls</th>\n",
       "      <th>night_charge</th>\n",
       "      <th>intl_mins</th>\n",
       "      <th>intl_calls</th>\n",
       "      <th>intl_charge</th>\n",
       "      <th>custserv_calls</th>\n",
       "      <th>churn</th>\n",
       "    </tr>\n",
       "  </thead>\n",
       "  <tbody>\n",
       "    <tr>\n",
       "      <th>0</th>\n",
       "      <td>KS</td>\n",
       "      <td>128</td>\n",
       "      <td>415</td>\n",
       "      <td>no</td>\n",
       "      <td>yes</td>\n",
       "      <td>25</td>\n",
       "      <td>265.1</td>\n",
       "      <td>110</td>\n",
       "      <td>45.07</td>\n",
       "      <td>197.4</td>\n",
       "      <td>99</td>\n",
       "      <td>16.78</td>\n",
       "      <td>244.7</td>\n",
       "      <td>91</td>\n",
       "      <td>11.01</td>\n",
       "      <td>10.0</td>\n",
       "      <td>3</td>\n",
       "      <td>2.7</td>\n",
       "      <td>1</td>\n",
       "      <td>False</td>\n",
       "    </tr>\n",
       "    <tr>\n",
       "      <th>1</th>\n",
       "      <td>OH</td>\n",
       "      <td>107</td>\n",
       "      <td>415</td>\n",
       "      <td>no</td>\n",
       "      <td>yes</td>\n",
       "      <td>26</td>\n",
       "      <td>161.6</td>\n",
       "      <td>123</td>\n",
       "      <td>27.47</td>\n",
       "      <td>195.5</td>\n",
       "      <td>103</td>\n",
       "      <td>16.62</td>\n",
       "      <td>254.4</td>\n",
       "      <td>103</td>\n",
       "      <td>11.45</td>\n",
       "      <td>13.7</td>\n",
       "      <td>3</td>\n",
       "      <td>3.7</td>\n",
       "      <td>1</td>\n",
       "      <td>False</td>\n",
       "    </tr>\n",
       "  </tbody>\n",
       "</table>\n",
       "</div>"
      ],
      "text/plain": [
       "  state  account_length  area_code intl_plan vmail_plan  vmail_message  \\\n",
       "0    KS             128        415        no        yes             25   \n",
       "1    OH             107        415        no        yes             26   \n",
       "\n",
       "   day_mins  day_calls  day_charge  eve_mins  eve_calls  eve_charge  \\\n",
       "0     265.1        110       45.07     197.4         99       16.78   \n",
       "1     161.6        123       27.47     195.5        103       16.62   \n",
       "\n",
       "   night_mins  night_calls  night_charge  intl_mins  intl_calls  intl_charge  \\\n",
       "0       244.7           91         11.01       10.0           3          2.7   \n",
       "1       254.4          103         11.45       13.7           3          3.7   \n",
       "\n",
       "   custserv_calls  churn  \n",
       "0               1  False  \n",
       "1               1  False  "
      ]
     },
     "execution_count": 32,
     "metadata": {},
     "output_type": "execute_result"
    }
   ],
   "source": [
    "churn_df = pd.read_csv('data/cell_phone_churn.csv')\n",
    "churn_df.head(2)"
   ]
  },
  {
   "cell_type": "code",
   "execution_count": 33,
   "metadata": {},
   "outputs": [],
   "source": [
    "from sklearn.pipeline import Pipeline\n",
    "from sklearn.tree import DecisionTreeClassifier\n",
    "from sklearn.neighbors import KNeighborsClassifier\n",
    "from sklearn.linear_model import LogisticRegression\n",
    "from sklearn.ensemble import RandomForestClassifier\n",
    "from sklearn.preprocessing import StandardScaler"
   ]
  },
  {
   "cell_type": "code",
   "execution_count": 34,
   "metadata": {},
   "outputs": [],
   "source": [
    "X = churn_df.drop(['vmail_plan', 'intl_plan', 'state', 'churn'], axis = 1)\n",
    "y = churn_df['churn']"
   ]
  },
  {
   "cell_type": "code",
   "execution_count": 36,
   "metadata": {},
   "outputs": [],
   "source": [
    "X_train, X_test, y_train, y_test = train_test_split(X, y, stratify=y)"
   ]
  },
  {
   "cell_type": "code",
   "execution_count": 37,
   "metadata": {},
   "outputs": [
    {
     "data": {
      "text/plain": [
       "False    0.855142\n",
       "True     0.144858\n",
       "Name: churn, dtype: float64"
      ]
     },
     "execution_count": 37,
     "metadata": {},
     "output_type": "execute_result"
    }
   ],
   "source": [
    "y_train.value_counts(normalize = True)"
   ]
  },
  {
   "cell_type": "code",
   "execution_count": 38,
   "metadata": {},
   "outputs": [
    {
     "data": {
      "text/html": [
       "<style>#sk-118d9291-b2cd-4c29-810e-0019e0532ff3 {color: black;background-color: white;}#sk-118d9291-b2cd-4c29-810e-0019e0532ff3 pre{padding: 0;}#sk-118d9291-b2cd-4c29-810e-0019e0532ff3 div.sk-toggleable {background-color: white;}#sk-118d9291-b2cd-4c29-810e-0019e0532ff3 label.sk-toggleable__label {cursor: pointer;display: block;width: 100%;margin-bottom: 0;padding: 0.3em;box-sizing: border-box;text-align: center;}#sk-118d9291-b2cd-4c29-810e-0019e0532ff3 div.sk-toggleable__content {max-height: 0;max-width: 0;overflow: hidden;text-align: left;background-color: #f0f8ff;}#sk-118d9291-b2cd-4c29-810e-0019e0532ff3 div.sk-toggleable__content pre {margin: 0.2em;color: black;border-radius: 0.25em;background-color: #f0f8ff;}#sk-118d9291-b2cd-4c29-810e-0019e0532ff3 input.sk-toggleable__control:checked~div.sk-toggleable__content {max-height: 200px;max-width: 100%;overflow: auto;}#sk-118d9291-b2cd-4c29-810e-0019e0532ff3 div.sk-estimator input.sk-toggleable__control:checked~label.sk-toggleable__label {background-color: #d4ebff;}#sk-118d9291-b2cd-4c29-810e-0019e0532ff3 div.sk-label input.sk-toggleable__control:checked~label.sk-toggleable__label {background-color: #d4ebff;}#sk-118d9291-b2cd-4c29-810e-0019e0532ff3 input.sk-hidden--visually {border: 0;clip: rect(1px 1px 1px 1px);clip: rect(1px, 1px, 1px, 1px);height: 1px;margin: -1px;overflow: hidden;padding: 0;position: absolute;width: 1px;}#sk-118d9291-b2cd-4c29-810e-0019e0532ff3 div.sk-estimator {font-family: monospace;background-color: #f0f8ff;border: 1px dotted black;border-radius: 0.25em;box-sizing: border-box;margin-bottom: 0.5em;}#sk-118d9291-b2cd-4c29-810e-0019e0532ff3 div.sk-estimator:hover {background-color: #d4ebff;}#sk-118d9291-b2cd-4c29-810e-0019e0532ff3 div.sk-parallel-item::after {content: \"\";width: 100%;border-bottom: 1px solid gray;flex-grow: 1;}#sk-118d9291-b2cd-4c29-810e-0019e0532ff3 div.sk-label:hover label.sk-toggleable__label {background-color: #d4ebff;}#sk-118d9291-b2cd-4c29-810e-0019e0532ff3 div.sk-serial::before {content: \"\";position: absolute;border-left: 1px solid gray;box-sizing: border-box;top: 2em;bottom: 0;left: 50%;}#sk-118d9291-b2cd-4c29-810e-0019e0532ff3 div.sk-serial {display: flex;flex-direction: column;align-items: center;background-color: white;padding-right: 0.2em;padding-left: 0.2em;}#sk-118d9291-b2cd-4c29-810e-0019e0532ff3 div.sk-item {z-index: 1;}#sk-118d9291-b2cd-4c29-810e-0019e0532ff3 div.sk-parallel {display: flex;align-items: stretch;justify-content: center;background-color: white;}#sk-118d9291-b2cd-4c29-810e-0019e0532ff3 div.sk-parallel::before {content: \"\";position: absolute;border-left: 1px solid gray;box-sizing: border-box;top: 2em;bottom: 0;left: 50%;}#sk-118d9291-b2cd-4c29-810e-0019e0532ff3 div.sk-parallel-item {display: flex;flex-direction: column;position: relative;background-color: white;}#sk-118d9291-b2cd-4c29-810e-0019e0532ff3 div.sk-parallel-item:first-child::after {align-self: flex-end;width: 50%;}#sk-118d9291-b2cd-4c29-810e-0019e0532ff3 div.sk-parallel-item:last-child::after {align-self: flex-start;width: 50%;}#sk-118d9291-b2cd-4c29-810e-0019e0532ff3 div.sk-parallel-item:only-child::after {width: 0;}#sk-118d9291-b2cd-4c29-810e-0019e0532ff3 div.sk-dashed-wrapped {border: 1px dashed gray;margin: 0 0.4em 0.5em 0.4em;box-sizing: border-box;padding-bottom: 0.4em;background-color: white;position: relative;}#sk-118d9291-b2cd-4c29-810e-0019e0532ff3 div.sk-label label {font-family: monospace;font-weight: bold;background-color: white;display: inline-block;line-height: 1.2em;}#sk-118d9291-b2cd-4c29-810e-0019e0532ff3 div.sk-label-container {position: relative;z-index: 2;text-align: center;}#sk-118d9291-b2cd-4c29-810e-0019e0532ff3 div.sk-container {display: inline-block;position: relative;}</style><div id=\"sk-118d9291-b2cd-4c29-810e-0019e0532ff3\" class\"sk-top-container\"><div class=\"sk-container\"><div class=\"sk-item sk-dashed-wrapped\"><div class=\"sk-label-container\"><div class=\"sk-label sk-toggleable\"><input class=\"sk-toggleable__control sk-hidden--visually\" id=\"f4295a23-28d7-4fdf-8e0a-daeaefad436a\" type=\"checkbox\" ><label class=\"sk-toggleable__label\" for=\"f4295a23-28d7-4fdf-8e0a-daeaefad436a\">Pipeline</label><div class=\"sk-toggleable__content\"><pre>Pipeline(steps=[('scaler', StandardScaler()), ('knn', KNeighborsClassifier())])</pre></div></div></div><div class=\"sk-serial\"><div class=\"sk-item\"><div class=\"sk-estimator sk-toggleable\"><input class=\"sk-toggleable__control sk-hidden--visually\" id=\"cee614bd-7fa5-4334-9626-2ca743fcf27d\" type=\"checkbox\" ><label class=\"sk-toggleable__label\" for=\"cee614bd-7fa5-4334-9626-2ca743fcf27d\">StandardScaler</label><div class=\"sk-toggleable__content\"><pre>StandardScaler()</pre></div></div></div><div class=\"sk-item\"><div class=\"sk-estimator sk-toggleable\"><input class=\"sk-toggleable__control sk-hidden--visually\" id=\"6284f1a9-8f62-4d45-9f8f-5a912dd18c3c\" type=\"checkbox\" ><label class=\"sk-toggleable__label\" for=\"6284f1a9-8f62-4d45-9f8f-5a912dd18c3c\">KNeighborsClassifier</label><div class=\"sk-toggleable__content\"><pre>KNeighborsClassifier()</pre></div></div></div></div></div></div></div>"
      ],
      "text/plain": [
       "Pipeline(steps=[('scaler', StandardScaler()), ('knn', KNeighborsClassifier())])"
      ]
     },
     "execution_count": 38,
     "metadata": {},
     "output_type": "execute_result"
    }
   ],
   "source": [
    "knn_pipe = Pipeline([('scaler', StandardScaler()), ('knn', KNeighborsClassifier())])\n",
    "knn_pipe.fit(X_train, y_train)"
   ]
  },
  {
   "cell_type": "code",
   "execution_count": 39,
   "metadata": {},
   "outputs": [
    {
     "data": {
      "text/plain": [
       "0.8836930455635491"
      ]
     },
     "execution_count": 39,
     "metadata": {},
     "output_type": "execute_result"
    }
   ],
   "source": [
    "knn_pipe.score(X_test, y_test)"
   ]
  },
  {
   "cell_type": "code",
   "execution_count": 42,
   "metadata": {},
   "outputs": [],
   "source": [
    "dtree = DecisionTreeClassifier()\n",
    "lgr = LogisticRegression(max_iter=1000)\n",
    "forest = RandomForestClassifier()"
   ]
  },
  {
   "cell_type": "code",
   "execution_count": 43,
   "metadata": {},
   "outputs": [
    {
     "name": "stdout",
     "output_type": "stream",
     "text": [
      "0.8633093525179856\n",
      "0.8585131894484412\n",
      "0.9100719424460432\n"
     ]
    }
   ],
   "source": [
    "for est in [dtree, lgr, forest]:\n",
    "    est.fit(X_train, y_train)\n",
    "    print(est.score(X_test, y_test))"
   ]
  },
  {
   "cell_type": "code",
   "execution_count": 44,
   "metadata": {},
   "outputs": [],
   "source": [
    "params = {'n_estimators': [50, 100, 500, 1000],\n",
    "         'max_depth': [2, 3, 4, 5]}"
   ]
  },
  {
   "cell_type": "code",
   "execution_count": 45,
   "metadata": {},
   "outputs": [],
   "source": [
    "grid = GridSearchCV(forest, param_grid=params).fit(X_train, y_train)"
   ]
  },
  {
   "cell_type": "code",
   "execution_count": 46,
   "metadata": {},
   "outputs": [
    {
     "data": {
      "text/plain": [
       "0.9004796163069544"
      ]
     },
     "execution_count": 46,
     "metadata": {},
     "output_type": "execute_result"
    }
   ],
   "source": [
    "grid.score(X_test, y_test)"
   ]
  },
  {
   "cell_type": "code",
   "execution_count": 47,
   "metadata": {},
   "outputs": [],
   "source": [
    "from sklearn.ensemble import VotingClassifier"
   ]
  },
  {
   "cell_type": "code",
   "execution_count": 48,
   "metadata": {},
   "outputs": [],
   "source": [
    "voter = VotingClassifier([('knn', knn_pipe),\n",
    "                         ('tree', dtree),\n",
    "                         ('forest', forest),\n",
    "                         ('lgr', lgr)], weights=[.1, .1, .7, .1])"
   ]
  },
  {
   "cell_type": "code",
   "execution_count": 67,
   "metadata": {},
   "outputs": [
    {
     "data": {
      "text/plain": [
       "{'knn': Pipeline(steps=[('scaler', StandardScaler()), ('knn', KNeighborsClassifier())]),\n",
       " 'tree': DecisionTreeClassifier(),\n",
       " 'forest': RandomForestClassifier(),\n",
       " 'lgr': LogisticRegression(max_iter=1000)}"
      ]
     },
     "execution_count": 67,
     "metadata": {},
     "output_type": "execute_result"
    }
   ],
   "source": [
    "voter.named_estimators_"
   ]
  },
  {
   "cell_type": "code",
   "execution_count": 49,
   "metadata": {},
   "outputs": [
    {
     "data": {
      "text/html": [
       "<style>#sk-ae0187a4-4872-435b-b01e-c86aa175f634 {color: black;background-color: white;}#sk-ae0187a4-4872-435b-b01e-c86aa175f634 pre{padding: 0;}#sk-ae0187a4-4872-435b-b01e-c86aa175f634 div.sk-toggleable {background-color: white;}#sk-ae0187a4-4872-435b-b01e-c86aa175f634 label.sk-toggleable__label {cursor: pointer;display: block;width: 100%;margin-bottom: 0;padding: 0.3em;box-sizing: border-box;text-align: center;}#sk-ae0187a4-4872-435b-b01e-c86aa175f634 div.sk-toggleable__content {max-height: 0;max-width: 0;overflow: hidden;text-align: left;background-color: #f0f8ff;}#sk-ae0187a4-4872-435b-b01e-c86aa175f634 div.sk-toggleable__content pre {margin: 0.2em;color: black;border-radius: 0.25em;background-color: #f0f8ff;}#sk-ae0187a4-4872-435b-b01e-c86aa175f634 input.sk-toggleable__control:checked~div.sk-toggleable__content {max-height: 200px;max-width: 100%;overflow: auto;}#sk-ae0187a4-4872-435b-b01e-c86aa175f634 div.sk-estimator input.sk-toggleable__control:checked~label.sk-toggleable__label {background-color: #d4ebff;}#sk-ae0187a4-4872-435b-b01e-c86aa175f634 div.sk-label input.sk-toggleable__control:checked~label.sk-toggleable__label {background-color: #d4ebff;}#sk-ae0187a4-4872-435b-b01e-c86aa175f634 input.sk-hidden--visually {border: 0;clip: rect(1px 1px 1px 1px);clip: rect(1px, 1px, 1px, 1px);height: 1px;margin: -1px;overflow: hidden;padding: 0;position: absolute;width: 1px;}#sk-ae0187a4-4872-435b-b01e-c86aa175f634 div.sk-estimator {font-family: monospace;background-color: #f0f8ff;border: 1px dotted black;border-radius: 0.25em;box-sizing: border-box;margin-bottom: 0.5em;}#sk-ae0187a4-4872-435b-b01e-c86aa175f634 div.sk-estimator:hover {background-color: #d4ebff;}#sk-ae0187a4-4872-435b-b01e-c86aa175f634 div.sk-parallel-item::after {content: \"\";width: 100%;border-bottom: 1px solid gray;flex-grow: 1;}#sk-ae0187a4-4872-435b-b01e-c86aa175f634 div.sk-label:hover label.sk-toggleable__label {background-color: #d4ebff;}#sk-ae0187a4-4872-435b-b01e-c86aa175f634 div.sk-serial::before {content: \"\";position: absolute;border-left: 1px solid gray;box-sizing: border-box;top: 2em;bottom: 0;left: 50%;}#sk-ae0187a4-4872-435b-b01e-c86aa175f634 div.sk-serial {display: flex;flex-direction: column;align-items: center;background-color: white;padding-right: 0.2em;padding-left: 0.2em;}#sk-ae0187a4-4872-435b-b01e-c86aa175f634 div.sk-item {z-index: 1;}#sk-ae0187a4-4872-435b-b01e-c86aa175f634 div.sk-parallel {display: flex;align-items: stretch;justify-content: center;background-color: white;}#sk-ae0187a4-4872-435b-b01e-c86aa175f634 div.sk-parallel::before {content: \"\";position: absolute;border-left: 1px solid gray;box-sizing: border-box;top: 2em;bottom: 0;left: 50%;}#sk-ae0187a4-4872-435b-b01e-c86aa175f634 div.sk-parallel-item {display: flex;flex-direction: column;position: relative;background-color: white;}#sk-ae0187a4-4872-435b-b01e-c86aa175f634 div.sk-parallel-item:first-child::after {align-self: flex-end;width: 50%;}#sk-ae0187a4-4872-435b-b01e-c86aa175f634 div.sk-parallel-item:last-child::after {align-self: flex-start;width: 50%;}#sk-ae0187a4-4872-435b-b01e-c86aa175f634 div.sk-parallel-item:only-child::after {width: 0;}#sk-ae0187a4-4872-435b-b01e-c86aa175f634 div.sk-dashed-wrapped {border: 1px dashed gray;margin: 0 0.4em 0.5em 0.4em;box-sizing: border-box;padding-bottom: 0.4em;background-color: white;position: relative;}#sk-ae0187a4-4872-435b-b01e-c86aa175f634 div.sk-label label {font-family: monospace;font-weight: bold;background-color: white;display: inline-block;line-height: 1.2em;}#sk-ae0187a4-4872-435b-b01e-c86aa175f634 div.sk-label-container {position: relative;z-index: 2;text-align: center;}#sk-ae0187a4-4872-435b-b01e-c86aa175f634 div.sk-container {display: inline-block;position: relative;}</style><div id=\"sk-ae0187a4-4872-435b-b01e-c86aa175f634\" class\"sk-top-container\"><div class=\"sk-container\"><div class=\"sk-item sk-dashed-wrapped\"><div class=\"sk-label-container\"><div class=\"sk-label sk-toggleable\"><input class=\"sk-toggleable__control sk-hidden--visually\" id=\"599a3e60-991c-4dd5-b8fc-d79d4f56f6b0\" type=\"checkbox\" ><label class=\"sk-toggleable__label\" for=\"599a3e60-991c-4dd5-b8fc-d79d4f56f6b0\">VotingClassifier</label><div class=\"sk-toggleable__content\"><pre>VotingClassifier(estimators=[('knn',\n",
       "                              Pipeline(steps=[('scaler', StandardScaler()),\n",
       "                                              ('knn',\n",
       "                                               KNeighborsClassifier())])),\n",
       "                             ('tree', DecisionTreeClassifier()),\n",
       "                             ('forest', RandomForestClassifier()),\n",
       "                             ('lgr', LogisticRegression(max_iter=1000))],\n",
       "                 weights=[0.1, 0.1, 0.7, 0.1])</pre></div></div></div><div class=\"sk-parallel\"><div class=\"sk-parallel-item\"><div class=\"sk-item\"><div class=\"sk-label-container\"><div class=\"sk-label sk-toggleable\"><label>knn</label></div></div><div class=\"sk-serial\"><div class=\"sk-item\"><div class=\"sk-serial\"><div class=\"sk-item\"><div class=\"sk-estimator sk-toggleable\"><input class=\"sk-toggleable__control sk-hidden--visually\" id=\"1d4bfa9e-c2bb-4eb3-bbbe-6f194a5d1213\" type=\"checkbox\" ><label class=\"sk-toggleable__label\" for=\"1d4bfa9e-c2bb-4eb3-bbbe-6f194a5d1213\">StandardScaler</label><div class=\"sk-toggleable__content\"><pre>StandardScaler()</pre></div></div></div><div class=\"sk-item\"><div class=\"sk-estimator sk-toggleable\"><input class=\"sk-toggleable__control sk-hidden--visually\" id=\"e49d07bd-aeaa-4df2-9c97-2c6b5ca5bd04\" type=\"checkbox\" ><label class=\"sk-toggleable__label\" for=\"e49d07bd-aeaa-4df2-9c97-2c6b5ca5bd04\">KNeighborsClassifier</label><div class=\"sk-toggleable__content\"><pre>KNeighborsClassifier()</pre></div></div></div></div></div></div></div></div><div class=\"sk-parallel-item\"><div class=\"sk-item\"><div class=\"sk-label-container\"><div class=\"sk-label sk-toggleable\"><label>tree</label></div></div><div class=\"sk-serial\"><div class=\"sk-item\"><div class=\"sk-estimator sk-toggleable\"><input class=\"sk-toggleable__control sk-hidden--visually\" id=\"064641ae-09b1-41d3-bf7a-a8e7acbab5a8\" type=\"checkbox\" ><label class=\"sk-toggleable__label\" for=\"064641ae-09b1-41d3-bf7a-a8e7acbab5a8\">DecisionTreeClassifier</label><div class=\"sk-toggleable__content\"><pre>DecisionTreeClassifier()</pre></div></div></div></div></div></div><div class=\"sk-parallel-item\"><div class=\"sk-item\"><div class=\"sk-label-container\"><div class=\"sk-label sk-toggleable\"><label>forest</label></div></div><div class=\"sk-serial\"><div class=\"sk-item\"><div class=\"sk-estimator sk-toggleable\"><input class=\"sk-toggleable__control sk-hidden--visually\" id=\"8762a28e-79d1-4a47-9f2b-74acc4a9e78e\" type=\"checkbox\" ><label class=\"sk-toggleable__label\" for=\"8762a28e-79d1-4a47-9f2b-74acc4a9e78e\">RandomForestClassifier</label><div class=\"sk-toggleable__content\"><pre>RandomForestClassifier()</pre></div></div></div></div></div></div><div class=\"sk-parallel-item\"><div class=\"sk-item\"><div class=\"sk-label-container\"><div class=\"sk-label sk-toggleable\"><label>lgr</label></div></div><div class=\"sk-serial\"><div class=\"sk-item\"><div class=\"sk-estimator sk-toggleable\"><input class=\"sk-toggleable__control sk-hidden--visually\" id=\"93986088-4092-4dd9-9adf-787518251e90\" type=\"checkbox\" ><label class=\"sk-toggleable__label\" for=\"93986088-4092-4dd9-9adf-787518251e90\">LogisticRegression</label><div class=\"sk-toggleable__content\"><pre>LogisticRegression(max_iter=1000)</pre></div></div></div></div></div></div></div></div></div></div>"
      ],
      "text/plain": [
       "VotingClassifier(estimators=[('knn',\n",
       "                              Pipeline(steps=[('scaler', StandardScaler()),\n",
       "                                              ('knn',\n",
       "                                               KNeighborsClassifier())])),\n",
       "                             ('tree', DecisionTreeClassifier()),\n",
       "                             ('forest', RandomForestClassifier()),\n",
       "                             ('lgr', LogisticRegression(max_iter=1000))],\n",
       "                 weights=[0.1, 0.1, 0.7, 0.1])"
      ]
     },
     "execution_count": 49,
     "metadata": {},
     "output_type": "execute_result"
    }
   ],
   "source": [
    "voter.fit(X_train, y_train)"
   ]
  },
  {
   "cell_type": "code",
   "execution_count": 50,
   "metadata": {},
   "outputs": [
    {
     "data": {
      "text/plain": [
       "0.9112709832134293"
      ]
     },
     "execution_count": 50,
     "metadata": {},
     "output_type": "execute_result"
    }
   ],
   "source": [
    "voter.score(X_test, y_test)"
   ]
  },
  {
   "cell_type": "code",
   "execution_count": 68,
   "metadata": {},
   "outputs": [],
   "source": [
    "params = {'knn__knn__n_neighbors': [3, 4]}#,\n",
    "#           'tree__max_depth': [2, 3],\n",
    "#          'forest__n_estimators': [50, 100, 1000],\n",
    "#          'weights': [[.25, .25, .25, .25], [.1, .1, .7, .1]]}"
   ]
  },
  {
   "cell_type": "code",
   "execution_count": 69,
   "metadata": {},
   "outputs": [],
   "source": [
    "grid2 = GridSearchCV(voter, param_grid=params)"
   ]
  },
  {
   "cell_type": "code",
   "execution_count": 70,
   "metadata": {},
   "outputs": [
    {
     "data": {
      "text/html": [
       "<style>#sk-9b787b4d-cf84-48c1-bcf0-0b4f65ec260e {color: black;background-color: white;}#sk-9b787b4d-cf84-48c1-bcf0-0b4f65ec260e pre{padding: 0;}#sk-9b787b4d-cf84-48c1-bcf0-0b4f65ec260e div.sk-toggleable {background-color: white;}#sk-9b787b4d-cf84-48c1-bcf0-0b4f65ec260e label.sk-toggleable__label {cursor: pointer;display: block;width: 100%;margin-bottom: 0;padding: 0.3em;box-sizing: border-box;text-align: center;}#sk-9b787b4d-cf84-48c1-bcf0-0b4f65ec260e div.sk-toggleable__content {max-height: 0;max-width: 0;overflow: hidden;text-align: left;background-color: #f0f8ff;}#sk-9b787b4d-cf84-48c1-bcf0-0b4f65ec260e div.sk-toggleable__content pre {margin: 0.2em;color: black;border-radius: 0.25em;background-color: #f0f8ff;}#sk-9b787b4d-cf84-48c1-bcf0-0b4f65ec260e input.sk-toggleable__control:checked~div.sk-toggleable__content {max-height: 200px;max-width: 100%;overflow: auto;}#sk-9b787b4d-cf84-48c1-bcf0-0b4f65ec260e div.sk-estimator input.sk-toggleable__control:checked~label.sk-toggleable__label {background-color: #d4ebff;}#sk-9b787b4d-cf84-48c1-bcf0-0b4f65ec260e div.sk-label input.sk-toggleable__control:checked~label.sk-toggleable__label {background-color: #d4ebff;}#sk-9b787b4d-cf84-48c1-bcf0-0b4f65ec260e input.sk-hidden--visually {border: 0;clip: rect(1px 1px 1px 1px);clip: rect(1px, 1px, 1px, 1px);height: 1px;margin: -1px;overflow: hidden;padding: 0;position: absolute;width: 1px;}#sk-9b787b4d-cf84-48c1-bcf0-0b4f65ec260e div.sk-estimator {font-family: monospace;background-color: #f0f8ff;border: 1px dotted black;border-radius: 0.25em;box-sizing: border-box;margin-bottom: 0.5em;}#sk-9b787b4d-cf84-48c1-bcf0-0b4f65ec260e div.sk-estimator:hover {background-color: #d4ebff;}#sk-9b787b4d-cf84-48c1-bcf0-0b4f65ec260e div.sk-parallel-item::after {content: \"\";width: 100%;border-bottom: 1px solid gray;flex-grow: 1;}#sk-9b787b4d-cf84-48c1-bcf0-0b4f65ec260e div.sk-label:hover label.sk-toggleable__label {background-color: #d4ebff;}#sk-9b787b4d-cf84-48c1-bcf0-0b4f65ec260e div.sk-serial::before {content: \"\";position: absolute;border-left: 1px solid gray;box-sizing: border-box;top: 2em;bottom: 0;left: 50%;}#sk-9b787b4d-cf84-48c1-bcf0-0b4f65ec260e div.sk-serial {display: flex;flex-direction: column;align-items: center;background-color: white;padding-right: 0.2em;padding-left: 0.2em;}#sk-9b787b4d-cf84-48c1-bcf0-0b4f65ec260e div.sk-item {z-index: 1;}#sk-9b787b4d-cf84-48c1-bcf0-0b4f65ec260e div.sk-parallel {display: flex;align-items: stretch;justify-content: center;background-color: white;}#sk-9b787b4d-cf84-48c1-bcf0-0b4f65ec260e div.sk-parallel::before {content: \"\";position: absolute;border-left: 1px solid gray;box-sizing: border-box;top: 2em;bottom: 0;left: 50%;}#sk-9b787b4d-cf84-48c1-bcf0-0b4f65ec260e div.sk-parallel-item {display: flex;flex-direction: column;position: relative;background-color: white;}#sk-9b787b4d-cf84-48c1-bcf0-0b4f65ec260e div.sk-parallel-item:first-child::after {align-self: flex-end;width: 50%;}#sk-9b787b4d-cf84-48c1-bcf0-0b4f65ec260e div.sk-parallel-item:last-child::after {align-self: flex-start;width: 50%;}#sk-9b787b4d-cf84-48c1-bcf0-0b4f65ec260e div.sk-parallel-item:only-child::after {width: 0;}#sk-9b787b4d-cf84-48c1-bcf0-0b4f65ec260e div.sk-dashed-wrapped {border: 1px dashed gray;margin: 0 0.4em 0.5em 0.4em;box-sizing: border-box;padding-bottom: 0.4em;background-color: white;position: relative;}#sk-9b787b4d-cf84-48c1-bcf0-0b4f65ec260e div.sk-label label {font-family: monospace;font-weight: bold;background-color: white;display: inline-block;line-height: 1.2em;}#sk-9b787b4d-cf84-48c1-bcf0-0b4f65ec260e div.sk-label-container {position: relative;z-index: 2;text-align: center;}#sk-9b787b4d-cf84-48c1-bcf0-0b4f65ec260e div.sk-container {display: inline-block;position: relative;}</style><div id=\"sk-9b787b4d-cf84-48c1-bcf0-0b4f65ec260e\" class\"sk-top-container\"><div class=\"sk-container\"><div class=\"sk-item sk-dashed-wrapped\"><div class=\"sk-label-container\"><div class=\"sk-label sk-toggleable\"><input class=\"sk-toggleable__control sk-hidden--visually\" id=\"873ff3b3-14fb-459d-8ff1-7f65c9d23d9f\" type=\"checkbox\" ><label class=\"sk-toggleable__label\" for=\"873ff3b3-14fb-459d-8ff1-7f65c9d23d9f\">GridSearchCV</label><div class=\"sk-toggleable__content\"><pre>GridSearchCV(estimator=VotingClassifier(estimators=[('knn',\n",
       "                                                     Pipeline(steps=[('scaler',\n",
       "                                                                      StandardScaler()),\n",
       "                                                                     ('knn',\n",
       "                                                                      KNeighborsClassifier())])),\n",
       "                                                    ('tree',\n",
       "                                                     DecisionTreeClassifier()),\n",
       "                                                    ('forest',\n",
       "                                                     RandomForestClassifier()),\n",
       "                                                    ('lgr',\n",
       "                                                     LogisticRegression(max_iter=1000))],\n",
       "                                        weights=[0.1, 0.1, 0.7, 0.1]),\n",
       "             param_grid={'knn__knn__n_neighbors': [3, 4]})</pre></div></div></div><div class=\"sk-parallel\"><div class=\"sk-parallel-item\"><div class=\"sk-item\"><div class=\"sk-serial\"><div class=\"sk-item sk-dashed-wrapped\"><div class=\"sk-parallel\"><div class=\"sk-parallel-item\"><div class=\"sk-item\"><div class=\"sk-label-container\"><div class=\"sk-label sk-toggleable\"><label>knn</label></div></div><div class=\"sk-serial\"><div class=\"sk-item\"><div class=\"sk-serial\"><div class=\"sk-item\"><div class=\"sk-estimator sk-toggleable\"><input class=\"sk-toggleable__control sk-hidden--visually\" id=\"551e7f01-b626-4772-bc14-2568d4867e7a\" type=\"checkbox\" ><label class=\"sk-toggleable__label\" for=\"551e7f01-b626-4772-bc14-2568d4867e7a\">StandardScaler</label><div class=\"sk-toggleable__content\"><pre>StandardScaler()</pre></div></div></div><div class=\"sk-item\"><div class=\"sk-estimator sk-toggleable\"><input class=\"sk-toggleable__control sk-hidden--visually\" id=\"6a8b4082-ce94-447c-8f1b-a92345fcb66c\" type=\"checkbox\" ><label class=\"sk-toggleable__label\" for=\"6a8b4082-ce94-447c-8f1b-a92345fcb66c\">KNeighborsClassifier</label><div class=\"sk-toggleable__content\"><pre>KNeighborsClassifier()</pre></div></div></div></div></div></div></div></div><div class=\"sk-parallel-item\"><div class=\"sk-item\"><div class=\"sk-label-container\"><div class=\"sk-label sk-toggleable\"><label>tree</label></div></div><div class=\"sk-serial\"><div class=\"sk-item\"><div class=\"sk-estimator sk-toggleable\"><input class=\"sk-toggleable__control sk-hidden--visually\" id=\"456d9c52-10ef-45d0-993e-a3a8bbba43bf\" type=\"checkbox\" ><label class=\"sk-toggleable__label\" for=\"456d9c52-10ef-45d0-993e-a3a8bbba43bf\">DecisionTreeClassifier</label><div class=\"sk-toggleable__content\"><pre>DecisionTreeClassifier()</pre></div></div></div></div></div></div><div class=\"sk-parallel-item\"><div class=\"sk-item\"><div class=\"sk-label-container\"><div class=\"sk-label sk-toggleable\"><label>forest</label></div></div><div class=\"sk-serial\"><div class=\"sk-item\"><div class=\"sk-estimator sk-toggleable\"><input class=\"sk-toggleable__control sk-hidden--visually\" id=\"85d2f751-99ab-4242-a619-38c4f11fa0d1\" type=\"checkbox\" ><label class=\"sk-toggleable__label\" for=\"85d2f751-99ab-4242-a619-38c4f11fa0d1\">RandomForestClassifier</label><div class=\"sk-toggleable__content\"><pre>RandomForestClassifier()</pre></div></div></div></div></div></div><div class=\"sk-parallel-item\"><div class=\"sk-item\"><div class=\"sk-label-container\"><div class=\"sk-label sk-toggleable\"><label>lgr</label></div></div><div class=\"sk-serial\"><div class=\"sk-item\"><div class=\"sk-estimator sk-toggleable\"><input class=\"sk-toggleable__control sk-hidden--visually\" id=\"bc1fa3cf-f410-4dcc-a7e5-fbe08bf16c13\" type=\"checkbox\" ><label class=\"sk-toggleable__label\" for=\"bc1fa3cf-f410-4dcc-a7e5-fbe08bf16c13\">LogisticRegression</label><div class=\"sk-toggleable__content\"><pre>LogisticRegression(max_iter=1000)</pre></div></div></div></div></div></div></div></div></div></div></div></div></div></div></div>"
      ],
      "text/plain": [
       "GridSearchCV(estimator=VotingClassifier(estimators=[('knn',\n",
       "                                                     Pipeline(steps=[('scaler',\n",
       "                                                                      StandardScaler()),\n",
       "                                                                     ('knn',\n",
       "                                                                      KNeighborsClassifier())])),\n",
       "                                                    ('tree',\n",
       "                                                     DecisionTreeClassifier()),\n",
       "                                                    ('forest',\n",
       "                                                     RandomForestClassifier()),\n",
       "                                                    ('lgr',\n",
       "                                                     LogisticRegression(max_iter=1000))],\n",
       "                                        weights=[0.1, 0.1, 0.7, 0.1]),\n",
       "             param_grid={'knn__knn__n_neighbors': [3, 4]})"
      ]
     },
     "execution_count": 70,
     "metadata": {},
     "output_type": "execute_result"
    }
   ],
   "source": [
    "grid2.fit(X_train, y_train)"
   ]
  },
  {
   "cell_type": "code",
   "execution_count": 66,
   "metadata": {},
   "outputs": [
    {
     "data": {
      "text/plain": [
       "0.919664268585132"
      ]
     },
     "execution_count": 66,
     "metadata": {},
     "output_type": "execute_result"
    }
   ],
   "source": [
    "grid2.score(X_test, y_test)"
   ]
  },
  {
   "cell_type": "code",
   "execution_count": null,
   "metadata": {},
   "outputs": [],
   "source": []
  }
 ],
 "metadata": {
  "kernelspec": {
   "display_name": "Python 3",
   "language": "python",
   "name": "python3"
  },
  "language_info": {
   "codemirror_mode": {
    "name": "ipython",
    "version": 3
   },
   "file_extension": ".py",
   "mimetype": "text/x-python",
   "name": "python",
   "nbconvert_exporter": "python",
   "pygments_lexer": "ipython3",
   "version": "3.8.3"
  },
  "widgets": {
   "application/vnd.jupyter.widget-state+json": {
    "state": {},
    "version_major": 2,
    "version_minor": 0
   }
  }
 },
 "nbformat": 4,
 "nbformat_minor": 4
}
