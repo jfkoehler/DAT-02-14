{
 "cells": [
  {
   "cell_type": "markdown",
   "metadata": {},
   "source": [
    "# Introduction to Computer Vision\n",
    "<center>\n",
    "    <img src = https://upload.wikimedia.org/wikipedia/commons/thumb/6/63/Typical_cnn.png/790px-Typical_cnn.png />\n",
    "</center>\n",
    "\n",
    "\n",
    "**OBJECTIVES**\n",
    "\n",
    "- Build Edge Detector from scratch\n",
    "- Understand and implement Convolutional operations with filter\n",
    "- Understand and implement Max Pooling \n",
    "- Use `keras` to implement a Convolutional Neural Network\n",
    "\n"
   ]
  },
  {
   "cell_type": "code",
   "execution_count": 1,
   "metadata": {},
   "outputs": [],
   "source": [
    "import numpy as np\n",
    "import matplotlib.pyplot as plt\n",
    "import seaborn as sns\n",
    "\n",
    "#import keras\n",
    "from tensorflow.keras.layers import Dense, Flatten\n",
    "from tensorflow.keras.models import Sequential\n",
    "from tensorflow.keras.wrappers.scikit_learn import KerasClassifier\n",
    "from tensorflow.keras.datasets import mnist\n",
    "from tensorflow.keras.utils import to_categorical"
   ]
  },
  {
   "cell_type": "markdown",
   "metadata": {},
   "source": [
    "### Building a Classic Neural Net for Images"
   ]
  },
  {
   "cell_type": "code",
   "execution_count": 2,
   "metadata": {},
   "outputs": [],
   "source": [
    "(x_train, y_train), (x_test, y_test) = mnist.load_data()"
   ]
  },
  {
   "cell_type": "code",
   "execution_count": 3,
   "metadata": {},
   "outputs": [
    {
     "data": {
      "text/plain": [
       "<matplotlib.image.AxesImage at 0x7ff32ed77280>"
      ]
     },
     "execution_count": 3,
     "metadata": {},
     "output_type": "execute_result"
    },
    {
     "data": {
      "image/png": "[encoded data removed]",
      "text/plain": [
       "<Figure size 432x288 with 1 Axes>"
      ]
     },
     "metadata": {
      "needs_background": "light"
     },
     "output_type": "display_data"
    }
   ],
   "source": [
    "plt.imshow(x_train[0])"
   ]
  },
  {
   "cell_type": "code",
   "execution_count": 4,
   "metadata": {},
   "outputs": [
    {
     "data": {
      "text/plain": [
       "(28, 28)"
      ]
     },
     "execution_count": 4,
     "metadata": {},
     "output_type": "execute_result"
    }
   ],
   "source": [
    "x_train[0].shape"
   ]
  },
  {
   "cell_type": "code",
   "execution_count": 13,
   "metadata": {},
   "outputs": [],
   "source": [
    "digit_model1 = Sequential() #template for network\n",
    "digit_model1.add(Flatten())\n",
    "digit_model1.add(Dense(100, activation = 'relu')) #hidden layer with 100 nodes\n",
    "digit_model1.add(Dense(10, activation = 'softmax')) #output 10 nodes because we have 10 classes -- 'softmax'(multiclass)"
   ]
  },
  {
   "cell_type": "code",
   "execution_count": 14,
   "metadata": {},
   "outputs": [],
   "source": [
    "#compile!\n",
    "digit_model1.compile(loss = 'categorical_crossentropy', metrics = ['accuracy']) #loss for multi-class metric for classification"
   ]
  },
  {
   "cell_type": "code",
   "execution_count": 16,
   "metadata": {},
   "outputs": [],
   "source": [
    "###DATA PREP\n",
    "\n",
    "#scale our X\n",
    "x_train = x_train/255\n",
    "x_test = x_test/255\n",
    "#one hot encode our y\n",
    "y_train_ohe = to_categorical(y_train)\n",
    "y_test_ohe = to_categorical(y_test)"
   ]
  },
  {
   "cell_type": "code",
   "execution_count": 17,
   "metadata": {},
   "outputs": [
    {
     "name": "stdout",
     "output_type": "stream",
     "text": [
      "Epoch 1/20\n",
      "1875/1875 [==============================] - 5s 2ms/step - loss: 1.3713 - accuracy: 0.6528 - val_loss: 0.7161 - val_accuracy: 0.8245\n",
      "Epoch 2/20\n",
      "1875/1875 [==============================] - 4s 2ms/step - loss: 0.5592 - accuracy: 0.8555 - val_loss: 0.4390 - val_accuracy: 0.8855\n",
      "Epoch 3/20\n",
      "1875/1875 [==============================] - 4s 2ms/step - loss: 0.4079 - accuracy: 0.8886 - val_loss: 0.3612 - val_accuracy: 0.9020\n",
      "Epoch 4/20\n",
      "1875/1875 [==============================] - 4s 2ms/step - loss: 0.3561 - accuracy: 0.8999 - val_loss: 0.3280 - val_accuracy: 0.9081\n",
      "Epoch 5/20\n",
      "1875/1875 [==============================] - 4s 2ms/step - loss: 0.3294 - accuracy: 0.9050 - val_loss: 0.3076 - val_accuracy: 0.9131\n",
      "Epoch 6/20\n",
      "1875/1875 [==============================] - 5s 3ms/step - loss: 0.3124 - accuracy: 0.9104 - val_loss: 0.2965 - val_accuracy: 0.9156\n",
      "Epoch 7/20\n",
      "1875/1875 [==============================] - 5s 3ms/step - loss: 0.2996 - accuracy: 0.9133 - val_loss: 0.2891 - val_accuracy: 0.9189\n",
      "Epoch 8/20\n",
      "1875/1875 [==============================] - 5s 3ms/step - loss: 0.2895 - accuracy: 0.9158 - val_loss: 0.2762 - val_accuracy: 0.9208\n",
      "Epoch 9/20\n",
      "1875/1875 [==============================] - 4s 2ms/step - loss: 0.2805 - accuracy: 0.9195 - val_loss: 0.2721 - val_accuracy: 0.9225\n",
      "Epoch 10/20\n",
      "1875/1875 [==============================] - 5s 2ms/step - loss: 0.2725 - accuracy: 0.9214 - val_loss: 0.2648 - val_accuracy: 0.9241\n",
      "Epoch 11/20\n",
      "1875/1875 [==============================] - 5s 3ms/step - loss: 0.2653 - accuracy: 0.9230 - val_loss: 0.2612 - val_accuracy: 0.9244\n",
      "Epoch 12/20\n",
      "1875/1875 [==============================] - 5s 3ms/step - loss: 0.2578 - accuracy: 0.9256 - val_loss: 0.2511 - val_accuracy: 0.9272\n",
      "Epoch 13/20\n",
      "1875/1875 [==============================] - 4s 2ms/step - loss: 0.2503 - accuracy: 0.9276 - val_loss: 0.2451 - val_accuracy: 0.9298\n",
      "Epoch 14/20\n",
      "1875/1875 [==============================] - 4s 2ms/step - loss: 0.2430 - accuracy: 0.9296 - val_loss: 0.2419 - val_accuracy: 0.9313\n",
      "Epoch 15/20\n",
      "1875/1875 [==============================] - 5s 2ms/step - loss: 0.2360 - accuracy: 0.9323 - val_loss: 0.2375 - val_accuracy: 0.9305\n",
      "Epoch 16/20\n",
      "1875/1875 [==============================] - 7s 4ms/step - loss: 0.2293 - accuracy: 0.9350 - val_loss: 0.2284 - val_accuracy: 0.9348\n",
      "Epoch 17/20\n",
      "1875/1875 [==============================] - 6s 3ms/step - loss: 0.2228 - accuracy: 0.9363 - val_loss: 0.2214 - val_accuracy: 0.9375\n",
      "Epoch 18/20\n",
      "1875/1875 [==============================] - 5s 3ms/step - loss: 0.2162 - accuracy: 0.9387 - val_loss: 0.2188 - val_accuracy: 0.9371\n",
      "Epoch 19/20\n",
      "1875/1875 [==============================] - 6s 3ms/step - loss: 0.2100 - accuracy: 0.9405 - val_loss: 0.2115 - val_accuracy: 0.9402\n",
      "Epoch 20/20\n",
      "1875/1875 [==============================] - 5s 3ms/step - loss: 0.2046 - accuracy: 0.9424 - val_loss: 0.2076 - val_accuracy: 0.9404\n"
     ]
    }
   ],
   "source": [
    "history = digit_model1.fit(x_train, y_train_ohe,\n",
    "                 validation_data=(x_test, y_test_ohe),\n",
    "                 epochs = 20,\n",
    "                )"
   ]
  },
  {
   "cell_type": "code",
   "execution_count": 18,
   "metadata": {},
   "outputs": [],
   "source": [
    "# #use with scikitlearn\n",
    "### THIS FUNCTION BUILDS A NETWORK\n",
    "# def networker(layer_1_units = 22, layer_1_activation = 'relu'):\n",
    "#     model = Sequential()\n",
    "#     model.add(Flatten())\n",
    "#     model.add(Dense(layer_1_units, activation = layer_1_activation))\n",
    "#     model.add(Dense(10, activation = 'softmax'))\n",
    "\n",
    "#     model.compile(optimizer = 'adam', loss = 'categorical_crossentropy', metrics = ['acc'])\n",
    "#     return model\n",
    "\n",
    "# #Make the Classifier\n",
    "# kclass = KerasClassifier(build_fn=networker)\n",
    "\n",
    "# kclass.fit(train_images, train_labels)\n",
    "\n",
    "# from sklearn.pipeline import make_pipeline\n",
    "\n",
    "# from sklearn.model_selection import GridSearchCV\n",
    "\n",
    "# params = {'layer_1_units': [10, 20, 100],\n",
    "#          'layer_1_activation': ['relu', 'tanh']}\n",
    "\n",
    "# grid = GridSearchCV(kclass, param_grid=params)\n",
    "\n",
    "# grid.fit(train_images, train_labels)\n",
    "\n",
    "# grid.best_params_\n",
    "\n",
    "# grid.best_score_"
   ]
  },
  {
   "cell_type": "markdown",
   "metadata": {},
   "source": [
    "### Some Basic Image Work"
   ]
  },
  {
   "cell_type": "code",
   "execution_count": 19,
   "metadata": {},
   "outputs": [],
   "source": [
    "#create 5 by 5 image\n",
    "np.random.seed(22)\n",
    "im = np.random.randint(low = 1, high = 10, size = 25).reshape(5, 5)"
   ]
  },
  {
   "cell_type": "code",
   "execution_count": 20,
   "metadata": {},
   "outputs": [
    {
     "data": {
      "image/png": "[encoded data removed]",
      "text/plain": [
       "<Figure size 432x288 with 1 Axes>"
      ]
     },
     "metadata": {},
     "output_type": "display_data"
    }
   ],
   "source": [
    "#visualize\n",
    "sns.heatmap(im, annot = True, cmap = 'gray', cbar = False, square = True,\n",
    "           linewidth = 4, linecolor = 'black')\n",
    "plt.xticks([])\n",
    "plt.yticks([]);"
   ]
  },
  {
   "cell_type": "code",
   "execution_count": 21,
   "metadata": {},
   "outputs": [
    {
     "data": {
      "text/plain": [
       "array([[0., 0., 0.],\n",
       "       [0., 0., 0.],\n",
       "       [0., 0., 0.]])"
      ]
     },
     "execution_count": 21,
     "metadata": {},
     "output_type": "execute_result"
    }
   ],
   "source": [
    "#three by three filter\n",
    "f = np.zeros((3, 3))\n",
    "f"
   ]
  },
  {
   "cell_type": "code",
   "execution_count": 22,
   "metadata": {},
   "outputs": [
    {
     "data": {
      "text/plain": [
       "array([[ 1.,  0., -1.],\n",
       "       [ 1.,  0., -1.],\n",
       "       [ 1.,  0., -1.]])"
      ]
     },
     "execution_count": 22,
     "metadata": {},
     "output_type": "execute_result"
    }
   ],
   "source": [
    "f[:, 0] = 1\n",
    "f[:, -1] = -1\n",
    "f"
   ]
  },
  {
   "cell_type": "code",
   "execution_count": 23,
   "metadata": {},
   "outputs": [
    {
     "data": {
      "text/plain": [
       "<matplotlib.axes._subplots.AxesSubplot at 0x7ff2d5c9a8b0>"
      ]
     },
     "execution_count": 23,
     "metadata": {},
     "output_type": "execute_result"
    },
    {
     "data": {
      "image/png": "[encoded data removed]",
      "text/plain": [
       "<Figure size 432x288 with 2 Axes>"
      ]
     },
     "metadata": {
      "needs_background": "light"
     },
     "output_type": "display_data"
    }
   ],
   "source": [
    "#side by side images\n",
    "fig, ax = plt.subplots(1, 2)\n",
    "\n",
    "sns.heatmap(im, annot = True, cmap = 'gray', cbar = False, square = True,\n",
    "           linewidth = 4, linecolor = 'black', ax = ax[0])\n",
    "\n",
    "\n",
    "sns.heatmap(f, annot = True, cmap = 'gray', cbar = False, square = True,\n",
    "           linewidth = 4, linecolor = 'black', ax = ax[1])\n"
   ]
  },
  {
   "cell_type": "code",
   "execution_count": 24,
   "metadata": {},
   "outputs": [
    {
     "data": {
      "text/plain": [
       "array([[6, 5, 1],\n",
       "       [7, 5, 9],\n",
       "       [9, 8, 3]])"
      ]
     },
     "execution_count": 24,
     "metadata": {},
     "output_type": "execute_result"
    }
   ],
   "source": [
    "#select upper left corner of image\n",
    "im[:3, :3]"
   ]
  },
  {
   "cell_type": "code",
   "execution_count": 25,
   "metadata": {},
   "outputs": [
    {
     "data": {
      "text/plain": [
       "9.0"
      ]
     },
     "execution_count": 25,
     "metadata": {},
     "output_type": "execute_result"
    }
   ],
   "source": [
    "#convolve\n",
    "np.sum(im[:3, :3]*f)"
   ]
  },
  {
   "cell_type": "code",
   "execution_count": 26,
   "metadata": {},
   "outputs": [],
   "source": [
    "#What is this doing?\n",
    "output = np.zeros((3, 3))\n",
    "for row in range(3):\n",
    "    for col in range(3):\n",
    "        output[row, col] = np.sum(f*im[row: row + 3, col: col + 3])"
   ]
  },
  {
   "cell_type": "code",
   "execution_count": 27,
   "metadata": {},
   "outputs": [
    {
     "data": {
      "text/plain": [
       "array([[ 9., -1., -6.],\n",
       "       [ 7.,  1.,  1.],\n",
       "       [12.,  2., -9.]])"
      ]
     },
     "execution_count": 27,
     "metadata": {},
     "output_type": "execute_result"
    }
   ],
   "source": [
    "#examine output\n",
    "output"
   ]
  },
  {
   "cell_type": "markdown",
   "metadata": {},
   "source": [
    "### Detecting Edges"
   ]
  },
  {
   "cell_type": "code",
   "execution_count": 28,
   "metadata": {},
   "outputs": [
    {
     "data": {
      "text/plain": [
       "array([[0., 0., 0., 0., 0., 0., 0., 0., 0., 0.],\n",
       "       [0., 0., 0., 0., 0., 0., 0., 0., 0., 0.],\n",
       "       [0., 0., 0., 0., 0., 0., 0., 0., 0., 0.],\n",
       "       [0., 0., 0., 0., 0., 0., 0., 0., 0., 0.],\n",
       "       [0., 0., 0., 0., 0., 0., 0., 0., 0., 0.],\n",
       "       [0., 0., 0., 0., 0., 0., 0., 0., 0., 0.],\n",
       "       [0., 0., 0., 0., 0., 0., 0., 0., 0., 0.],\n",
       "       [0., 0., 0., 0., 0., 0., 0., 0., 0., 0.],\n",
       "       [0., 0., 0., 0., 0., 0., 0., 0., 0., 0.],\n",
       "       [0., 0., 0., 0., 0., 0., 0., 0., 0., 0.]])"
      ]
     },
     "execution_count": 28,
     "metadata": {},
     "output_type": "execute_result"
    }
   ],
   "source": [
    "#10 by 10 grid\n",
    "im2 = np.zeros((10, 10))\n",
    "im2"
   ]
  },
  {
   "cell_type": "code",
   "execution_count": 29,
   "metadata": {},
   "outputs": [],
   "source": [
    "#make first half 10\n",
    "im2[:, :5] = 10"
   ]
  },
  {
   "cell_type": "code",
   "execution_count": 30,
   "metadata": {},
   "outputs": [
    {
     "data": {
      "text/plain": [
       "<matplotlib.image.AxesImage at 0x7ff2d8114b20>"
      ]
     },
     "execution_count": 30,
     "metadata": {},
     "output_type": "execute_result"
    },
    {
     "data": {
      "image/png": "[encoded data removed]",
      "text/plain": [
       "<Figure size 432x288 with 1 Axes>"
      ]
     },
     "metadata": {
      "needs_background": "light"
     },
     "output_type": "display_data"
    }
   ],
   "source": [
    "#take a look\n",
    "plt.imshow(im2, cmap = 'gray')"
   ]
  },
  {
   "cell_type": "code",
   "execution_count": 31,
   "metadata": {},
   "outputs": [],
   "source": [
    "#convolutions\n",
    "output = np.zeros((8, 8))\n",
    "for row in range(8):\n",
    "    for col in range(8):\n",
    "        output[row, col] = np.sum(f * im2[row: row + 3, col: col + 3])"
   ]
  },
  {
   "cell_type": "code",
   "execution_count": 32,
   "metadata": {},
   "outputs": [
    {
     "data": {
      "text/plain": [
       "<matplotlib.image.AxesImage at 0x7ff2d831fdc0>"
      ]
     },
     "execution_count": 32,
     "metadata": {},
     "output_type": "execute_result"
    },
    {
     "data": {
      "image/png": "[encoded data removed]",
      "text/plain": [
       "<Figure size 432x288 with 1 Axes>"
      ]
     },
     "metadata": {
      "needs_background": "light"
     },
     "output_type": "display_data"
    }
   ],
   "source": [
    "#take a look at result\n",
    "plt.imshow(output, cmap = 'gray')"
   ]
  },
  {
   "cell_type": "code",
   "execution_count": 34,
   "metadata": {},
   "outputs": [
    {
     "data": {
      "text/plain": [
       "array([[ 1.,  0., -1.],\n",
       "       [ 1.,  0., -1.],\n",
       "       [ 1.,  0., -1.]])"
      ]
     },
     "execution_count": 34,
     "metadata": {},
     "output_type": "execute_result"
    }
   ],
   "source": [
    "f"
   ]
  },
  {
   "cell_type": "markdown",
   "metadata": {},
   "source": [
    "### Edges in X-Rays\n",
    "\n",
    "**GOAL**: Formalize work from above in a class with a vertical and horizontal edge detector.  Your class should have a `.fit()` method that takes in an image and passes the edge detectors over it once, and a `.show` image that plots the image, vertical edges, and horizontal edges in a 1 x 3 grid."
   ]
  },
  {
   "cell_type": "code",
   "execution_count": 35,
   "metadata": {},
   "outputs": [],
   "source": [
    "chest = plt.imread('images/person10_bacteria_43.jpeg')"
   ]
  },
  {
   "cell_type": "code",
   "execution_count": 36,
   "metadata": {},
   "outputs": [
    {
     "data": {
      "text/plain": [
       "<matplotlib.image.AxesImage at 0x7ff2d847c850>"
      ]
     },
     "execution_count": 36,
     "metadata": {},
     "output_type": "execute_result"
    },
    {
     "data": {
      "image/png": "[encoded data removed]",
      "text/plain": [
       "<Figure size 432x288 with 1 Axes>"
      ]
     },
     "metadata": {
      "needs_background": "light"
     },
     "output_type": "display_data"
    }
   ],
   "source": [
    "plt.imshow(chest, cmap = 'gray')"
   ]
  },
  {
   "cell_type": "code",
   "execution_count": 37,
   "metadata": {},
   "outputs": [],
   "source": [
    "rows = chest.shape[0] - 2\n",
    "cols = chest.shape[1] - 2\n",
    "\n",
    "output = np.zeros((rows, cols))\n",
    "for row in range(rows):\n",
    "    for col in range(cols):\n",
    "        output[row, col] = np.sum(f * chest[row: row + 3, col: col + 3])"
   ]
  },
  {
   "cell_type": "code",
   "execution_count": 38,
   "metadata": {},
   "outputs": [
    {
     "data": {
      "text/plain": [
       "<matplotlib.image.AxesImage at 0x7ff2d68efcd0>"
      ]
     },
     "execution_count": 38,
     "metadata": {},
     "output_type": "execute_result"
    },
    {
     "data": {
      "image/png": "[encoded data removed]",
      "text/plain": [
       "<Figure size 432x288 with 1 Axes>"
      ]
     },
     "metadata": {
      "needs_background": "light"
     },
     "output_type": "display_data"
    }
   ],
   "source": [
    "plt.imshow(output, cmap = 'gray')"
   ]
  },
  {
   "cell_type": "markdown",
   "metadata": {},
   "source": [
    "### Max Pooling\n",
    "\n",
    "<center>\n",
    "<img src = https://computersciencewiki.org/images/8/8a/MaxpoolSample2.png />\n",
    "</center>"
   ]
  },
  {
   "cell_type": "markdown",
   "metadata": {},
   "source": [
    "- Selects maximum value from 2 x 2 square.  In the image above, we have a *stride* of 2.\n",
    "\n",
    "- Operation will follow convolution"
   ]
  },
  {
   "cell_type": "markdown",
   "metadata": {},
   "source": [
    "### Using keras"
   ]
  },
  {
   "cell_type": "code",
   "execution_count": 39,
   "metadata": {},
   "outputs": [],
   "source": [
    "from tensorflow.keras.layers import Flatten, Dense, Conv2D, MaxPool2D"
   ]
  },
  {
   "cell_type": "code",
   "execution_count": 48,
   "metadata": {},
   "outputs": [],
   "source": [
    "cnn_model = Sequential()\n",
    "#convolve and pool -- extracting features\n",
    "cnn_model.add(Conv2D(16, (3, 3), activation = 'relu'))\n",
    "cnn_model.add(MaxPool2D((2, 2)))\n",
    "\n",
    "\n",
    "#flatten \n",
    "cnn_model.add(Flatten())\n",
    "#feed into regular network\n",
    "cnn_model.add(Dense(100, activation = 'relu'))\n",
    "\n",
    "cnn_model.add(Dense(10, activation = 'softmax'))"
   ]
  },
  {
   "cell_type": "code",
   "execution_count": 49,
   "metadata": {},
   "outputs": [],
   "source": [
    "cnn_model.compile(loss = 'categorical_crossentropy', metrics = ['accuracy'])"
   ]
  },
  {
   "cell_type": "code",
   "execution_count": 50,
   "metadata": {},
   "outputs": [
    {
     "data": {
      "text/plain": [
       "(60000, 28, 28, 1)"
      ]
     },
     "execution_count": 50,
     "metadata": {},
     "output_type": "execute_result"
    }
   ],
   "source": [
    "x_train.reshape(60000, 28, 28, 1).shape"
   ]
  },
  {
   "cell_type": "code",
   "execution_count": 51,
   "metadata": {},
   "outputs": [
    {
     "data": {
      "text/plain": [
       "(10000, 28, 28, 1)"
      ]
     },
     "execution_count": 51,
     "metadata": {},
     "output_type": "execute_result"
    }
   ],
   "source": [
    "x_test.shape"
   ]
  },
  {
   "cell_type": "code",
   "execution_count": 52,
   "metadata": {},
   "outputs": [],
   "source": [
    "x_train = x_train.reshape(60_000, 28, 28, 1)\n",
    "x_test = x_test.reshape(10_000, 28, 28, 1)"
   ]
  },
  {
   "cell_type": "code",
   "execution_count": 53,
   "metadata": {},
   "outputs": [
    {
     "name": "stdout",
     "output_type": "stream",
     "text": [
      "Epoch 1/20\n",
      "1875/1875 [==============================] - 18s 9ms/step - loss: 1.1624 - accuracy: 0.6941 - val_loss: 0.4598 - val_accuracy: 0.8681\n",
      "Epoch 2/20\n",
      "1875/1875 [==============================] - 16s 9ms/step - loss: 0.3929 - accuracy: 0.8839 - val_loss: 0.3311 - val_accuracy: 0.9012\n",
      "Epoch 3/20\n",
      "1875/1875 [==============================] - 16s 8ms/step - loss: 0.3163 - accuracy: 0.9063 - val_loss: 0.2785 - val_accuracy: 0.9190\n",
      "Epoch 4/20\n",
      "1875/1875 [==============================] - 17s 9ms/step - loss: 0.2718 - accuracy: 0.9190 - val_loss: 0.2403 - val_accuracy: 0.9286\n",
      "Epoch 5/20\n",
      "1875/1875 [==============================] - 16s 9ms/step - loss: 0.2351 - accuracy: 0.9302 - val_loss: 0.2082 - val_accuracy: 0.9376\n",
      "Epoch 6/20\n",
      "1875/1875 [==============================] - 18s 10ms/step - loss: 0.2065 - accuracy: 0.9385 - val_loss: 0.1830 - val_accuracy: 0.9433\n",
      "Epoch 7/20\n",
      "1875/1875 [==============================] - 18s 10ms/step - loss: 0.1836 - accuracy: 0.9448 - val_loss: 0.1669 - val_accuracy: 0.9495\n",
      "Epoch 8/20\n",
      "1875/1875 [==============================] - 18s 10ms/step - loss: 0.1664 - accuracy: 0.9500 - val_loss: 0.1561 - val_accuracy: 0.9530\n",
      "Epoch 9/20\n",
      "1875/1875 [==============================] - 18s 10ms/step - loss: 0.1524 - accuracy: 0.9549 - val_loss: 0.1482 - val_accuracy: 0.9543\n",
      "Epoch 10/20\n",
      "1875/1875 [==============================] - 20s 11ms/step - loss: 0.1412 - accuracy: 0.9581 - val_loss: 0.1338 - val_accuracy: 0.9596\n",
      "Epoch 11/20\n",
      "1875/1875 [==============================] - 19s 10ms/step - loss: 0.1317 - accuracy: 0.9607 - val_loss: 0.1258 - val_accuracy: 0.9634\n",
      "Epoch 12/20\n",
      "1875/1875 [==============================] - 19s 10ms/step - loss: 0.1237 - accuracy: 0.9637 - val_loss: 0.1221 - val_accuracy: 0.9627\n",
      "Epoch 13/20\n",
      "1875/1875 [==============================] - 19s 10ms/step - loss: 0.1175 - accuracy: 0.9657 - val_loss: 0.1211 - val_accuracy: 0.9649\n",
      "Epoch 14/20\n",
      "1875/1875 [==============================] - 19s 10ms/step - loss: 0.1124 - accuracy: 0.9672 - val_loss: 0.1142 - val_accuracy: 0.9662\n",
      "Epoch 15/20\n",
      "1875/1875 [==============================] - 18s 10ms/step - loss: 0.1075 - accuracy: 0.9682 - val_loss: 0.1124 - val_accuracy: 0.9667\n",
      "Epoch 16/20\n",
      "1875/1875 [==============================] - 19s 10ms/step - loss: 0.1029 - accuracy: 0.9697 - val_loss: 0.1094 - val_accuracy: 0.9674\n",
      "Epoch 17/20\n",
      "1875/1875 [==============================] - 19s 10ms/step - loss: 0.0993 - accuracy: 0.9710 - val_loss: 0.1050 - val_accuracy: 0.9687\n",
      "Epoch 18/20\n",
      "1875/1875 [==============================] - 19s 10ms/step - loss: 0.0966 - accuracy: 0.9718 - val_loss: 0.1024 - val_accuracy: 0.9695\n",
      "Epoch 19/20\n",
      "1875/1875 [==============================] - 18s 10ms/step - loss: 0.0935 - accuracy: 0.9731 - val_loss: 0.1045 - val_accuracy: 0.9687\n",
      "Epoch 20/20\n",
      "1875/1875 [==============================] - 18s 10ms/step - loss: 0.0902 - accuracy: 0.9737 - val_loss: 0.1069 - val_accuracy: 0.9685\n"
     ]
    }
   ],
   "source": [
    "history = cnn_model.fit(x_train, y_train_ohe, validation_data=(x_test, y_test_ohe),\n",
    "             epochs = 20)"
   ]
  },
  {
   "cell_type": "code",
   "execution_count": null,
   "metadata": {},
   "outputs": [],
   "source": []
  },
  {
   "cell_type": "code",
   "execution_count": null,
   "metadata": {},
   "outputs": [],
   "source": []
  },
  {
   "cell_type": "markdown",
   "metadata": {},
   "source": [
    "### Activity: Practice with `keras`\n",
    "\n",
    "Use the `fashion_mnist` data to construct and compare a standard Artificial Neural Network and one using Convolutions.  "
   ]
  },
  {
   "cell_type": "code",
   "execution_count": 54,
   "metadata": {},
   "outputs": [],
   "source": [
    "from keras.datasets import fashion_mnist"
   ]
  },
  {
   "cell_type": "code",
   "execution_count": 59,
   "metadata": {},
   "outputs": [],
   "source": [
    "(X_train, y_train), (X_test, y_test) = fashion_mnist.load_data()"
   ]
  },
  {
   "cell_type": "code",
   "execution_count": 60,
   "metadata": {},
   "outputs": [],
   "source": [
    "X_train = np.divide(X_train, 255)\n",
    "X_test = np.divide(X_test, 255)"
   ]
  },
  {
   "cell_type": "code",
   "execution_count": 61,
   "metadata": {},
   "outputs": [],
   "source": [
    "y_train_ohe = to_categorical(y_train)\n",
    "y_test_ohe = to_categorical(y_test)"
   ]
  },
  {
   "cell_type": "code",
   "execution_count": 58,
   "metadata": {},
   "outputs": [
    {
     "data": {
      "text/plain": [
       "<matplotlib.image.AxesImage at 0x7ff2c60515e0>"
      ]
     },
     "execution_count": 58,
     "metadata": {},
     "output_type": "execute_result"
    },
    {
     "data": {
      "image/png": "[encoded data removed]",
      "text/plain": [
       "<Figure size 432x288 with 1 Axes>"
      ]
     },
     "metadata": {
      "needs_background": "light"
     },
     "output_type": "display_data"
    }
   ],
   "source": [
    "plt.imshow(X_train[0])"
   ]
  },
  {
   "cell_type": "code",
   "execution_count": 62,
   "metadata": {},
   "outputs": [],
   "source": [
    "(X_train, y_train), (X_test, y_test) = fashion_mnist.load_data()\n",
    "\n",
    "X_train = np.divide(X_train, 255)\n",
    "X_test = np.divide(X_test, 255)\n",
    "\n",
    "X_train = X_train.reshape(60_000, 28, 28, 1)\n",
    "X_test = X_test.reshape(10_000, 28, 28, 1)\n",
    "\n",
    "y_train_ohe = to_categorical(y_train)\n",
    "y_test_ohe = to_categorical(y_test)"
   ]
  },
  {
   "cell_type": "code",
   "execution_count": 63,
   "metadata": {},
   "outputs": [],
   "source": [
    "cnn_model = Sequential()\n",
    "\n",
    "cnn_model.add(Conv2D(10, (3, 3), activation = 'relu'))\n",
    "cnn_model.add(MaxPool2D((2, 2)))\n",
    "\n",
    "\n",
    "\n",
    "\n",
    "cnn_model.add(Flatten())\n",
    "\n",
    "cnn_model.add(Dense(100, activation = 'relu'))\n",
    "cnn_model.add(Dense(10, activation = 'softmax'))\n",
    "cnn_model.compile(loss = 'categorical_crossentropy', metrics = ['acc'])"
   ]
  },
  {
   "cell_type": "code",
   "execution_count": 64,
   "metadata": {},
   "outputs": [
    {
     "name": "stdout",
     "output_type": "stream",
     "text": [
      "Epoch 1/20\n",
      "1875/1875 [==============================] - 13s 7ms/step - loss: 0.4294 - acc: 0.8467 - val_loss: 0.3284 - val_acc: 0.8849\n",
      "Epoch 2/20\n",
      "1875/1875 [==============================] - 13s 7ms/step - loss: 0.2918 - acc: 0.8951 - val_loss: 0.3021 - val_acc: 0.8929\n",
      "Epoch 3/20\n",
      "1875/1875 [==============================] - 14s 7ms/step - loss: 0.2546 - acc: 0.9081 - val_loss: 0.2761 - val_acc: 0.9008\n",
      "Epoch 4/20\n",
      "1875/1875 [==============================] - 14s 8ms/step - loss: 0.2300 - acc: 0.9171 - val_loss: 0.2801 - val_acc: 0.9026\n",
      "Epoch 5/20\n",
      "1875/1875 [==============================] - 15s 8ms/step - loss: 0.2141 - acc: 0.9230 - val_loss: 0.2743 - val_acc: 0.9054\n",
      "Epoch 6/20\n",
      "1875/1875 [==============================] - 15s 8ms/step - loss: 0.2001 - acc: 0.9274 - val_loss: 0.2885 - val_acc: 0.9045\n",
      "Epoch 7/20\n",
      "1875/1875 [==============================] - 15s 8ms/step - loss: 0.1900 - acc: 0.9323 - val_loss: 0.2796 - val_acc: 0.9048\n",
      "Epoch 8/20\n",
      "1875/1875 [==============================] - 12s 6ms/step - loss: 0.1800 - acc: 0.9358 - val_loss: 0.2983 - val_acc: 0.9058\n",
      "Epoch 9/20\n",
      "1875/1875 [==============================] - 11s 6ms/step - loss: 0.1732 - acc: 0.9389 - val_loss: 0.2965 - val_acc: 0.9082\n",
      "Epoch 10/20\n",
      "1875/1875 [==============================] - 12s 6ms/step - loss: 0.1652 - acc: 0.9420 - val_loss: 0.2997 - val_acc: 0.9086\n",
      "Epoch 11/20\n",
      "1875/1875 [==============================] - 12s 6ms/step - loss: 0.1592 - acc: 0.9442 - val_loss: 0.2943 - val_acc: 0.9057\n",
      "Epoch 12/20\n",
      "1875/1875 [==============================] - 13s 7ms/step - loss: 0.1524 - acc: 0.9466 - val_loss: 0.3243 - val_acc: 0.9023\n",
      "Epoch 13/20\n",
      "1875/1875 [==============================] - 13s 7ms/step - loss: 0.1487 - acc: 0.9479 - val_loss: 0.3108 - val_acc: 0.9099\n",
      "Epoch 14/20\n",
      "1875/1875 [==============================] - 12s 7ms/step - loss: 0.1446 - acc: 0.9484 - val_loss: 0.3417 - val_acc: 0.9063\n",
      "Epoch 15/20\n",
      "1875/1875 [==============================] - 12s 6ms/step - loss: 0.1396 - acc: 0.9509 - val_loss: 0.3478 - val_acc: 0.9019\n",
      "Epoch 16/20\n",
      "1875/1875 [==============================] - 11s 6ms/step - loss: 0.1360 - acc: 0.9535 - val_loss: 0.3802 - val_acc: 0.9056\n",
      "Epoch 17/20\n",
      "1875/1875 [==============================] - 11s 6ms/step - loss: 0.1335 - acc: 0.9548 - val_loss: 0.3500 - val_acc: 0.9043\n",
      "Epoch 18/20\n",
      "1875/1875 [==============================] - 11s 6ms/step - loss: 0.1292 - acc: 0.9554 - val_loss: 0.3771 - val_acc: 0.9025\n",
      "Epoch 19/20\n",
      "1875/1875 [==============================] - 11s 6ms/step - loss: 0.1258 - acc: 0.9564 - val_loss: 0.3764 - val_acc: 0.9019\n",
      "Epoch 20/20\n",
      "1875/1875 [==============================] - 11s 6ms/step - loss: 0.1224 - acc: 0.9567 - val_loss: 0.3623 - val_acc: 0.9053\n"
     ]
    }
   ],
   "source": [
    "history = cnn_model.fit(X_train, y_train_ohe, validation_data=(X_test, y_test_ohe), epochs = 20)"
   ]
  },
  {
   "cell_type": "code",
   "execution_count": 68,
   "metadata": {},
   "outputs": [],
   "source": [
    "y_test_preds = np.argmax(cnn_model.predict(X_test), axis = 1)"
   ]
  },
  {
   "cell_type": "code",
   "execution_count": 72,
   "metadata": {},
   "outputs": [
    {
     "data": {
      "text/plain": [
       "array([1.2151999e-12, 1.5861303e-18, 1.6942406e-10, 1.1038360e-16,\n",
       "       1.4592484e-14, 8.2195539e-09, 1.5446965e-10, 1.2562038e-05,\n",
       "       1.7569070e-09, 9.9998748e-01], dtype=float32)"
      ]
     },
     "execution_count": 72,
     "metadata": {},
     "output_type": "execute_result"
    }
   ],
   "source": [
    "cnn_model.predict(X_test)[0]"
   ]
  },
  {
   "cell_type": "code",
   "execution_count": 69,
   "metadata": {},
   "outputs": [
    {
     "data": {
      "text/plain": [
       "array([9, 2, 1, ..., 8, 1, 5], dtype=uint8)"
      ]
     },
     "execution_count": 69,
     "metadata": {},
     "output_type": "execute_result"
    }
   ],
   "source": [
    "y_test"
   ]
  },
  {
   "cell_type": "code",
   "execution_count": 70,
   "metadata": {},
   "outputs": [
    {
     "data": {
      "text/plain": [
       "array([ True,  True,  True, ...,  True,  True, False])"
      ]
     },
     "execution_count": 70,
     "metadata": {},
     "output_type": "execute_result"
    }
   ],
   "source": [
    "y_test == y_test_preds"
   ]
  },
  {
   "cell_type": "code",
   "execution_count": 71,
   "metadata": {},
   "outputs": [
    {
     "data": {
      "text/plain": [
       "array([9, 2, 1, ..., 8, 1, 7])"
      ]
     },
     "execution_count": 71,
     "metadata": {},
     "output_type": "execute_result"
    }
   ],
   "source": [
    "y_test_preds"
   ]
  },
  {
   "cell_type": "code",
   "execution_count": 76,
   "metadata": {},
   "outputs": [
    {
     "data": {
      "text/plain": [
       "<matplotlib.image.AxesImage at 0x7ff2962eb730>"
      ]
     },
     "execution_count": 76,
     "metadata": {},
     "output_type": "execute_result"
    },
    {
     "data": {
      "image/png": "[encoded data removed]",
      "text/plain": [
       "<Figure size 432x288 with 1 Axes>"
      ]
     },
     "metadata": {
      "needs_background": "light"
     },
     "output_type": "display_data"
    }
   ],
   "source": [
    "plt.imshow(X_test[-1].reshape(28, 28))"
   ]
  },
  {
   "cell_type": "code",
   "execution_count": null,
   "metadata": {},
   "outputs": [],
   "source": []
  }
 ],
 "metadata": {
  "kernelspec": {
   "display_name": "Python 3",
   "language": "python",
   "name": "python3"
  },
  "language_info": {
   "codemirror_mode": {
    "name": "ipython",
    "version": 3
   },
   "file_extension": ".py",
   "mimetype": "text/x-python",
   "name": "python",
   "nbconvert_exporter": "python",
   "pygments_lexer": "ipython3",
   "version": "3.8.3"
  },
  "widgets": {
   "application/vnd.jupyter.widget-state+json": {
    "state": {},
    "version_major": 2,
    "version_minor": 0
   }
  }
 },
 "nbformat": 4,
 "nbformat_minor": 4
}
