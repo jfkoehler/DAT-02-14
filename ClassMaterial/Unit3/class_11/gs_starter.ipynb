{
 "cells": [
  {
   "cell_type": "markdown",
   "metadata": {},
   "source": [
    "<img src=\"http://imgur.com/1ZcRyrc.png\" style=\"float: left; margin: 20px; height: 55px\"> \n",
    "\n",
    "# Grid Search\n",
    "\n",
    "_By Jeff Hale, Kiefer Katovich, David Yerrington, Matt Brems, Noelle Brown_\n",
    "\n",
    "---\n",
    "\n",
    "## Learning Objectives\n",
    "By the end of this lesson students will be able to:\n",
    "\n",
    "- Understand what grid searching is\n",
    "- Use `GridSearchCV` class from sklearn to find optimal hyperparameters\n",
    "- Differentiate `cross_val_score` from `GridSearchCV`\n",
    "\n",
    "---"
   ]
  },
  {
   "cell_type": "markdown",
   "metadata": {},
   "source": [
    "## GridSearch CV\n",
    "GridSearchCV is a nifty sklearn class. 😀 \n",
    "\n",
    "It performs cross validation and searches over a bunch of parameters.\n",
    "\n",
    "It replaces the slow, verbose way of cross validation using a `for` loop with `cross_val_score`. \n",
    "\n",
    "Using `GridSearchCV` is generally the best way to optimize hyperparameters."
   ]
  },
  {
   "cell_type": "markdown",
   "metadata": {},
   "source": [
    "## Hyperparameters vs parameters.\n",
    "\n",
    "- __Definition 1 of `parameters`__: a function \"defines a parameter, and the calling code passes an argument to that parameter. You can think of the parameter as a parking space and the argument as an automobile.\" - Qutoed from MSDN in [this SO question](https://stackoverflow.com/q/1788923/4590385).\n",
    "\n",
    "When you pass them to a function they are called `arguments`. The terms _argument_ and _parameter_ are often used interchangeably.\n",
    "\n",
    "- __Definition 2 of `parameters`__: the weights in a model. For example, the $ \\beta $ values in a linear regression equation. These are the model's parameter.\n",
    "\n",
    "- `hyperparameters` are the arguments YOU CHOOSE to pass to a transformer or estimator. You tune these to improve model performance. For example, the most important hyperparameter for a scikit-learn Ridge regression model is `alpha`. \n",
    "\n",
    "\n",
    "### Just remember: YOU choose the hyperparameters."
   ]
  },
  {
   "cell_type": "markdown",
   "metadata": {},
   "source": [
    "---\n",
    "## GridSearchCV"
   ]
  },
  {
   "cell_type": "markdown",
   "metadata": {},
   "source": [
    "#### Imports"
   ]
  },
  {
   "cell_type": "code",
   "execution_count": null,
   "metadata": {},
   "outputs": [],
   "source": [
    "import pandas as pd\n",
    "import matplotlib.pyplot as plt\n",
    "import numpy as np\n",
    "\n",
    "# import sklearn classes and functions"
   ]
  },
  {
   "cell_type": "markdown",
   "metadata": {
    "colab": {},
    "colab_type": "code",
    "id": "ASLG-jUSzT5T"
   },
   "source": [
    "#### Read in the data\n",
    "\n",
    "We'll use the diamonds dataset. We want to predict `price`"
   ]
  },
  {
   "cell_type": "code",
   "execution_count": null,
   "metadata": {
    "colab": {},
    "colab_type": "code",
    "id": "ASLG-jUSzT5T",
    "tags": []
   },
   "outputs": [],
   "source": [
    "diamonds = pd.read_csv('./data/diamonds.csv')\n",
    "diamonds"
   ]
  },
  {
   "cell_type": "markdown",
   "metadata": {},
   "source": [
    "#### Inspect "
   ]
  },
  {
   "cell_type": "code",
   "execution_count": null,
   "metadata": {},
   "outputs": [],
   "source": []
  },
  {
   "cell_type": "markdown",
   "metadata": {},
   "source": [
    "`price` is what we want to predict."
   ]
  },
  {
   "cell_type": "markdown",
   "metadata": {},
   "source": [
    "#### Break into X and y\n",
    "\n",
    "Use `carat` to predict `price`"
   ]
  },
  {
   "cell_type": "code",
   "execution_count": null,
   "metadata": {},
   "outputs": [],
   "source": []
  },
  {
   "cell_type": "markdown",
   "metadata": {},
   "source": [
    "### Create holdout/test set and training/validation set with `train_test_split`"
   ]
  },
  {
   "cell_type": "code",
   "execution_count": null,
   "metadata": {
    "scrolled": true
   },
   "outputs": [],
   "source": []
  },
  {
   "cell_type": "code",
   "execution_count": null,
   "metadata": {},
   "outputs": [],
   "source": []
  },
  {
   "cell_type": "code",
   "execution_count": null,
   "metadata": {},
   "outputs": [],
   "source": []
  },
  {
   "cell_type": "code",
   "execution_count": null,
   "metadata": {},
   "outputs": [],
   "source": []
  },
  {
   "cell_type": "markdown",
   "metadata": {},
   "source": [
    " Does this step shuffle the rows?"
   ]
  },
  {
   "cell_type": "markdown",
   "metadata": {},
   "source": []
  },
  {
   "cell_type": "markdown",
   "metadata": {},
   "source": [
    "## Standardize and Scale \n",
    "\n",
    "- Instantiate\n",
    "- Fit and transform X_train\n",
    "- Transform X_test"
   ]
  },
  {
   "cell_type": "code",
   "execution_count": null,
   "metadata": {},
   "outputs": [],
   "source": []
  },
  {
   "cell_type": "code",
   "execution_count": null,
   "metadata": {},
   "outputs": [],
   "source": []
  },
  {
   "cell_type": "markdown",
   "metadata": {},
   "source": [
    "#### Say you wanted to make a Lasso model and you want to search for a good value for the hyperparameter `alpha`. How would you do that with `cross_val_score`?"
   ]
  },
  {
   "cell_type": "markdown",
   "metadata": {},
   "source": []
  },
  {
   "cell_type": "markdown",
   "metadata": {
    "colab_type": "text",
    "id": "mpLqnj8QydqS"
   },
   "source": [
    "---\n",
    "## GridSearchCV 🚀\n",
    "\n",
    "- GridSearchCV performs cross validation for multiple models with the data you fit it with. \n",
    "- It saves the best performing model and refits it on all the data you pass it.\n",
    "- You treat it like an estimator."
   ]
  },
  {
   "cell_type": "markdown",
   "metadata": {
    "colab_type": "text",
    "id": "SswTjsaI0CHa"
   },
   "source": [
    "`GridSearchCV` accepts a scikit-learn `estimator` object and a **parameter grid**.\n",
    "\n",
    "- The param grid is a dictionary. \n",
    "- The key is the name of the hyperparameter argument in scikit-learn.  \n",
    "- The value is an iterable to search over (generally a list or a range-style object).\n",
    "\n",
    "#### Q: What's an iterable?"
   ]
  },
  {
   "cell_type": "markdown",
   "metadata": {},
   "source": []
  },
  {
   "cell_type": "markdown",
   "metadata": {},
   "source": [
    "#### Let's use `GridSearchCV` with a Lasso model and different values for alpha.\n",
    "\n",
    "Note: You could get the same results with LassoCV, but GridSearchCV can be nicely combined with many algorithms and Pipelines, so I suggest sticking with GridSearchCV. "
   ]
  },
  {
   "cell_type": "markdown",
   "metadata": {
    "colab": {},
    "colab_type": "code",
    "id": "SXmLken1jV9i"
   },
   "source": [
    "#### Set up a parameter grid with several values for alpha"
   ]
  },
  {
   "cell_type": "code",
   "execution_count": null,
   "metadata": {},
   "outputs": [],
   "source": []
  },
  {
   "cell_type": "code",
   "execution_count": null,
   "metadata": {},
   "outputs": [],
   "source": []
  },
  {
   "cell_type": "markdown",
   "metadata": {
    "colab": {},
    "colab_type": "code",
    "id": "15p4l187khbX"
   },
   "source": [
    "#### Instantiate a GridSearchCV object by passing it an estimator and a param_grid."
   ]
  },
  {
   "cell_type": "code",
   "execution_count": null,
   "metadata": {
    "colab": {},
    "colab_type": "code",
    "id": "15p4l187khbX"
   },
   "outputs": [],
   "source": []
  },
  {
   "cell_type": "code",
   "execution_count": null,
   "metadata": {},
   "outputs": [],
   "source": []
  },
  {
   "cell_type": "markdown",
   "metadata": {
    "colab_type": "text",
    "id": "YUZCdrmt1OXj"
   },
   "source": [
    "### We use this GridSearch object like it's an estimator, fitting, predicting and scoreing it like normal. 🙂"
   ]
  },
  {
   "cell_type": "markdown",
   "metadata": {
    "colab": {
     "base_uri": "https://localhost:8080/",
     "height": 176
    },
    "colab_type": "code",
    "id": "mwmhzokykpVu",
    "outputId": "35d62df3-fd8c-4483-9360-0b8d531a18f4"
   },
   "source": [
    "#### Fit it on the training data"
   ]
  },
  {
   "cell_type": "code",
   "execution_count": null,
   "metadata": {
    "colab": {
     "base_uri": "https://localhost:8080/",
     "height": 176
    },
    "colab_type": "code",
    "id": "mwmhzokykpVu",
    "outputId": "35d62df3-fd8c-4483-9360-0b8d531a18f4"
   },
   "outputs": [],
   "source": []
  },
  {
   "cell_type": "markdown",
   "metadata": {
    "colab": {
     "base_uri": "https://localhost:8080/",
     "height": 34
    },
    "colab_type": "code",
    "id": "WaXZrc7kkrme",
    "outputId": "8f03dd6b-8d5a-4ad8-e816-b44e1f9456c2"
   },
   "source": [
    "#### Score on the training data"
   ]
  },
  {
   "cell_type": "code",
   "execution_count": null,
   "metadata": {
    "colab": {
     "base_uri": "https://localhost:8080/",
     "height": 34
    },
    "colab_type": "code",
    "id": "WaXZrc7kkrme",
    "outputId": "8f03dd6b-8d5a-4ad8-e816-b44e1f9456c2"
   },
   "outputs": [],
   "source": []
  },
  {
   "cell_type": "markdown",
   "metadata": {},
   "source": [
    "#### See all the results of training"
   ]
  },
  {
   "cell_type": "code",
   "execution_count": null,
   "metadata": {
    "tags": []
   },
   "outputs": [],
   "source": []
  },
  {
   "cell_type": "code",
   "execution_count": null,
   "metadata": {},
   "outputs": [],
   "source": []
  },
  {
   "cell_type": "markdown",
   "metadata": {},
   "source": [
    "#### What were the best params?"
   ]
  },
  {
   "cell_type": "code",
   "execution_count": null,
   "metadata": {},
   "outputs": [],
   "source": []
  },
  {
   "cell_type": "markdown",
   "metadata": {},
   "source": [
    "#### Make predictions for the test set"
   ]
  },
  {
   "cell_type": "code",
   "execution_count": null,
   "metadata": {},
   "outputs": [],
   "source": []
  },
  {
   "cell_type": "markdown",
   "metadata": {},
   "source": [
    "#### Score with the MAE, MSE, and RMSE on test set"
   ]
  },
  {
   "cell_type": "code",
   "execution_count": null,
   "metadata": {},
   "outputs": [],
   "source": []
  },
  {
   "cell_type": "code",
   "execution_count": null,
   "metadata": {},
   "outputs": [],
   "source": []
  },
  {
   "cell_type": "markdown",
   "metadata": {
    "colab": {
     "base_uri": "https://localhost:8080/",
     "height": 34
    },
    "colab_type": "code",
    "id": "q_-3iBZnk7UC",
    "outputId": "2b368971-d6ed-41fd-8f0c-85c5a342def0"
   },
   "source": [
    "#### Score the best model on the test data with the default scoring metric"
   ]
  },
  {
   "cell_type": "code",
   "execution_count": null,
   "metadata": {
    "colab": {
     "base_uri": "https://localhost:8080/",
     "height": 34
    },
    "colab_type": "code",
    "id": "q_-3iBZnk7UC",
    "outputId": "2b368971-d6ed-41fd-8f0c-85c5a342def0"
   },
   "outputs": [],
   "source": []
  },
  {
   "cell_type": "markdown",
   "metadata": {},
   "source": [
    "---\n",
    "# Exercise\n",
    "\n",
    "With the same X and y, use GridSearchCV with Ridge and several values of alpha. To try to speed things up by using more of your computer's processor cores pass `n_jobs=-1`. "
   ]
  },
  {
   "cell_type": "code",
   "execution_count": null,
   "metadata": {},
   "outputs": [],
   "source": []
  },
  {
   "cell_type": "markdown",
   "metadata": {},
   "source": [
    "---\n",
    "# Summary\n",
    "\n",
    "You've seen `GridSearchCV` in action. 🚀\n",
    "\n",
    "It helps you find good hyperparameters for your models. 😎\n",
    "\n",
    "#### When would you not use GridSearchCV? \n",
    "\n",
    "When it takes too long to fit. RandomizedSearchCV and other scikit-learn variants can serve you better in those cases.\n",
    "\n",
    "## Check for understanding\n",
    "\n",
    "- Why would you want to use `GridSearchCV`?\n",
    "- What do you pass `GridSearchCV`?\n",
    "- How do you specify the parameter grid?\n",
    "- How do you get the results of fitting the models?\n",
    "\n",
    "## Challenge questions\n",
    "- Does `GridSearchCV` randomize the data for cross validation? \n",
    "- How do you parallelize the grid search so that multiple models are fit simultaneously on your processor cores? \n",
    "\n",
    "`GridSearchCV` is an extremely powerful tool for your toolkit! 🛠\n"
   ]
  },
  {
   "cell_type": "code",
   "execution_count": null,
   "metadata": {},
   "outputs": [],
   "source": []
  }
 ],
 "metadata": {
  "kernelspec": {
   "display_name": "Python 3",
   "language": "python",
   "name": "python3"
  },
  "language_info": {
   "codemirror_mode": {
    "name": "ipython",
    "version": 3
   },
   "file_extension": ".py",
   "mimetype": "text/x-python",
   "name": "python",
   "nbconvert_exporter": "python",
   "pygments_lexer": "ipython3",
   "version": "3.8.3"
  }
 },
 "nbformat": 4,
 "nbformat_minor": 4
}
